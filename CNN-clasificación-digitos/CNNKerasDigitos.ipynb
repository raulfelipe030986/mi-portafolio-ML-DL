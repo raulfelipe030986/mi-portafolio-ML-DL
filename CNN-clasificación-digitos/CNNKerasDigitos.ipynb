{
 "cells": [
  {
   "cell_type": "code",
   "execution_count": 1,
   "id": "9c9dafd5",
   "metadata": {
    "ExecuteTime": {
     "end_time": "2023-05-02T01:30:18.226619Z",
     "start_time": "2023-05-02T01:30:14.051617Z"
    }
   },
   "outputs": [],
   "source": [
    "import tensorflow as tf\n",
    "import numpy as np\n",
    "\n",
    "from keras.datasets import mnist"
   ]
  },
  {
   "cell_type": "code",
   "execution_count": 2,
   "id": "69198ce5",
   "metadata": {
    "ExecuteTime": {
     "end_time": "2023-05-02T01:30:20.324294Z",
     "start_time": "2023-05-02T01:30:19.932281Z"
    }
   },
   "outputs": [],
   "source": [
    "(X_train, y_train), (X_test, y_test) = mnist.load_data()\n",
    "\n",
    "X_train = np.reshape(X_train, (-1, 28, 28, 1))/255\n",
    "X_test = np.reshape(X_test, (-1, 28, 28, 1))/255"
   ]
  },
  {
   "cell_type": "code",
   "execution_count": 18,
   "id": "85974864",
   "metadata": {
    "ExecuteTime": {
     "end_time": "2023-05-02T02:17:18.183851Z",
     "start_time": "2023-05-02T02:11:02.557437Z"
    }
   },
   "outputs": [
    {
     "name": "stdout",
     "output_type": "stream",
     "text": [
      "Model: \"sequential_14\"\n",
      "_________________________________________________________________\n",
      " Layer (type)                Output Shape              Param #   \n",
      "=================================================================\n",
      " conv2d_28 (Conv2D)          (None, 24, 24, 32)        832       \n",
      "                                                                 \n",
      " max_pooling2d_28 (MaxPoolin  (None, 12, 12, 32)       0         \n",
      " g2D)                                                            \n",
      "                                                                 \n",
      " conv2d_29 (Conv2D)          (None, 6, 6, 64)          51264     \n",
      "                                                                 \n",
      " max_pooling2d_29 (MaxPoolin  (None, 3, 3, 64)         0         \n",
      " g2D)                                                            \n",
      "                                                                 \n",
      " flatten_14 (Flatten)        (None, 576)               0         \n",
      "                                                                 \n",
      " dense_23 (Dense)            (None, 1024)              590848    \n",
      "                                                                 \n",
      " dropout_5 (Dropout)         (None, 1024)              0         \n",
      "                                                                 \n",
      " dense_24 (Dense)            (None, 10)                10250     \n",
      "                                                                 \n",
      "=================================================================\n",
      "Total params: 653,194\n",
      "Trainable params: 653,194\n",
      "Non-trainable params: 0\n",
      "_________________________________________________________________\n",
      "Epoch 1/20\n",
      "800/800 - 18s - loss: 0.5374 - acc: 0.8482 - val_loss: 0.1234 - val_acc: 0.9662 - 18s/epoch - 23ms/step\n",
      "Epoch 2/20\n",
      "800/800 - 16s - loss: 0.1440 - acc: 0.9560 - val_loss: 0.0872 - val_acc: 0.9758 - 16s/epoch - 20ms/step\n",
      "Epoch 3/20\n",
      "800/800 - 17s - loss: 0.1057 - acc: 0.9677 - val_loss: 0.0780 - val_acc: 0.9780 - 17s/epoch - 21ms/step\n",
      "Epoch 4/20\n",
      "800/800 - 17s - loss: 0.0861 - acc: 0.9741 - val_loss: 0.0638 - val_acc: 0.9815 - 17s/epoch - 21ms/step\n",
      "Epoch 5/20\n",
      "800/800 - 21s - loss: 0.0707 - acc: 0.9782 - val_loss: 0.0556 - val_acc: 0.9842 - 21s/epoch - 26ms/step\n",
      "Epoch 6/20\n",
      "800/800 - 19s - loss: 0.0635 - acc: 0.9800 - val_loss: 0.0510 - val_acc: 0.9850 - 19s/epoch - 24ms/step\n",
      "Epoch 7/20\n",
      "800/800 - 19s - loss: 0.0546 - acc: 0.9832 - val_loss: 0.0528 - val_acc: 0.9853 - 19s/epoch - 23ms/step\n",
      "Epoch 8/20\n",
      "800/800 - 19s - loss: 0.0481 - acc: 0.9847 - val_loss: 0.0453 - val_acc: 0.9880 - 19s/epoch - 24ms/step\n",
      "Epoch 9/20\n",
      "800/800 - 19s - loss: 0.0444 - acc: 0.9859 - val_loss: 0.0442 - val_acc: 0.9885 - 19s/epoch - 24ms/step\n",
      "Epoch 10/20\n",
      "800/800 - 19s - loss: 0.0425 - acc: 0.9863 - val_loss: 0.0397 - val_acc: 0.9905 - 19s/epoch - 24ms/step\n",
      "Epoch 11/20\n",
      "800/800 - 19s - loss: 0.0357 - acc: 0.9888 - val_loss: 0.0417 - val_acc: 0.9897 - 19s/epoch - 24ms/step\n",
      "Epoch 12/20\n",
      "800/800 - 19s - loss: 0.0341 - acc: 0.9890 - val_loss: 0.0372 - val_acc: 0.9898 - 19s/epoch - 23ms/step\n",
      "Epoch 13/20\n",
      "800/800 - 19s - loss: 0.0321 - acc: 0.9898 - val_loss: 0.0379 - val_acc: 0.9892 - 19s/epoch - 24ms/step\n",
      "Epoch 14/20\n",
      "800/800 - 19s - loss: 0.0270 - acc: 0.9917 - val_loss: 0.0387 - val_acc: 0.9892 - 19s/epoch - 24ms/step\n",
      "Epoch 15/20\n",
      "800/800 - 19s - loss: 0.0275 - acc: 0.9914 - val_loss: 0.0374 - val_acc: 0.9895 - 19s/epoch - 24ms/step\n",
      "Epoch 16/20\n",
      "800/800 - 19s - loss: 0.0247 - acc: 0.9922 - val_loss: 0.0403 - val_acc: 0.9880 - 19s/epoch - 24ms/step\n",
      "Epoch 17/20\n",
      "800/800 - 19s - loss: 0.0224 - acc: 0.9930 - val_loss: 0.0362 - val_acc: 0.9912 - 19s/epoch - 24ms/step\n",
      "Epoch 18/20\n",
      "800/800 - 19s - loss: 0.0214 - acc: 0.9935 - val_loss: 0.0335 - val_acc: 0.9913 - 19s/epoch - 24ms/step\n",
      "Epoch 19/20\n",
      "800/800 - 20s - loss: 0.0203 - acc: 0.9935 - val_loss: 0.0349 - val_acc: 0.9898 - 20s/epoch - 26ms/step\n",
      "Epoch 20/20\n",
      "800/800 - 19s - loss: 0.0184 - acc: 0.9942 - val_loss: 0.0325 - val_acc: 0.9915 - 19s/epoch - 24ms/step\n"
     ]
    },
    {
     "data": {
      "text/plain": [
       "<keras.callbacks.History at 0x15d89c8f040>"
      ]
     },
     "execution_count": 18,
     "metadata": {},
     "output_type": "execute_result"
    }
   ],
   "source": [
    "model = tf.keras.Sequential()\n",
    "\n",
    "model.add(tf.keras.layers.Conv2D(filters=32, \n",
    "                                 kernel_size=(5, 5), \n",
    "                                 input_shape=(28, 28, 1), \n",
    "                                 activation = 'relu', \n",
    "                                 padding = 'valid'))\n",
    "\n",
    "model.add(tf.keras.layers.MaxPooling2D())\n",
    "\n",
    "model.add(tf.keras.layers.Conv2D(filters=64, \n",
    "                                 kernel_size=(5, 5), \n",
    "                                 activation = 'relu', \n",
    "                                 padding = 'same', \n",
    "                                 strides = 2))\n",
    "\n",
    "model.add(tf.keras.layers.MaxPooling2D())\n",
    "\n",
    "model.add(tf.keras.layers.Flatten())\n",
    "\n",
    "model.add(tf.keras.layers.Dense(units = 1024, activation = 'relu'))\n",
    "\n",
    "model.add(tf.keras.layers.Dropout(.5, seed = 123))\n",
    "\n",
    "model.add(tf.keras.layers.Dense(units=10, activation='softmax'))\n",
    "\n",
    "optimizer = tf.keras.optimizers.Adam(learning_rate = 0.0001)\n",
    "\n",
    "model.compile(\n",
    "    loss='sparse_categorical_crossentropy', optimizer=optimizer, metrics=['acc']\n",
    ")\n",
    "model.summary()\n",
    "model.fit(\n",
    "    X_train, \n",
    "    y_train,\n",
    "    epochs=20,\n",
    "    verbose=2,\n",
    "    steps_per_epoch=800,\n",
    "    batch_size=64,\n",
    "    validation_split=0.1\n",
    ")"
   ]
  }
 ],
 "metadata": {
  "kernelspec": {
   "display_name": "Python 3 (ipykernel)",
   "language": "python",
   "name": "python3"
  },
  "language_info": {
   "codemirror_mode": {
    "name": "ipython",
    "version": 3
   },
   "file_extension": ".py",
   "mimetype": "text/x-python",
   "name": "python",
   "nbconvert_exporter": "python",
   "pygments_lexer": "ipython3",
   "version": "3.9.12"
  },
  "toc": {
   "base_numbering": 1,
   "nav_menu": {},
   "number_sections": true,
   "sideBar": true,
   "skip_h1_title": false,
   "title_cell": "Table of Contents",
   "title_sidebar": "Contents",
   "toc_cell": false,
   "toc_position": {},
   "toc_section_display": true,
   "toc_window_display": false
  }
 },
 "nbformat": 4,
 "nbformat_minor": 5
}
