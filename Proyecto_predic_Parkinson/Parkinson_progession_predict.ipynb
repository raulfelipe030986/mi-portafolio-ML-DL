{
  "nbformat": 4,
  "nbformat_minor": 0,
  "metadata": {
    "colab": {
      "provenance": [],
      "gpuType": "T4"
    },
    "kernelspec": {
      "name": "python3",
      "display_name": "Python 3"
    },
    "language_info": {
      "name": "python"
    },
    "accelerator": "GPU"
  },
  "cells": [
    {
      "cell_type": "markdown",
      "source": [
        "# Predicción de la progresión de la enfermedad de Parkinson\n",
        "\n",
        "## Contexto\n",
        "\n",
        "La enfermedad de Parkinson (EP) es un trastorno cerebral incapacitante que afecta los movimientos, la cognición, el sueño y otras funciones normales. Desafortunadamente, no existe una cura actual y la enfermedad empeora con el tiempo. Se estima que para 2037, 1.6 millones de personas en los EE.UU.\n",
        "tendrán la enfermedad de Parkinson, con un costo económico cercano a los $80 mil millones. Las investigaciones indican que las anomalías de proteínas o péptidos desempeñan un papel clave en la aparición y el empeoramiento de esta enfermedad. Obtener una mejor comprensión de esto, con la ayuda de la ciencia de datos, podría proporcionar pistas importantes para el desarrollo de nuevas farmacoterapias para retrasar la progresión o curar la enfermedad de Parkinson.\n",
        "\n",
        "Los esfuerzos actuales han dado como resultado datos clínicos y neurobiológicos complejos sobre más de 10 000 sujetos para un amplio intercambio con la comunidad investigadora. Se han publicado varios hallazgos importantes utilizando estos datos, pero aún faltan biomarcadores claros o curas.\n",
        "\n",
        "Los datos utilizados en este Proyecto fueron brindados por Accelerating Medicines Partnership® Parkinson's Disease (AMP®PD) las cual es una asociación público-privada entre el gobierno, la industria y organizaciones sin fines de lucro administrada a través de la Fundación de los Institutos Nacionales de Salud (FNIH). La Asociación creó la Plataforma de conocimiento de AMP PD, que incluye una caracterización molecular profunda y un perfil clínico longitudinal de pacientes con enfermedad de Parkinson, con el objetivo de identificar y validar biomarcadores de diagnóstico, pronóstico y/o progresión de la enfermedad para la enfermedad de Parkinson.\n",
        "\n",
        "En México, no existen cifras exactas de pacientes de Parkinson. Sin embargo, el Instituto Nacional de Neurología y Neurocirugía estima una prevalencia de 50 casos nuevos por cada 100 mil habitantes al año. A nivel mundial, se calcula que cuatro o cinco millones de personas mayores de 50 años puedan padecer esta enfermedad."
      ],
      "metadata": {
        "id": "jEe0r8TksFs9"
      }
    },
    {
      "cell_type": "code",
      "execution_count": null,
      "metadata": {
        "id": "o4mu1agCsDaX",
        "colab": {
          "base_uri": "https://localhost:8080/"
        },
        "outputId": "e9b4c1d4-debb-4967-e8fe-c50c7975a65a"
      },
      "outputs": [
        {
          "output_type": "stream",
          "name": "stdout",
          "text": [
            "Collecting pingouin\n",
            "  Downloading pingouin-0.5.3-py3-none-any.whl (198 kB)\n",
            "\u001b[2K     \u001b[90m━━━━━━━━━━━━━━━━━━━━━━━━━━━━━━━━━━━━━━━\u001b[0m \u001b[32m198.6/198.6 kB\u001b[0m \u001b[31m2.0 MB/s\u001b[0m eta \u001b[36m0:00:00\u001b[0m\n",
            "\u001b[?25hRequirement already satisfied: numpy>=1.19 in /usr/local/lib/python3.10/dist-packages (from pingouin) (1.23.5)\n",
            "Requirement already satisfied: scipy>=1.7 in /usr/local/lib/python3.10/dist-packages (from pingouin) (1.10.1)\n",
            "Requirement already satisfied: pandas>=1.0 in /usr/local/lib/python3.10/dist-packages (from pingouin) (1.5.3)\n",
            "Requirement already satisfied: matplotlib>=3.0.2 in /usr/local/lib/python3.10/dist-packages (from pingouin) (3.7.1)\n",
            "Requirement already satisfied: seaborn>=0.11 in /usr/local/lib/python3.10/dist-packages (from pingouin) (0.12.2)\n",
            "Requirement already satisfied: statsmodels>=0.13 in /usr/local/lib/python3.10/dist-packages (from pingouin) (0.14.0)\n",
            "Requirement already satisfied: scikit-learn in /usr/local/lib/python3.10/dist-packages (from pingouin) (1.2.2)\n",
            "Collecting pandas-flavor>=0.2.0 (from pingouin)\n",
            "  Downloading pandas_flavor-0.6.0-py3-none-any.whl (7.2 kB)\n",
            "Collecting outdated (from pingouin)\n",
            "  Downloading outdated-0.2.2-py2.py3-none-any.whl (7.5 kB)\n",
            "Requirement already satisfied: tabulate in /usr/local/lib/python3.10/dist-packages (from pingouin) (0.9.0)\n",
            "Requirement already satisfied: contourpy>=1.0.1 in /usr/local/lib/python3.10/dist-packages (from matplotlib>=3.0.2->pingouin) (1.1.0)\n",
            "Requirement already satisfied: cycler>=0.10 in /usr/local/lib/python3.10/dist-packages (from matplotlib>=3.0.2->pingouin) (0.11.0)\n",
            "Requirement already satisfied: fonttools>=4.22.0 in /usr/local/lib/python3.10/dist-packages (from matplotlib>=3.0.2->pingouin) (4.42.0)\n",
            "Requirement already satisfied: kiwisolver>=1.0.1 in /usr/local/lib/python3.10/dist-packages (from matplotlib>=3.0.2->pingouin) (1.4.4)\n",
            "Requirement already satisfied: packaging>=20.0 in /usr/local/lib/python3.10/dist-packages (from matplotlib>=3.0.2->pingouin) (23.1)\n",
            "Requirement already satisfied: pillow>=6.2.0 in /usr/local/lib/python3.10/dist-packages (from matplotlib>=3.0.2->pingouin) (9.4.0)\n",
            "Requirement already satisfied: pyparsing>=2.3.1 in /usr/local/lib/python3.10/dist-packages (from matplotlib>=3.0.2->pingouin) (3.1.1)\n",
            "Requirement already satisfied: python-dateutil>=2.7 in /usr/local/lib/python3.10/dist-packages (from matplotlib>=3.0.2->pingouin) (2.8.2)\n",
            "Requirement already satisfied: pytz>=2020.1 in /usr/local/lib/python3.10/dist-packages (from pandas>=1.0->pingouin) (2023.3)\n",
            "Requirement already satisfied: xarray in /usr/local/lib/python3.10/dist-packages (from pandas-flavor>=0.2.0->pingouin) (2023.7.0)\n",
            "Requirement already satisfied: patsy>=0.5.2 in /usr/local/lib/python3.10/dist-packages (from statsmodels>=0.13->pingouin) (0.5.3)\n",
            "Requirement already satisfied: setuptools>=44 in /usr/local/lib/python3.10/dist-packages (from outdated->pingouin) (67.7.2)\n",
            "Collecting littleutils (from outdated->pingouin)\n",
            "  Downloading littleutils-0.2.2.tar.gz (6.6 kB)\n",
            "  Preparing metadata (setup.py) ... \u001b[?25l\u001b[?25hdone\n",
            "Requirement already satisfied: requests in /usr/local/lib/python3.10/dist-packages (from outdated->pingouin) (2.31.0)\n",
            "Requirement already satisfied: joblib>=1.1.1 in /usr/local/lib/python3.10/dist-packages (from scikit-learn->pingouin) (1.3.2)\n",
            "Requirement already satisfied: threadpoolctl>=2.0.0 in /usr/local/lib/python3.10/dist-packages (from scikit-learn->pingouin) (3.2.0)\n",
            "Requirement already satisfied: six in /usr/local/lib/python3.10/dist-packages (from patsy>=0.5.2->statsmodels>=0.13->pingouin) (1.16.0)\n",
            "Requirement already satisfied: charset-normalizer<4,>=2 in /usr/local/lib/python3.10/dist-packages (from requests->outdated->pingouin) (3.2.0)\n",
            "Requirement already satisfied: idna<4,>=2.5 in /usr/local/lib/python3.10/dist-packages (from requests->outdated->pingouin) (3.4)\n",
            "Requirement already satisfied: urllib3<3,>=1.21.1 in /usr/local/lib/python3.10/dist-packages (from requests->outdated->pingouin) (2.0.4)\n",
            "Requirement already satisfied: certifi>=2017.4.17 in /usr/local/lib/python3.10/dist-packages (from requests->outdated->pingouin) (2023.7.22)\n",
            "Building wheels for collected packages: littleutils\n",
            "  Building wheel for littleutils (setup.py) ... \u001b[?25l\u001b[?25hdone\n",
            "  Created wheel for littleutils: filename=littleutils-0.2.2-py3-none-any.whl size=7029 sha256=c6250dd485285fe030377195a78b8ee1bb32553b61192916b9ae867e29ed5e63\n",
            "  Stored in directory: /root/.cache/pip/wheels/3d/fe/b0/27a9892da57472e538c7452a721a9cf463cc03cf7379889266\n",
            "Successfully built littleutils\n",
            "Installing collected packages: littleutils, outdated, pandas-flavor, pingouin\n",
            "Successfully installed littleutils-0.2.2 outdated-0.2.2 pandas-flavor-0.6.0 pingouin-0.5.3\n"
          ]
        }
      ],
      "source": [
        "## librerías utilizadas\n",
        "\n",
        "import matplotlib.pyplot as plt\n",
        "import seaborn as sns\n",
        "import pandas as pd\n",
        "import numpy as np\n",
        "import math\n",
        "from scipy import stats\n",
        "from tqdm import tqdm\n",
        "!pip install pingouin\n",
        "import pingouin as pg\n",
        "\n",
        "from sklearn.model_selection import train_test_split\n",
        "from sklearn.preprocessing import StandardScaler\n",
        "import tensorflow as tf\n",
        "import keras\n",
        "from keras import layers\n",
        "from sklearn.metrics import mean_squared_error\n",
        "\n",
        "import warnings\n",
        "warnings.filterwarnings('ignore')\n"
      ]
    },
    {
      "cell_type": "markdown",
      "source": [
        "## Carga del Dataset, limpieza de datos y análisis exploratorio de los datos."
      ],
      "metadata": {
        "id": "EBPixI-NufNc"
      }
    },
    {
      "cell_type": "code",
      "source": [
        "data_proteins = pd.read_csv(\"/content/drive/MyDrive/Data_Parkinson/train_proteins.csv\")\n",
        "data_peptides = pd.read_csv(\"/content/drive/MyDrive/Data_Parkinson/train_peptides.csv\")\n",
        "data_clinical = pd.read_csv(\"/content/drive/MyDrive/Data_Parkinson/train_clinical_data.csv\")"
      ],
      "metadata": {
        "id": "-5pR-fsZue14"
      },
      "execution_count": null,
      "outputs": []
    },
    {
      "cell_type": "markdown",
      "source": [
        "Vamos a examinar estos DataFrames en detalle. Empezemos por `data_clinical`."
      ],
      "metadata": {
        "id": "GK74iWEhxY09"
      }
    },
    {
      "cell_type": "markdown",
      "source": [
        "**Nota:**\n",
        "\n",
        "**UPDRS** es un instrumento de calificación utilizado para medir la gravedad y la progresión de la enfermedad de Parkinson en los pacientes. Cuando un paciente visita la clínica, la clínica registrará la puntuación del paciente en 4 partes de la prueba UPDRS. Estos datos se pueden encontrar en `train_clinical`. Las calificaciones para los primeros 4 segmentos de UPDRS están disponibles como `updrs_1`, `updrs_2`, `updrs_3` y `updrs_4` en `train_clinical`. *Nuestro objetivo es entrenar un modelo para predecir estas calificaciones UPDRS.*"
      ],
      "metadata": {
        "id": "nC1wW5ptyLEp"
      }
    },
    {
      "cell_type": "markdown",
      "source": [
        "Las variables guardadas en el DataFrame son:\n",
        "\n",
        "* `visit_id`: ID de la visita del paciente.\n",
        "* `visit_month`: El mes de la visita, relativo a la primera visita del paciente.\n",
        "* `patient_id`: ID del paciente.\n",
        "* `updrs_[1-4]`: La puntuación del paciente para la parte N de la [Escala unificada de calificación de la enfermedad de Parkinson](https://www.movementdisorders.org/MDS/MDS-Rating-Scales/MDS-Unified-Parkinsons-Disease-Rating-Scale-MDS-UPDRS.htm). Los números más altos indican síntomas más graves. Cada subsección cubre una categoría distinta de síntomas, como el estado de ánimo y el comportamiento para la Parte 1 y las funciones motoras para la Parte 3.\n",
        "\n",
        "* `upd23b_clinical_state_on_medication`: Si el paciente estaba tomando o no medicamentos como Levodopa durante la evaluación UPDRS. Se espera que afecte principalmente las puntuaciones de la Parte 3 (función motora). Estos medicamentos desaparecen con bastante rapidez (del orden de un día), por lo que es común que los pacientes se hagan el examen de función motora dos veces en un solo mes, con y sin medicación."
      ],
      "metadata": {
        "id": "jgCgUi2hz-JT"
      }
    },
    {
      "cell_type": "code",
      "source": [
        "data_clinical.head()"
      ],
      "metadata": {
        "colab": {
          "base_uri": "https://localhost:8080/",
          "height": 206
        },
        "id": "qnFE4NuPxfgj",
        "outputId": "f602b2c5-edfd-49dd-8a14-52fe6214c5fa"
      },
      "execution_count": null,
      "outputs": [
        {
          "output_type": "execute_result",
          "data": {
            "text/plain": [
              "  visit_id  patient_id  visit_month  updrs_1  updrs_2  updrs_3  updrs_4  \\\n",
              "0     55_0          55            0     10.0      6.0     15.0      NaN   \n",
              "1     55_3          55            3     10.0      7.0     25.0      NaN   \n",
              "2     55_6          55            6      8.0     10.0     34.0      NaN   \n",
              "3     55_9          55            9      8.0      9.0     30.0      0.0   \n",
              "4    55_12          55           12     10.0     10.0     41.0      0.0   \n",
              "\n",
              "  upd23b_clinical_state_on_medication  \n",
              "0                                 NaN  \n",
              "1                                 NaN  \n",
              "2                                 NaN  \n",
              "3                                  On  \n",
              "4                                  On  "
            ],
            "text/html": [
              "\n",
              "\n",
              "  <div id=\"df-b3ad2d0f-4061-49b1-a84d-e5dc01836f75\">\n",
              "    <div class=\"colab-df-container\">\n",
              "      <div>\n",
              "<style scoped>\n",
              "    .dataframe tbody tr th:only-of-type {\n",
              "        vertical-align: middle;\n",
              "    }\n",
              "\n",
              "    .dataframe tbody tr th {\n",
              "        vertical-align: top;\n",
              "    }\n",
              "\n",
              "    .dataframe thead th {\n",
              "        text-align: right;\n",
              "    }\n",
              "</style>\n",
              "<table border=\"1\" class=\"dataframe\">\n",
              "  <thead>\n",
              "    <tr style=\"text-align: right;\">\n",
              "      <th></th>\n",
              "      <th>visit_id</th>\n",
              "      <th>patient_id</th>\n",
              "      <th>visit_month</th>\n",
              "      <th>updrs_1</th>\n",
              "      <th>updrs_2</th>\n",
              "      <th>updrs_3</th>\n",
              "      <th>updrs_4</th>\n",
              "      <th>upd23b_clinical_state_on_medication</th>\n",
              "    </tr>\n",
              "  </thead>\n",
              "  <tbody>\n",
              "    <tr>\n",
              "      <th>0</th>\n",
              "      <td>55_0</td>\n",
              "      <td>55</td>\n",
              "      <td>0</td>\n",
              "      <td>10.0</td>\n",
              "      <td>6.0</td>\n",
              "      <td>15.0</td>\n",
              "      <td>NaN</td>\n",
              "      <td>NaN</td>\n",
              "    </tr>\n",
              "    <tr>\n",
              "      <th>1</th>\n",
              "      <td>55_3</td>\n",
              "      <td>55</td>\n",
              "      <td>3</td>\n",
              "      <td>10.0</td>\n",
              "      <td>7.0</td>\n",
              "      <td>25.0</td>\n",
              "      <td>NaN</td>\n",
              "      <td>NaN</td>\n",
              "    </tr>\n",
              "    <tr>\n",
              "      <th>2</th>\n",
              "      <td>55_6</td>\n",
              "      <td>55</td>\n",
              "      <td>6</td>\n",
              "      <td>8.0</td>\n",
              "      <td>10.0</td>\n",
              "      <td>34.0</td>\n",
              "      <td>NaN</td>\n",
              "      <td>NaN</td>\n",
              "    </tr>\n",
              "    <tr>\n",
              "      <th>3</th>\n",
              "      <td>55_9</td>\n",
              "      <td>55</td>\n",
              "      <td>9</td>\n",
              "      <td>8.0</td>\n",
              "      <td>9.0</td>\n",
              "      <td>30.0</td>\n",
              "      <td>0.0</td>\n",
              "      <td>On</td>\n",
              "    </tr>\n",
              "    <tr>\n",
              "      <th>4</th>\n",
              "      <td>55_12</td>\n",
              "      <td>55</td>\n",
              "      <td>12</td>\n",
              "      <td>10.0</td>\n",
              "      <td>10.0</td>\n",
              "      <td>41.0</td>\n",
              "      <td>0.0</td>\n",
              "      <td>On</td>\n",
              "    </tr>\n",
              "  </tbody>\n",
              "</table>\n",
              "</div>\n",
              "      <button class=\"colab-df-convert\" onclick=\"convertToInteractive('df-b3ad2d0f-4061-49b1-a84d-e5dc01836f75')\"\n",
              "              title=\"Convert this dataframe to an interactive table.\"\n",
              "              style=\"display:none;\">\n",
              "\n",
              "  <svg xmlns=\"http://www.w3.org/2000/svg\" height=\"24px\"viewBox=\"0 0 24 24\"\n",
              "       width=\"24px\">\n",
              "    <path d=\"M0 0h24v24H0V0z\" fill=\"none\"/>\n",
              "    <path d=\"M18.56 5.44l.94 2.06.94-2.06 2.06-.94-2.06-.94-.94-2.06-.94 2.06-2.06.94zm-11 1L8.5 8.5l.94-2.06 2.06-.94-2.06-.94L8.5 2.5l-.94 2.06-2.06.94zm10 10l.94 2.06.94-2.06 2.06-.94-2.06-.94-.94-2.06-.94 2.06-2.06.94z\"/><path d=\"M17.41 7.96l-1.37-1.37c-.4-.4-.92-.59-1.43-.59-.52 0-1.04.2-1.43.59L10.3 9.45l-7.72 7.72c-.78.78-.78 2.05 0 2.83L4 21.41c.39.39.9.59 1.41.59.51 0 1.02-.2 1.41-.59l7.78-7.78 2.81-2.81c.8-.78.8-2.07 0-2.86zM5.41 20L4 18.59l7.72-7.72 1.47 1.35L5.41 20z\"/>\n",
              "  </svg>\n",
              "      </button>\n",
              "\n",
              "\n",
              "\n",
              "    <div id=\"df-c54d71c5-0426-4a10-bc19-bc3ed883d91e\">\n",
              "      <button class=\"colab-df-quickchart\" onclick=\"quickchart('df-c54d71c5-0426-4a10-bc19-bc3ed883d91e')\"\n",
              "              title=\"Suggest charts.\"\n",
              "              style=\"display:none;\">\n",
              "\n",
              "<svg xmlns=\"http://www.w3.org/2000/svg\" height=\"24px\"viewBox=\"0 0 24 24\"\n",
              "     width=\"24px\">\n",
              "    <g>\n",
              "        <path d=\"M19 3H5c-1.1 0-2 .9-2 2v14c0 1.1.9 2 2 2h14c1.1 0 2-.9 2-2V5c0-1.1-.9-2-2-2zM9 17H7v-7h2v7zm4 0h-2V7h2v10zm4 0h-2v-4h2v4z\"/>\n",
              "    </g>\n",
              "</svg>\n",
              "      </button>\n",
              "    </div>\n",
              "\n",
              "<style>\n",
              "  .colab-df-quickchart {\n",
              "    background-color: #E8F0FE;\n",
              "    border: none;\n",
              "    border-radius: 50%;\n",
              "    cursor: pointer;\n",
              "    display: none;\n",
              "    fill: #1967D2;\n",
              "    height: 32px;\n",
              "    padding: 0 0 0 0;\n",
              "    width: 32px;\n",
              "  }\n",
              "\n",
              "  .colab-df-quickchart:hover {\n",
              "    background-color: #E2EBFA;\n",
              "    box-shadow: 0px 1px 2px rgba(60, 64, 67, 0.3), 0px 1px 3px 1px rgba(60, 64, 67, 0.15);\n",
              "    fill: #174EA6;\n",
              "  }\n",
              "\n",
              "  [theme=dark] .colab-df-quickchart {\n",
              "    background-color: #3B4455;\n",
              "    fill: #D2E3FC;\n",
              "  }\n",
              "\n",
              "  [theme=dark] .colab-df-quickchart:hover {\n",
              "    background-color: #434B5C;\n",
              "    box-shadow: 0px 1px 3px 1px rgba(0, 0, 0, 0.15);\n",
              "    filter: drop-shadow(0px 1px 2px rgba(0, 0, 0, 0.3));\n",
              "    fill: #FFFFFF;\n",
              "  }\n",
              "</style>\n",
              "\n",
              "    <script>\n",
              "      async function quickchart(key) {\n",
              "        const containerElement = document.querySelector('#' + key);\n",
              "        const charts = await google.colab.kernel.invokeFunction(\n",
              "            'suggestCharts', [key], {});\n",
              "      }\n",
              "    </script>\n",
              "\n",
              "      <script>\n",
              "\n",
              "function displayQuickchartButton(domScope) {\n",
              "  let quickchartButtonEl =\n",
              "    domScope.querySelector('#df-c54d71c5-0426-4a10-bc19-bc3ed883d91e button.colab-df-quickchart');\n",
              "  quickchartButtonEl.style.display =\n",
              "    google.colab.kernel.accessAllowed ? 'block' : 'none';\n",
              "}\n",
              "\n",
              "        displayQuickchartButton(document);\n",
              "      </script>\n",
              "      <style>\n",
              "    .colab-df-container {\n",
              "      display:flex;\n",
              "      flex-wrap:wrap;\n",
              "      gap: 12px;\n",
              "    }\n",
              "\n",
              "    .colab-df-convert {\n",
              "      background-color: #E8F0FE;\n",
              "      border: none;\n",
              "      border-radius: 50%;\n",
              "      cursor: pointer;\n",
              "      display: none;\n",
              "      fill: #1967D2;\n",
              "      height: 32px;\n",
              "      padding: 0 0 0 0;\n",
              "      width: 32px;\n",
              "    }\n",
              "\n",
              "    .colab-df-convert:hover {\n",
              "      background-color: #E2EBFA;\n",
              "      box-shadow: 0px 1px 2px rgba(60, 64, 67, 0.3), 0px 1px 3px 1px rgba(60, 64, 67, 0.15);\n",
              "      fill: #174EA6;\n",
              "    }\n",
              "\n",
              "    [theme=dark] .colab-df-convert {\n",
              "      background-color: #3B4455;\n",
              "      fill: #D2E3FC;\n",
              "    }\n",
              "\n",
              "    [theme=dark] .colab-df-convert:hover {\n",
              "      background-color: #434B5C;\n",
              "      box-shadow: 0px 1px 3px 1px rgba(0, 0, 0, 0.15);\n",
              "      filter: drop-shadow(0px 1px 2px rgba(0, 0, 0, 0.3));\n",
              "      fill: #FFFFFF;\n",
              "    }\n",
              "  </style>\n",
              "\n",
              "      <script>\n",
              "        const buttonEl =\n",
              "          document.querySelector('#df-b3ad2d0f-4061-49b1-a84d-e5dc01836f75 button.colab-df-convert');\n",
              "        buttonEl.style.display =\n",
              "          google.colab.kernel.accessAllowed ? 'block' : 'none';\n",
              "\n",
              "        async function convertToInteractive(key) {\n",
              "          const element = document.querySelector('#df-b3ad2d0f-4061-49b1-a84d-e5dc01836f75');\n",
              "          const dataTable =\n",
              "            await google.colab.kernel.invokeFunction('convertToInteractive',\n",
              "                                                     [key], {});\n",
              "          if (!dataTable) return;\n",
              "\n",
              "          const docLinkHtml = 'Like what you see? Visit the ' +\n",
              "            '<a target=\"_blank\" href=https://colab.research.google.com/notebooks/data_table.ipynb>data table notebook</a>'\n",
              "            + ' to learn more about interactive tables.';\n",
              "          element.innerHTML = '';\n",
              "          dataTable['output_type'] = 'display_data';\n",
              "          await google.colab.output.renderOutput(dataTable, element);\n",
              "          const docLink = document.createElement('div');\n",
              "          docLink.innerHTML = docLinkHtml;\n",
              "          element.appendChild(docLink);\n",
              "        }\n",
              "      </script>\n",
              "    </div>\n",
              "  </div>\n"
            ]
          },
          "metadata": {},
          "execution_count": 3
        }
      ]
    },
    {
      "cell_type": "code",
      "source": [
        "data_clinical.info()"
      ],
      "metadata": {
        "colab": {
          "base_uri": "https://localhost:8080/"
        },
        "id": "eejgoXsf4Htx",
        "outputId": "3ccc6f10-af4e-4325-95bc-afd05d653648"
      },
      "execution_count": null,
      "outputs": [
        {
          "output_type": "stream",
          "name": "stdout",
          "text": [
            "<class 'pandas.core.frame.DataFrame'>\n",
            "RangeIndex: 2615 entries, 0 to 2614\n",
            "Data columns (total 8 columns):\n",
            " #   Column                               Non-Null Count  Dtype  \n",
            "---  ------                               --------------  -----  \n",
            " 0   visit_id                             2615 non-null   object \n",
            " 1   patient_id                           2615 non-null   int64  \n",
            " 2   visit_month                          2615 non-null   int64  \n",
            " 3   updrs_1                              2614 non-null   float64\n",
            " 4   updrs_2                              2613 non-null   float64\n",
            " 5   updrs_3                              2590 non-null   float64\n",
            " 6   updrs_4                              1577 non-null   float64\n",
            " 7   upd23b_clinical_state_on_medication  1288 non-null   object \n",
            "dtypes: float64(4), int64(2), object(2)\n",
            "memory usage: 163.6+ KB\n"
          ]
        }
      ]
    },
    {
      "cell_type": "code",
      "source": [
        "print(data_clinical.shape)\n",
        "initial_obs = data_clinical.shape[0]"
      ],
      "metadata": {
        "colab": {
          "base_uri": "https://localhost:8080/"
        },
        "id": "7IzbnAUNyqVA",
        "outputId": "2511bed5-b925-4e0f-e771-ef2d9d897127"
      },
      "execution_count": null,
      "outputs": [
        {
          "output_type": "stream",
          "name": "stdout",
          "text": [
            "(2615, 8)\n"
          ]
        }
      ]
    },
    {
      "cell_type": "code",
      "source": [
        "num_patient = len(data_clinical['patient_id'].unique())\n",
        "\n",
        "print(f'En la tabla se tiene información de {num_patient} pacientes.')"
      ],
      "metadata": {
        "colab": {
          "base_uri": "https://localhost:8080/"
        },
        "id": "L1i7Jtdpz0fc",
        "outputId": "b298a36e-0710-4893-b706-aaca66d5fe2e"
      },
      "execution_count": null,
      "outputs": [
        {
          "output_type": "stream",
          "name": "stdout",
          "text": [
            "En la tabla se tiene información de 248 pacientes.\n"
          ]
        }
      ]
    },
    {
      "cell_type": "markdown",
      "source": [
        "En `data_clinical` nosotros encontramos **8 columnas** y **2615 entradas**. Además, observamos que existen valores perdidos en la variable `updrs_4` y en la variable `upd23b_clinical_state_on_medication`."
      ],
      "metadata": {
        "id": "aM_TpqRky10m"
      }
    },
    {
      "cell_type": "code",
      "source": [
        "(data_clinical.isna().sum()/data_clinical.shape[0])*100"
      ],
      "metadata": {
        "colab": {
          "base_uri": "https://localhost:8080/"
        },
        "id": "yquswtT-4CLE",
        "outputId": "8c69a36c-b2fd-4873-ef57-c9598ab6e314"
      },
      "execution_count": null,
      "outputs": [
        {
          "output_type": "execute_result",
          "data": {
            "text/plain": [
              "visit_id                                0.000000\n",
              "patient_id                              0.000000\n",
              "visit_month                             0.000000\n",
              "updrs_1                                 0.038241\n",
              "updrs_2                                 0.076482\n",
              "updrs_3                                 0.956023\n",
              "updrs_4                                39.694073\n",
              "upd23b_clinical_state_on_medication    50.745698\n",
              "dtype: float64"
            ]
          },
          "metadata": {},
          "execution_count": 7
        }
      ]
    },
    {
      "cell_type": "markdown",
      "source": [
        "**Nota:**\n",
        "\n",
        "En efecto, encontramos valores perdidos en todas las variables que se miden. Los casos más problemáticos son las variables `updrs_4` y `upd23b_clinical_state_on_medication` que tienen un **40%** y **51%** de datos perdidos respectivamente."
      ],
      "metadata": {
        "id": "yG8DxLyO4_SM"
      }
    },
    {
      "cell_type": "code",
      "source": [
        "both_miss = data_clinical[(data_clinical['updrs_4'].isna()) & (data_clinical['upd23b_clinical_state_on_medication'].isna())].shape[0]\n",
        "updrs_4_miss = data_clinical['updrs_4'].isna().sum()\n",
        "upd23b_miss = data_clinical['upd23b_clinical_state_on_medication'].isna().sum()\n",
        "\n",
        "print('Cantidad de observaciones con valores perdidos en ambas variables:', both_miss)\n",
        "print('Cantidad de observaciones con valores perdidos en updrs_4:', updrs_4_miss)\n",
        "print('Cantidad de observaciones con valores perdidos en upd23b_clinical_state_on_medication:', upd23b_miss)"
      ],
      "metadata": {
        "colab": {
          "base_uri": "https://localhost:8080/"
        },
        "id": "KJAxNnGs4-Iy",
        "outputId": "614a3e30-c53b-4b09-f6f6-9c1007f743e8"
      },
      "execution_count": null,
      "outputs": [
        {
          "output_type": "stream",
          "name": "stdout",
          "text": [
            "Cantidad de observaciones con valores perdidos en ambas variables: 1016\n",
            "Cantidad de observaciones con valores perdidos en updrs_4: 1038\n",
            "Cantidad de observaciones con valores perdidos en upd23b_clinical_state_on_medication: 1327\n"
          ]
        }
      ]
    },
    {
      "cell_type": "markdown",
      "source": [
        "**Nota:**\n",
        "\n",
        "La mayoría de las observaciones con valores perdidos en alguna de las dos variables, lo tienen en ambas, lo que puede significar que los hechos de que haya valores perdidos en alguna de las variables están correlacionado."
      ],
      "metadata": {
        "id": "sYHJp4_97eDX"
      }
    },
    {
      "cell_type": "code",
      "source": [
        "c = ~(data_clinical['upd23b_clinical_state_on_medication'].isna())\n",
        "data_clinical['upd23b_clinical_state_on_medication'] = data_clinical['upd23b_clinical_state_on_medication'].where(c, 'N/A')"
      ],
      "metadata": {
        "id": "A7AfxpffCC0S"
      },
      "execution_count": null,
      "outputs": []
    },
    {
      "cell_type": "code",
      "source": [
        "data_clinical['upd23b_clinical_state_on_medication'].value_counts(normalize = True)*100"
      ],
      "metadata": {
        "colab": {
          "base_uri": "https://localhost:8080/"
        },
        "id": "WnUMM5GAD4CH",
        "outputId": "67b474b5-9f7f-4cb7-c904-ab6a2e83cb0e"
      },
      "execution_count": null,
      "outputs": [
        {
          "output_type": "execute_result",
          "data": {
            "text/plain": [
              "N/A    50.745698\n",
              "On     29.636711\n",
              "Off    19.617591\n",
              "Name: upd23b_clinical_state_on_medication, dtype: float64"
            ]
          },
          "metadata": {},
          "execution_count": 10
        }
      ]
    },
    {
      "cell_type": "code",
      "source": [
        "data_clinical = data_clinical.dropna(subset = ['updrs_1', 'updrs_2', 'updrs_3']).reset_index(drop = True)"
      ],
      "metadata": {
        "id": "gwNWKBh8wtlB"
      },
      "execution_count": null,
      "outputs": []
    },
    {
      "cell_type": "code",
      "source": [
        "drop_obs = data_clinical.shape[0]\n",
        "per_drop = (initial_obs - drop_obs)/initial_obs*100\n",
        "print(f'El porcentaje de observaciones eliminadas fue {per_drop}.')"
      ],
      "metadata": {
        "colab": {
          "base_uri": "https://localhost:8080/"
        },
        "id": "m0S14G9VBOFM",
        "outputId": "d1bd976c-9141-4400-d600-89e2ceaa6e4c"
      },
      "execution_count": null,
      "outputs": [
        {
          "output_type": "stream",
          "name": "stdout",
          "text": [
            "El porcentaje de observaciones eliminadas fue 1.0325047801147227.\n"
          ]
        }
      ]
    },
    {
      "cell_type": "code",
      "source": [
        "data_clinical.groupby('upd23b_clinical_state_on_medication')['updrs_3'].describe()"
      ],
      "metadata": {
        "colab": {
          "base_uri": "https://localhost:8080/",
          "height": 174
        },
        "id": "dSmgGEVSHTBC",
        "outputId": "10d11ea6-911c-49a8-e948-3113bda5efe5"
      },
      "execution_count": null,
      "outputs": [
        {
          "output_type": "execute_result",
          "data": {
            "text/plain": [
              "                                      count       mean        std  min   25%  \\\n",
              "upd23b_clinical_state_on_medication                                            \n",
              "N/A                                  1308.0  12.036697  12.862710  0.0   1.0   \n",
              "Off                                   513.0  30.871345  12.229216  1.0  22.0   \n",
              "On                                    767.0  24.368970  13.122469  1.0  15.0   \n",
              "\n",
              "                                      50%   75%   max  \n",
              "upd23b_clinical_state_on_medication                    \n",
              "N/A                                   7.0  21.0  68.0  \n",
              "Off                                  30.0  38.0  78.0  \n",
              "On                                   22.0  31.0  86.0  "
            ],
            "text/html": [
              "\n",
              "\n",
              "  <div id=\"df-dc932a12-3973-4a99-bb87-4e7add6fe18d\">\n",
              "    <div class=\"colab-df-container\">\n",
              "      <div>\n",
              "<style scoped>\n",
              "    .dataframe tbody tr th:only-of-type {\n",
              "        vertical-align: middle;\n",
              "    }\n",
              "\n",
              "    .dataframe tbody tr th {\n",
              "        vertical-align: top;\n",
              "    }\n",
              "\n",
              "    .dataframe thead th {\n",
              "        text-align: right;\n",
              "    }\n",
              "</style>\n",
              "<table border=\"1\" class=\"dataframe\">\n",
              "  <thead>\n",
              "    <tr style=\"text-align: right;\">\n",
              "      <th></th>\n",
              "      <th>count</th>\n",
              "      <th>mean</th>\n",
              "      <th>std</th>\n",
              "      <th>min</th>\n",
              "      <th>25%</th>\n",
              "      <th>50%</th>\n",
              "      <th>75%</th>\n",
              "      <th>max</th>\n",
              "    </tr>\n",
              "    <tr>\n",
              "      <th>upd23b_clinical_state_on_medication</th>\n",
              "      <th></th>\n",
              "      <th></th>\n",
              "      <th></th>\n",
              "      <th></th>\n",
              "      <th></th>\n",
              "      <th></th>\n",
              "      <th></th>\n",
              "      <th></th>\n",
              "    </tr>\n",
              "  </thead>\n",
              "  <tbody>\n",
              "    <tr>\n",
              "      <th>N/A</th>\n",
              "      <td>1308.0</td>\n",
              "      <td>12.036697</td>\n",
              "      <td>12.862710</td>\n",
              "      <td>0.0</td>\n",
              "      <td>1.0</td>\n",
              "      <td>7.0</td>\n",
              "      <td>21.0</td>\n",
              "      <td>68.0</td>\n",
              "    </tr>\n",
              "    <tr>\n",
              "      <th>Off</th>\n",
              "      <td>513.0</td>\n",
              "      <td>30.871345</td>\n",
              "      <td>12.229216</td>\n",
              "      <td>1.0</td>\n",
              "      <td>22.0</td>\n",
              "      <td>30.0</td>\n",
              "      <td>38.0</td>\n",
              "      <td>78.0</td>\n",
              "    </tr>\n",
              "    <tr>\n",
              "      <th>On</th>\n",
              "      <td>767.0</td>\n",
              "      <td>24.368970</td>\n",
              "      <td>13.122469</td>\n",
              "      <td>1.0</td>\n",
              "      <td>15.0</td>\n",
              "      <td>22.0</td>\n",
              "      <td>31.0</td>\n",
              "      <td>86.0</td>\n",
              "    </tr>\n",
              "  </tbody>\n",
              "</table>\n",
              "</div>\n",
              "      <button class=\"colab-df-convert\" onclick=\"convertToInteractive('df-dc932a12-3973-4a99-bb87-4e7add6fe18d')\"\n",
              "              title=\"Convert this dataframe to an interactive table.\"\n",
              "              style=\"display:none;\">\n",
              "\n",
              "  <svg xmlns=\"http://www.w3.org/2000/svg\" height=\"24px\"viewBox=\"0 0 24 24\"\n",
              "       width=\"24px\">\n",
              "    <path d=\"M0 0h24v24H0V0z\" fill=\"none\"/>\n",
              "    <path d=\"M18.56 5.44l.94 2.06.94-2.06 2.06-.94-2.06-.94-.94-2.06-.94 2.06-2.06.94zm-11 1L8.5 8.5l.94-2.06 2.06-.94-2.06-.94L8.5 2.5l-.94 2.06-2.06.94zm10 10l.94 2.06.94-2.06 2.06-.94-2.06-.94-.94-2.06-.94 2.06-2.06.94z\"/><path d=\"M17.41 7.96l-1.37-1.37c-.4-.4-.92-.59-1.43-.59-.52 0-1.04.2-1.43.59L10.3 9.45l-7.72 7.72c-.78.78-.78 2.05 0 2.83L4 21.41c.39.39.9.59 1.41.59.51 0 1.02-.2 1.41-.59l7.78-7.78 2.81-2.81c.8-.78.8-2.07 0-2.86zM5.41 20L4 18.59l7.72-7.72 1.47 1.35L5.41 20z\"/>\n",
              "  </svg>\n",
              "      </button>\n",
              "\n",
              "\n",
              "\n",
              "    <div id=\"df-9d088f70-df85-4ed0-8ddb-2950ed0132a1\">\n",
              "      <button class=\"colab-df-quickchart\" onclick=\"quickchart('df-9d088f70-df85-4ed0-8ddb-2950ed0132a1')\"\n",
              "              title=\"Suggest charts.\"\n",
              "              style=\"display:none;\">\n",
              "\n",
              "<svg xmlns=\"http://www.w3.org/2000/svg\" height=\"24px\"viewBox=\"0 0 24 24\"\n",
              "     width=\"24px\">\n",
              "    <g>\n",
              "        <path d=\"M19 3H5c-1.1 0-2 .9-2 2v14c0 1.1.9 2 2 2h14c1.1 0 2-.9 2-2V5c0-1.1-.9-2-2-2zM9 17H7v-7h2v7zm4 0h-2V7h2v10zm4 0h-2v-4h2v4z\"/>\n",
              "    </g>\n",
              "</svg>\n",
              "      </button>\n",
              "    </div>\n",
              "\n",
              "<style>\n",
              "  .colab-df-quickchart {\n",
              "    background-color: #E8F0FE;\n",
              "    border: none;\n",
              "    border-radius: 50%;\n",
              "    cursor: pointer;\n",
              "    display: none;\n",
              "    fill: #1967D2;\n",
              "    height: 32px;\n",
              "    padding: 0 0 0 0;\n",
              "    width: 32px;\n",
              "  }\n",
              "\n",
              "  .colab-df-quickchart:hover {\n",
              "    background-color: #E2EBFA;\n",
              "    box-shadow: 0px 1px 2px rgba(60, 64, 67, 0.3), 0px 1px 3px 1px rgba(60, 64, 67, 0.15);\n",
              "    fill: #174EA6;\n",
              "  }\n",
              "\n",
              "  [theme=dark] .colab-df-quickchart {\n",
              "    background-color: #3B4455;\n",
              "    fill: #D2E3FC;\n",
              "  }\n",
              "\n",
              "  [theme=dark] .colab-df-quickchart:hover {\n",
              "    background-color: #434B5C;\n",
              "    box-shadow: 0px 1px 3px 1px rgba(0, 0, 0, 0.15);\n",
              "    filter: drop-shadow(0px 1px 2px rgba(0, 0, 0, 0.3));\n",
              "    fill: #FFFFFF;\n",
              "  }\n",
              "</style>\n",
              "\n",
              "    <script>\n",
              "      async function quickchart(key) {\n",
              "        const containerElement = document.querySelector('#' + key);\n",
              "        const charts = await google.colab.kernel.invokeFunction(\n",
              "            'suggestCharts', [key], {});\n",
              "      }\n",
              "    </script>\n",
              "\n",
              "      <script>\n",
              "\n",
              "function displayQuickchartButton(domScope) {\n",
              "  let quickchartButtonEl =\n",
              "    domScope.querySelector('#df-9d088f70-df85-4ed0-8ddb-2950ed0132a1 button.colab-df-quickchart');\n",
              "  quickchartButtonEl.style.display =\n",
              "    google.colab.kernel.accessAllowed ? 'block' : 'none';\n",
              "}\n",
              "\n",
              "        displayQuickchartButton(document);\n",
              "      </script>\n",
              "      <style>\n",
              "    .colab-df-container {\n",
              "      display:flex;\n",
              "      flex-wrap:wrap;\n",
              "      gap: 12px;\n",
              "    }\n",
              "\n",
              "    .colab-df-convert {\n",
              "      background-color: #E8F0FE;\n",
              "      border: none;\n",
              "      border-radius: 50%;\n",
              "      cursor: pointer;\n",
              "      display: none;\n",
              "      fill: #1967D2;\n",
              "      height: 32px;\n",
              "      padding: 0 0 0 0;\n",
              "      width: 32px;\n",
              "    }\n",
              "\n",
              "    .colab-df-convert:hover {\n",
              "      background-color: #E2EBFA;\n",
              "      box-shadow: 0px 1px 2px rgba(60, 64, 67, 0.3), 0px 1px 3px 1px rgba(60, 64, 67, 0.15);\n",
              "      fill: #174EA6;\n",
              "    }\n",
              "\n",
              "    [theme=dark] .colab-df-convert {\n",
              "      background-color: #3B4455;\n",
              "      fill: #D2E3FC;\n",
              "    }\n",
              "\n",
              "    [theme=dark] .colab-df-convert:hover {\n",
              "      background-color: #434B5C;\n",
              "      box-shadow: 0px 1px 3px 1px rgba(0, 0, 0, 0.15);\n",
              "      filter: drop-shadow(0px 1px 2px rgba(0, 0, 0, 0.3));\n",
              "      fill: #FFFFFF;\n",
              "    }\n",
              "  </style>\n",
              "\n",
              "      <script>\n",
              "        const buttonEl =\n",
              "          document.querySelector('#df-dc932a12-3973-4a99-bb87-4e7add6fe18d button.colab-df-convert');\n",
              "        buttonEl.style.display =\n",
              "          google.colab.kernel.accessAllowed ? 'block' : 'none';\n",
              "\n",
              "        async function convertToInteractive(key) {\n",
              "          const element = document.querySelector('#df-dc932a12-3973-4a99-bb87-4e7add6fe18d');\n",
              "          const dataTable =\n",
              "            await google.colab.kernel.invokeFunction('convertToInteractive',\n",
              "                                                     [key], {});\n",
              "          if (!dataTable) return;\n",
              "\n",
              "          const docLinkHtml = 'Like what you see? Visit the ' +\n",
              "            '<a target=\"_blank\" href=https://colab.research.google.com/notebooks/data_table.ipynb>data table notebook</a>'\n",
              "            + ' to learn more about interactive tables.';\n",
              "          element.innerHTML = '';\n",
              "          dataTable['output_type'] = 'display_data';\n",
              "          await google.colab.output.renderOutput(dataTable, element);\n",
              "          const docLink = document.createElement('div');\n",
              "          docLink.innerHTML = docLinkHtml;\n",
              "          element.appendChild(docLink);\n",
              "        }\n",
              "      </script>\n",
              "    </div>\n",
              "  </div>\n"
            ]
          },
          "metadata": {},
          "execution_count": 13
        }
      ]
    },
    {
      "cell_type": "markdown",
      "source": [
        "**Nota:**\n",
        "\n",
        "Note que los pacientes medicados tienen menor media y mediana que los pacientes medicados. Sin embargo, de los tres grupos aquellos pacientes que no tienen información sobre si están medicados o no, tienen menores valores de la variable `updrs_3` mucho menores. En mi opinión, esto podría indicar que estos últimos pacientes están en un estadío inicial de la enfermedad donde no se medican todavía, por lo que no aplica la pregunta de si se medican o no. Probablemente, en estos pacientes tampoco se pueda medir el indicador `updrs_4`, de ahí que estos también estén faltando."
      ],
      "metadata": {
        "id": "jrQe1J4-Hzsv"
      }
    },
    {
      "cell_type": "code",
      "source": [
        "# Gráficos distribución observada\n",
        "# ==============================================================================\n",
        "fig, axs = plt.subplots(nrows=1, ncols=2, figsize=(10, 3.5))\n",
        "sns.violinplot(\n",
        "    x     = data_clinical.updrs_3,\n",
        "    y     = data_clinical.upd23b_clinical_state_on_medication,\n",
        "    color = \".8\",\n",
        "    ax    = axs[0]\n",
        ")\n",
        "sns.stripplot(\n",
        "    x    = data_clinical.updrs_3,\n",
        "    y    = data_clinical.upd23b_clinical_state_on_medication,\n",
        "    data = data_clinical,\n",
        "    size = 4,\n",
        "    jitter  = 0.1,\n",
        "    palette = 'tab10',\n",
        "    ax = axs[0]\n",
        ")\n",
        "axs[0].set_title('Distribución de valores por grupo')\n",
        "axs[0].set_ylabel('Medicación')\n",
        "axs[0].set_xlabel('Valor de updrs_3');\n",
        "\n",
        "for medication in data_clinical.upd23b_clinical_state_on_medication.unique():\n",
        "    datos_temp = data_clinical[data_clinical.upd23b_clinical_state_on_medication == medication]['updrs_3']\n",
        "    datos_temp.plot.kde(ax=axs[1], label=medication)\n",
        "    axs[1].plot(datos_temp, np.full_like(datos_temp, 0), '|k', markeredgewidth=1)\n",
        "\n",
        "axs[1].set_title('Distribución de valores por grupo')\n",
        "axs[1].set_xlabel('Valor de updrs_3');\n",
        "axs[1].legend()\n",
        "\n",
        "fig.tight_layout();"
      ],
      "metadata": {
        "colab": {
          "base_uri": "https://localhost:8080/",
          "height": 357
        },
        "id": "ckdJuG33PslZ",
        "outputId": "cd9637fa-b527-4532-e48f-a3a20eec462b"
      },
      "execution_count": null,
      "outputs": [
        {
          "output_type": "display_data",
          "data": {
            "text/plain": [
              "<Figure size 1000x350 with 2 Axes>"
            ],
            "image/png": "[encoded data removed]"
          },
          "metadata": {}
        }
      ]
    },
    {
      "cell_type": "markdown",
      "source": [
        "## Prueba de comparación de medias (Bootstraping)\n",
        "### Grupos N/A y On"
      ],
      "metadata": {
        "id": "hkJFoj80OQHu"
      }
    },
    {
      "cell_type": "code",
      "source": [
        "dif_observada = data_clinical[data_clinical.upd23b_clinical_state_on_medication == 'On'].updrs_3.mean()\n",
        "- data_clinical[data_clinical.upd23b_clinical_state_on_medication == 'N/A'].updrs_3.mean()\n",
        "\n",
        "print(f'El valor de la diferencia de medias observada: {dif_observada}')"
      ],
      "metadata": {
        "colab": {
          "base_uri": "https://localhost:8080/"
        },
        "id": "88DW4lmAHzHx",
        "outputId": "38df6bb7-8dd6-418c-8025-40f5fb6fa330"
      },
      "execution_count": null,
      "outputs": [
        {
          "output_type": "stream",
          "name": "stdout",
          "text": [
            "El valor de la diferencia de medias observada: 24.36897001303781\n"
          ]
        }
      ]
    },
    {
      "cell_type": "code",
      "source": [
        "def bootstraping_2_grupos(x1, x2, n_iteraciones=9999):\n",
        "    '''\n",
        "    Función para calcular la diferencia de un estadístico entre dos grupos en\n",
        "    múltiples muestras generadas mediante muestreo repetido con reposición\n",
        "    (bootstrapping).\n",
        "\n",
        "    Parameters\n",
        "    ----------\n",
        "    x1 : numpy array\n",
        "         valores de la muestra del grupo 1.\n",
        "\n",
        "    x2 : numpy array\n",
        "         valores de la muestra del grupo 2.\n",
        "\n",
        "    n_iteraciones : int\n",
        "        número iteraciones (default `9999`).\n",
        "\n",
        "    Returns\n",
        "    -------\n",
        "    distribuciones: numpy array\n",
        "        diferencia entre ambos grupos en cada muestra de bootstrapping.\n",
        "    '''\n",
        "\n",
        "    n1 = len(x1)\n",
        "    n2 = len(x2)\n",
        "    pool = np.hstack((x1, x2))\n",
        "    dist_boot = np.full(shape=n_iteraciones, fill_value=np.nan)\n",
        "\n",
        "    for i in tqdm(range(n_iteraciones)):\n",
        "        # Se crea una nueva muestra\n",
        "        resample = np.random.choice(pool, size=n1+n2, replace=True)\n",
        "        # Se reparten las observaciones en dos grupos y se calcula el estadístico\n",
        "        estadistico_1 = np.mean(resample[:n1])\n",
        "        estadistico_2 = np.mean(resample[n1:])\n",
        "        # Diferencia entre estadísticos\n",
        "        dist_boot[i]  = estadistico_1 - estadistico_2\n",
        "\n",
        "    return dist_boot"
      ],
      "metadata": {
        "id": "-vTEm1YbUEl3"
      },
      "execution_count": null,
      "outputs": []
    },
    {
      "cell_type": "code",
      "source": [
        "dist_boot = bootstraping_2_grupos(\n",
        "                x1 = data_clinical[data_clinical.upd23b_clinical_state_on_medication == 'N/A'].updrs_3,\n",
        "                x2 = data_clinical[data_clinical.upd23b_clinical_state_on_medication == 'On'].updrs_3,\n",
        "                n_iteraciones = 9999\n",
        "            )"
      ],
      "metadata": {
        "colab": {
          "base_uri": "https://localhost:8080/"
        },
        "id": "cXeuYRgdUfih",
        "outputId": "20f5f2f9-6b0e-4c9e-ffdd-639c083564df"
      },
      "execution_count": null,
      "outputs": [
        {
          "output_type": "stream",
          "name": "stderr",
          "text": [
            "100%|██████████| 9999/9999 [00:03<00:00, 2914.54it/s]\n"
          ]
        }
      ]
    },
    {
      "cell_type": "markdown",
      "source": [
        "**Nota:**\n",
        "\n",
        "Hemos obtenido lo que se llama la *distribución de bootstrapping* de la diferencia de medias."
      ],
      "metadata": {
        "id": "h0q2-4CeU-0b"
      }
    },
    {
      "cell_type": "code",
      "source": [
        "# Distribución de bootstrapping\n",
        "# ==============================================================================\n",
        "fig, ax = plt.subplots(ncols=1, nrows=1, figsize=(7,4))\n",
        "ax.hist(dist_boot, bins=30, density=True, color='#3182bd', alpha=0.5)\n",
        "ax.axvline(x=dif_observada, color='red', label='diferencia observada')\n",
        "ax.axvline(x=-dif_observada, color='red')\n",
        "\n",
        "ax.set_title('Distribución de bootstrapping')\n",
        "ax.set_xlabel('diferencia de medias')\n",
        "ax.set_ylabel('densidad')\n",
        "ax.legend();"
      ],
      "metadata": {
        "colab": {
          "base_uri": "https://localhost:8080/",
          "height": 411
        },
        "id": "mVEsI-ZZVZYD",
        "outputId": "5b08384c-cbfb-4f90-e11a-3f515b1b44d0"
      },
      "execution_count": null,
      "outputs": [
        {
          "output_type": "display_data",
          "data": {
            "text/plain": [
              "<Figure size 700x400 with 1 Axes>"
            ],
            "image/png": "[encoded data removed]"
          },
          "metadata": {}
        }
      ]
    },
    {
      "cell_type": "code",
      "source": [
        "# P-value empírico con y sin corrección\n",
        "# ==============================================================================\n",
        "p_value = (sum(np.abs(dist_boot) > dif_observada))/len(dist_boot)\n",
        "p_value_correc = (sum(np.abs(dist_boot) > dif_observada) + 1)/len(dist_boot + 1)\n",
        "print(f\"p-value sin corrección: {p_value}\")\n",
        "print(f\"p-value con corrección: {p_value_correc}\")"
      ],
      "metadata": {
        "colab": {
          "base_uri": "https://localhost:8080/"
        },
        "id": "ClRKZPeHXlh5",
        "outputId": "0af797b9-0304-42a6-da4e-aff0e85a824c"
      },
      "execution_count": null,
      "outputs": [
        {
          "output_type": "stream",
          "name": "stdout",
          "text": [
            "p-value sin corrección: 0.0\n",
            "p-value con corrección: 0.00010001000100010001\n"
          ]
        }
      ]
    },
    {
      "cell_type": "markdown",
      "source": [
        "**Nota:**\n",
        "\n",
        "Según el p-valor obtenido, mucho menor que el umbral 0.05, podemos decir que existe evidencia estadística para asegurar que existen diferencias sustanciales entre las medias de ambos grupos."
      ],
      "metadata": {
        "id": "BHEfrofAYAjC"
      }
    },
    {
      "cell_type": "markdown",
      "source": [
        "### Grupos N/A y Off"
      ],
      "metadata": {
        "id": "N5Yz4aq1Y_ka"
      }
    },
    {
      "cell_type": "code",
      "source": [
        "dif_observada = abs(data_clinical[data_clinical.upd23b_clinical_state_on_medication == 'N/A'].updrs_3.mean()\n",
        "                 - data_clinical[data_clinical.upd23b_clinical_state_on_medication == 'Off'].updrs_3.mean())\n",
        "\n",
        "print(f'El valor de la diferencia de medias observada: {dif_observada}')"
      ],
      "metadata": {
        "colab": {
          "base_uri": "https://localhost:8080/"
        },
        "id": "1cAKXrg8ZGOR",
        "outputId": "31774892-40b1-4b55-ac35-3ff35eee38dd"
      },
      "execution_count": null,
      "outputs": [
        {
          "output_type": "stream",
          "name": "stdout",
          "text": [
            "El valor de la diferencia de medias observada: 18.83464778153334\n"
          ]
        }
      ]
    },
    {
      "cell_type": "code",
      "source": [
        "dist_boot = bootstraping_2_grupos(\n",
        "                x1 = data_clinical[data_clinical.upd23b_clinical_state_on_medication == 'N/A'].updrs_3,\n",
        "                x2 = data_clinical[data_clinical.upd23b_clinical_state_on_medication == 'Off'].updrs_3,\n",
        "                n_iteraciones = 9999\n",
        "            )"
      ],
      "metadata": {
        "colab": {
          "base_uri": "https://localhost:8080/"
        },
        "id": "8TSvsEzkZbkC",
        "outputId": "751029cb-872a-451b-bb10-2903b5c168dc"
      },
      "execution_count": null,
      "outputs": [
        {
          "output_type": "stream",
          "name": "stderr",
          "text": [
            "100%|██████████| 9999/9999 [00:03<00:00, 2920.09it/s]\n"
          ]
        }
      ]
    },
    {
      "cell_type": "code",
      "source": [
        "# Distribución de bootstrapping\n",
        "# ==============================================================================\n",
        "fig, ax = plt.subplots(ncols=1, nrows=1, figsize=(7,4))\n",
        "ax.hist(dist_boot, bins=30, density=True, color='#3182bd', alpha=0.5)\n",
        "ax.axvline(x=dif_observada, color='red', label='diferencia observada')\n",
        "ax.axvline(x=-dif_observada, color='red')\n",
        "\n",
        "ax.set_title('Distribución de bootstrapping')\n",
        "ax.set_xlabel('diferencia de medias')\n",
        "ax.set_ylabel('densidad')\n",
        "ax.legend();"
      ],
      "metadata": {
        "colab": {
          "base_uri": "https://localhost:8080/",
          "height": 411
        },
        "id": "-WiBI1aoZgY1",
        "outputId": "1b800c7d-f449-484c-b95b-7324b43dd266"
      },
      "execution_count": null,
      "outputs": [
        {
          "output_type": "display_data",
          "data": {
            "text/plain": [
              "<Figure size 700x400 with 1 Axes>"
            ],
            "image/png": "[encoded data removed]"
          },
          "metadata": {}
        }
      ]
    },
    {
      "cell_type": "code",
      "source": [
        "# P-value empírico con y sin corrección\n",
        "# ==============================================================================\n",
        "p_value = (sum(np.abs(dist_boot) > dif_observada))/len(dist_boot)\n",
        "p_value_correc = (sum(np.abs(dist_boot) > dif_observada) + 1)/len(dist_boot + 1)\n",
        "print(f\"p-value sin corrección: {p_value}\")\n",
        "print(f\"p-value con corrección: {p_value_correc}\")"
      ],
      "metadata": {
        "colab": {
          "base_uri": "https://localhost:8080/"
        },
        "id": "IBoG8K-VZpMo",
        "outputId": "212a9142-c043-455c-fa54-b645c8a6ab69"
      },
      "execution_count": null,
      "outputs": [
        {
          "output_type": "stream",
          "name": "stdout",
          "text": [
            "p-value sin corrección: 0.0\n",
            "p-value con corrección: 0.00010001000100010001\n"
          ]
        }
      ]
    },
    {
      "cell_type": "markdown",
      "source": [
        "### Grupos On y Off"
      ],
      "metadata": {
        "id": "2ch23v7waMvB"
      }
    },
    {
      "cell_type": "code",
      "source": [
        "dif_observada = abs(data_clinical[data_clinical.upd23b_clinical_state_on_medication == 'On'].updrs_3.mean()\n",
        "                 - data_clinical[data_clinical.upd23b_clinical_state_on_medication == 'Off'].updrs_3.mean())\n",
        "\n",
        "print(f'El valor de la diferencia de medias observada: {dif_observada}')"
      ],
      "metadata": {
        "colab": {
          "base_uri": "https://localhost:8080/"
        },
        "id": "XPO6vG80aU95",
        "outputId": "0f117ebd-b786-40d4-d9f7-dda23008b251"
      },
      "execution_count": null,
      "outputs": [
        {
          "output_type": "stream",
          "name": "stdout",
          "text": [
            "El valor de la diferencia de medias observada: 6.502375016201956\n"
          ]
        }
      ]
    },
    {
      "cell_type": "code",
      "source": [
        "dist_boot = bootstraping_2_grupos(\n",
        "                x1 = data_clinical[data_clinical.upd23b_clinical_state_on_medication == 'On'].updrs_3,\n",
        "                x2 = data_clinical[data_clinical.upd23b_clinical_state_on_medication == 'Off'].updrs_3,\n",
        "                n_iteraciones = 9999\n",
        "            )"
      ],
      "metadata": {
        "colab": {
          "base_uri": "https://localhost:8080/"
        },
        "id": "7CE7zFkgaZ2l",
        "outputId": "ef08fe65-8bf6-4f61-d425-84aeaafa9fe5"
      },
      "execution_count": null,
      "outputs": [
        {
          "output_type": "stream",
          "name": "stderr",
          "text": [
            "100%|██████████| 9999/9999 [00:01<00:00, 5209.28it/s]\n"
          ]
        }
      ]
    },
    {
      "cell_type": "code",
      "source": [
        "# Distribución de bootstrapping\n",
        "# ==============================================================================\n",
        "fig, ax = plt.subplots(ncols=1, nrows=1, figsize=(7,4))\n",
        "ax.hist(dist_boot, bins=30, density=True, color='#3182bd', alpha=0.5)\n",
        "ax.axvline(x=dif_observada, color='red', label='diferencia observada')\n",
        "ax.axvline(x=-dif_observada, color='red')\n",
        "\n",
        "ax.set_title('Distribución de bootstrapping')\n",
        "ax.set_xlabel('diferencia de medias')\n",
        "ax.set_ylabel('densidad')\n",
        "ax.legend();"
      ],
      "metadata": {
        "colab": {
          "base_uri": "https://localhost:8080/",
          "height": 411
        },
        "id": "BuQxsRSsahEP",
        "outputId": "6c5d97ee-9b94-4b74-dc50-ddcdfaaf9d31"
      },
      "execution_count": null,
      "outputs": [
        {
          "output_type": "display_data",
          "data": {
            "text/plain": [
              "<Figure size 700x400 with 1 Axes>"
            ],
            "image/png": "[encoded data removed]"
          },
          "metadata": {}
        }
      ]
    },
    {
      "cell_type": "code",
      "source": [
        "# P-value empírico con y sin corrección\n",
        "# ==============================================================================\n",
        "p_value = (sum(np.abs(dist_boot) > dif_observada))/len(dist_boot)\n",
        "p_value_correc = (sum(np.abs(dist_boot) > dif_observada) + 1)/len(dist_boot + 1)\n",
        "print(f\"p-value sin corrección: {p_value}\")\n",
        "print(f\"p-value con corrección: {p_value_correc}\")"
      ],
      "metadata": {
        "colab": {
          "base_uri": "https://localhost:8080/"
        },
        "id": "QmqF0gYLaoxN",
        "outputId": "f6bf0728-c867-4470-df8b-c240cae164a6"
      },
      "execution_count": null,
      "outputs": [
        {
          "output_type": "stream",
          "name": "stdout",
          "text": [
            "p-value sin corrección: 0.0\n",
            "p-value con corrección: 0.00010001000100010001\n"
          ]
        }
      ]
    },
    {
      "cell_type": "code",
      "source": [
        "# Test para datos dependientes (p-value, intervalos de confianza)\n",
        "# ==============================================================================\n",
        "\n",
        "pg.ttest(\n",
        "    x           = data_clinical[data_clinical.upd23b_clinical_state_on_medication == 'On'].updrs_3,\n",
        "    y           = data_clinical[data_clinical.upd23b_clinical_state_on_medication == 'Off'].updrs_3,\n",
        "    alternative = 'two-sided',\n",
        "    paired      = False,\n",
        "    correction  = False\n",
        ")"
      ],
      "metadata": {
        "colab": {
          "base_uri": "https://localhost:8080/",
          "height": 80
        },
        "id": "FifNhy82a9Hg",
        "outputId": "0003cf7a-19e4-4a8d-af86-d739b11b6fc9"
      },
      "execution_count": null,
      "outputs": [
        {
          "output_type": "execute_result",
          "data": {
            "text/plain": [
              "               T   dof alternative         p-val           CI95%   cohen-d  \\\n",
              "T-test -8.926078  1278   two-sided  1.498845e-18  [-7.93, -5.07]  0.509107   \n",
              "\n",
              "             BF10  power  \n",
              "T-test  2.656e+15    1.0  "
            ],
            "text/html": [
              "\n",
              "\n",
              "  <div id=\"df-bdf62213-e139-45fd-bebe-623a0882291d\">\n",
              "    <div class=\"colab-df-container\">\n",
              "      <div>\n",
              "<style scoped>\n",
              "    .dataframe tbody tr th:only-of-type {\n",
              "        vertical-align: middle;\n",
              "    }\n",
              "\n",
              "    .dataframe tbody tr th {\n",
              "        vertical-align: top;\n",
              "    }\n",
              "\n",
              "    .dataframe thead th {\n",
              "        text-align: right;\n",
              "    }\n",
              "</style>\n",
              "<table border=\"1\" class=\"dataframe\">\n",
              "  <thead>\n",
              "    <tr style=\"text-align: right;\">\n",
              "      <th></th>\n",
              "      <th>T</th>\n",
              "      <th>dof</th>\n",
              "      <th>alternative</th>\n",
              "      <th>p-val</th>\n",
              "      <th>CI95%</th>\n",
              "      <th>cohen-d</th>\n",
              "      <th>BF10</th>\n",
              "      <th>power</th>\n",
              "    </tr>\n",
              "  </thead>\n",
              "  <tbody>\n",
              "    <tr>\n",
              "      <th>T-test</th>\n",
              "      <td>-8.926078</td>\n",
              "      <td>1278</td>\n",
              "      <td>two-sided</td>\n",
              "      <td>1.498845e-18</td>\n",
              "      <td>[-7.93, -5.07]</td>\n",
              "      <td>0.509107</td>\n",
              "      <td>2.656e+15</td>\n",
              "      <td>1.0</td>\n",
              "    </tr>\n",
              "  </tbody>\n",
              "</table>\n",
              "</div>\n",
              "      <button class=\"colab-df-convert\" onclick=\"convertToInteractive('df-bdf62213-e139-45fd-bebe-623a0882291d')\"\n",
              "              title=\"Convert this dataframe to an interactive table.\"\n",
              "              style=\"display:none;\">\n",
              "\n",
              "  <svg xmlns=\"http://www.w3.org/2000/svg\" height=\"24px\"viewBox=\"0 0 24 24\"\n",
              "       width=\"24px\">\n",
              "    <path d=\"M0 0h24v24H0V0z\" fill=\"none\"/>\n",
              "    <path d=\"M18.56 5.44l.94 2.06.94-2.06 2.06-.94-2.06-.94-.94-2.06-.94 2.06-2.06.94zm-11 1L8.5 8.5l.94-2.06 2.06-.94-2.06-.94L8.5 2.5l-.94 2.06-2.06.94zm10 10l.94 2.06.94-2.06 2.06-.94-2.06-.94-.94-2.06-.94 2.06-2.06.94z\"/><path d=\"M17.41 7.96l-1.37-1.37c-.4-.4-.92-.59-1.43-.59-.52 0-1.04.2-1.43.59L10.3 9.45l-7.72 7.72c-.78.78-.78 2.05 0 2.83L4 21.41c.39.39.9.59 1.41.59.51 0 1.02-.2 1.41-.59l7.78-7.78 2.81-2.81c.8-.78.8-2.07 0-2.86zM5.41 20L4 18.59l7.72-7.72 1.47 1.35L5.41 20z\"/>\n",
              "  </svg>\n",
              "      </button>\n",
              "\n",
              "\n",
              "\n",
              "    <div id=\"df-fe9dcd0a-755d-410c-a4fe-922961a49df0\">\n",
              "      <button class=\"colab-df-quickchart\" onclick=\"quickchart('df-fe9dcd0a-755d-410c-a4fe-922961a49df0')\"\n",
              "              title=\"Suggest charts.\"\n",
              "              style=\"display:none;\">\n",
              "\n",
              "<svg xmlns=\"http://www.w3.org/2000/svg\" height=\"24px\"viewBox=\"0 0 24 24\"\n",
              "     width=\"24px\">\n",
              "    <g>\n",
              "        <path d=\"M19 3H5c-1.1 0-2 .9-2 2v14c0 1.1.9 2 2 2h14c1.1 0 2-.9 2-2V5c0-1.1-.9-2-2-2zM9 17H7v-7h2v7zm4 0h-2V7h2v10zm4 0h-2v-4h2v4z\"/>\n",
              "    </g>\n",
              "</svg>\n",
              "      </button>\n",
              "    </div>\n",
              "\n",
              "<style>\n",
              "  .colab-df-quickchart {\n",
              "    background-color: #E8F0FE;\n",
              "    border: none;\n",
              "    border-radius: 50%;\n",
              "    cursor: pointer;\n",
              "    display: none;\n",
              "    fill: #1967D2;\n",
              "    height: 32px;\n",
              "    padding: 0 0 0 0;\n",
              "    width: 32px;\n",
              "  }\n",
              "\n",
              "  .colab-df-quickchart:hover {\n",
              "    background-color: #E2EBFA;\n",
              "    box-shadow: 0px 1px 2px rgba(60, 64, 67, 0.3), 0px 1px 3px 1px rgba(60, 64, 67, 0.15);\n",
              "    fill: #174EA6;\n",
              "  }\n",
              "\n",
              "  [theme=dark] .colab-df-quickchart {\n",
              "    background-color: #3B4455;\n",
              "    fill: #D2E3FC;\n",
              "  }\n",
              "\n",
              "  [theme=dark] .colab-df-quickchart:hover {\n",
              "    background-color: #434B5C;\n",
              "    box-shadow: 0px 1px 3px 1px rgba(0, 0, 0, 0.15);\n",
              "    filter: drop-shadow(0px 1px 2px rgba(0, 0, 0, 0.3));\n",
              "    fill: #FFFFFF;\n",
              "  }\n",
              "</style>\n",
              "\n",
              "    <script>\n",
              "      async function quickchart(key) {\n",
              "        const containerElement = document.querySelector('#' + key);\n",
              "        const charts = await google.colab.kernel.invokeFunction(\n",
              "            'suggestCharts', [key], {});\n",
              "      }\n",
              "    </script>\n",
              "\n",
              "      <script>\n",
              "\n",
              "function displayQuickchartButton(domScope) {\n",
              "  let quickchartButtonEl =\n",
              "    domScope.querySelector('#df-fe9dcd0a-755d-410c-a4fe-922961a49df0 button.colab-df-quickchart');\n",
              "  quickchartButtonEl.style.display =\n",
              "    google.colab.kernel.accessAllowed ? 'block' : 'none';\n",
              "}\n",
              "\n",
              "        displayQuickchartButton(document);\n",
              "      </script>\n",
              "      <style>\n",
              "    .colab-df-container {\n",
              "      display:flex;\n",
              "      flex-wrap:wrap;\n",
              "      gap: 12px;\n",
              "    }\n",
              "\n",
              "    .colab-df-convert {\n",
              "      background-color: #E8F0FE;\n",
              "      border: none;\n",
              "      border-radius: 50%;\n",
              "      cursor: pointer;\n",
              "      display: none;\n",
              "      fill: #1967D2;\n",
              "      height: 32px;\n",
              "      padding: 0 0 0 0;\n",
              "      width: 32px;\n",
              "    }\n",
              "\n",
              "    .colab-df-convert:hover {\n",
              "      background-color: #E2EBFA;\n",
              "      box-shadow: 0px 1px 2px rgba(60, 64, 67, 0.3), 0px 1px 3px 1px rgba(60, 64, 67, 0.15);\n",
              "      fill: #174EA6;\n",
              "    }\n",
              "\n",
              "    [theme=dark] .colab-df-convert {\n",
              "      background-color: #3B4455;\n",
              "      fill: #D2E3FC;\n",
              "    }\n",
              "\n",
              "    [theme=dark] .colab-df-convert:hover {\n",
              "      background-color: #434B5C;\n",
              "      box-shadow: 0px 1px 3px 1px rgba(0, 0, 0, 0.15);\n",
              "      filter: drop-shadow(0px 1px 2px rgba(0, 0, 0, 0.3));\n",
              "      fill: #FFFFFF;\n",
              "    }\n",
              "  </style>\n",
              "\n",
              "      <script>\n",
              "        const buttonEl =\n",
              "          document.querySelector('#df-bdf62213-e139-45fd-bebe-623a0882291d button.colab-df-convert');\n",
              "        buttonEl.style.display =\n",
              "          google.colab.kernel.accessAllowed ? 'block' : 'none';\n",
              "\n",
              "        async function convertToInteractive(key) {\n",
              "          const element = document.querySelector('#df-bdf62213-e139-45fd-bebe-623a0882291d');\n",
              "          const dataTable =\n",
              "            await google.colab.kernel.invokeFunction('convertToInteractive',\n",
              "                                                     [key], {});\n",
              "          if (!dataTable) return;\n",
              "\n",
              "          const docLinkHtml = 'Like what you see? Visit the ' +\n",
              "            '<a target=\"_blank\" href=https://colab.research.google.com/notebooks/data_table.ipynb>data table notebook</a>'\n",
              "            + ' to learn more about interactive tables.';\n",
              "          element.innerHTML = '';\n",
              "          dataTable['output_type'] = 'display_data';\n",
              "          await google.colab.output.renderOutput(dataTable, element);\n",
              "          const docLink = document.createElement('div');\n",
              "          docLink.innerHTML = docLinkHtml;\n",
              "          element.appendChild(docLink);\n",
              "        }\n",
              "      </script>\n",
              "    </div>\n",
              "  </div>\n"
            ]
          },
          "metadata": {},
          "execution_count": 28
        }
      ]
    },
    {
      "cell_type": "markdown",
      "source": [
        "**Conclusiones:**\n",
        "\n",
        "1. Existen evidencias estadísticas para afirmar que hay diferencias en las medias de los grupos `N/A` y `On`. (*Bootstrapping*)\n",
        "\n",
        "2. Existen evidencias estadísticas para afirmar que hay diferencias en las medias de los grupos `N/A` y `Off`. (*Bootstrapping*)\n",
        "\n",
        "3. Existen evidencias estadísticas para afirmar que hay diferencias en las medias de los grupos `On` y `Off`. (*Bootstrapping* y *t-test*)\n",
        "\n",
        "4. Agregar una categoría `N/A` a la variable `upd23b_clinical_state_on_medication` da información importante para las variables a predecir, en este caso, la variable `updrs_3`. Podemos asumir que las pacientes en el grupo `N/A` están en un estadío inicial de la enfermedad.\n",
        "\n",
        "5. Hemos decidido no imputar los datos faltantes de la variable updrs_4 debido a que son muchos datos y esto podría afectar el rendimiento y la verosimilitud del modelo. Luego, la variable updrs_4 no será considerada en este estudio.\n",
        "\n"
      ],
      "metadata": {
        "id": "73Tk9BBJcUfk"
      }
    },
    {
      "cell_type": "code",
      "source": [
        "data_clinical.groupby('upd23b_clinical_state_on_medication')['updrs_2'].describe()"
      ],
      "metadata": {
        "colab": {
          "base_uri": "https://localhost:8080/",
          "height": 174
        },
        "id": "ZRtIZIbrdpBX",
        "outputId": "204009e3-4f1b-4023-a8c8-2d5772cfe995"
      },
      "execution_count": null,
      "outputs": [
        {
          "output_type": "execute_result",
          "data": {
            "text/plain": [
              "                                      count       mean       std  min  25%  \\\n",
              "upd23b_clinical_state_on_medication                                          \n",
              "N/A                                  1308.0   3.775994  4.953909  0.0  0.0   \n",
              "Off                                   513.0  10.037037  5.894962  0.0  6.0   \n",
              "On                                    767.0   9.569752  6.336106  0.0  5.0   \n",
              "\n",
              "                                     50%   75%   max  \n",
              "upd23b_clinical_state_on_medication                   \n",
              "N/A                                  2.0   6.0  28.0  \n",
              "Off                                  9.0  14.0  28.0  \n",
              "On                                   8.0  13.0  40.0  "
            ],
            "text/html": [
              "\n",
              "\n",
              "  <div id=\"df-b818903a-a661-453c-8c59-6fcf61b6978f\">\n",
              "    <div class=\"colab-df-container\">\n",
              "      <div>\n",
              "<style scoped>\n",
              "    .dataframe tbody tr th:only-of-type {\n",
              "        vertical-align: middle;\n",
              "    }\n",
              "\n",
              "    .dataframe tbody tr th {\n",
              "        vertical-align: top;\n",
              "    }\n",
              "\n",
              "    .dataframe thead th {\n",
              "        text-align: right;\n",
              "    }\n",
              "</style>\n",
              "<table border=\"1\" class=\"dataframe\">\n",
              "  <thead>\n",
              "    <tr style=\"text-align: right;\">\n",
              "      <th></th>\n",
              "      <th>count</th>\n",
              "      <th>mean</th>\n",
              "      <th>std</th>\n",
              "      <th>min</th>\n",
              "      <th>25%</th>\n",
              "      <th>50%</th>\n",
              "      <th>75%</th>\n",
              "      <th>max</th>\n",
              "    </tr>\n",
              "    <tr>\n",
              "      <th>upd23b_clinical_state_on_medication</th>\n",
              "      <th></th>\n",
              "      <th></th>\n",
              "      <th></th>\n",
              "      <th></th>\n",
              "      <th></th>\n",
              "      <th></th>\n",
              "      <th></th>\n",
              "      <th></th>\n",
              "    </tr>\n",
              "  </thead>\n",
              "  <tbody>\n",
              "    <tr>\n",
              "      <th>N/A</th>\n",
              "      <td>1308.0</td>\n",
              "      <td>3.775994</td>\n",
              "      <td>4.953909</td>\n",
              "      <td>0.0</td>\n",
              "      <td>0.0</td>\n",
              "      <td>2.0</td>\n",
              "      <td>6.0</td>\n",
              "      <td>28.0</td>\n",
              "    </tr>\n",
              "    <tr>\n",
              "      <th>Off</th>\n",
              "      <td>513.0</td>\n",
              "      <td>10.037037</td>\n",
              "      <td>5.894962</td>\n",
              "      <td>0.0</td>\n",
              "      <td>6.0</td>\n",
              "      <td>9.0</td>\n",
              "      <td>14.0</td>\n",
              "      <td>28.0</td>\n",
              "    </tr>\n",
              "    <tr>\n",
              "      <th>On</th>\n",
              "      <td>767.0</td>\n",
              "      <td>9.569752</td>\n",
              "      <td>6.336106</td>\n",
              "      <td>0.0</td>\n",
              "      <td>5.0</td>\n",
              "      <td>8.0</td>\n",
              "      <td>13.0</td>\n",
              "      <td>40.0</td>\n",
              "    </tr>\n",
              "  </tbody>\n",
              "</table>\n",
              "</div>\n",
              "      <button class=\"colab-df-convert\" onclick=\"convertToInteractive('df-b818903a-a661-453c-8c59-6fcf61b6978f')\"\n",
              "              title=\"Convert this dataframe to an interactive table.\"\n",
              "              style=\"display:none;\">\n",
              "\n",
              "  <svg xmlns=\"http://www.w3.org/2000/svg\" height=\"24px\"viewBox=\"0 0 24 24\"\n",
              "       width=\"24px\">\n",
              "    <path d=\"M0 0h24v24H0V0z\" fill=\"none\"/>\n",
              "    <path d=\"M18.56 5.44l.94 2.06.94-2.06 2.06-.94-2.06-.94-.94-2.06-.94 2.06-2.06.94zm-11 1L8.5 8.5l.94-2.06 2.06-.94-2.06-.94L8.5 2.5l-.94 2.06-2.06.94zm10 10l.94 2.06.94-2.06 2.06-.94-2.06-.94-.94-2.06-.94 2.06-2.06.94z\"/><path d=\"M17.41 7.96l-1.37-1.37c-.4-.4-.92-.59-1.43-.59-.52 0-1.04.2-1.43.59L10.3 9.45l-7.72 7.72c-.78.78-.78 2.05 0 2.83L4 21.41c.39.39.9.59 1.41.59.51 0 1.02-.2 1.41-.59l7.78-7.78 2.81-2.81c.8-.78.8-2.07 0-2.86zM5.41 20L4 18.59l7.72-7.72 1.47 1.35L5.41 20z\"/>\n",
              "  </svg>\n",
              "      </button>\n",
              "\n",
              "\n",
              "\n",
              "    <div id=\"df-f708643a-b3b8-45ac-9a28-ed433ba635ac\">\n",
              "      <button class=\"colab-df-quickchart\" onclick=\"quickchart('df-f708643a-b3b8-45ac-9a28-ed433ba635ac')\"\n",
              "              title=\"Suggest charts.\"\n",
              "              style=\"display:none;\">\n",
              "\n",
              "<svg xmlns=\"http://www.w3.org/2000/svg\" height=\"24px\"viewBox=\"0 0 24 24\"\n",
              "     width=\"24px\">\n",
              "    <g>\n",
              "        <path d=\"M19 3H5c-1.1 0-2 .9-2 2v14c0 1.1.9 2 2 2h14c1.1 0 2-.9 2-2V5c0-1.1-.9-2-2-2zM9 17H7v-7h2v7zm4 0h-2V7h2v10zm4 0h-2v-4h2v4z\"/>\n",
              "    </g>\n",
              "</svg>\n",
              "      </button>\n",
              "    </div>\n",
              "\n",
              "<style>\n",
              "  .colab-df-quickchart {\n",
              "    background-color: #E8F0FE;\n",
              "    border: none;\n",
              "    border-radius: 50%;\n",
              "    cursor: pointer;\n",
              "    display: none;\n",
              "    fill: #1967D2;\n",
              "    height: 32px;\n",
              "    padding: 0 0 0 0;\n",
              "    width: 32px;\n",
              "  }\n",
              "\n",
              "  .colab-df-quickchart:hover {\n",
              "    background-color: #E2EBFA;\n",
              "    box-shadow: 0px 1px 2px rgba(60, 64, 67, 0.3), 0px 1px 3px 1px rgba(60, 64, 67, 0.15);\n",
              "    fill: #174EA6;\n",
              "  }\n",
              "\n",
              "  [theme=dark] .colab-df-quickchart {\n",
              "    background-color: #3B4455;\n",
              "    fill: #D2E3FC;\n",
              "  }\n",
              "\n",
              "  [theme=dark] .colab-df-quickchart:hover {\n",
              "    background-color: #434B5C;\n",
              "    box-shadow: 0px 1px 3px 1px rgba(0, 0, 0, 0.15);\n",
              "    filter: drop-shadow(0px 1px 2px rgba(0, 0, 0, 0.3));\n",
              "    fill: #FFFFFF;\n",
              "  }\n",
              "</style>\n",
              "\n",
              "    <script>\n",
              "      async function quickchart(key) {\n",
              "        const containerElement = document.querySelector('#' + key);\n",
              "        const charts = await google.colab.kernel.invokeFunction(\n",
              "            'suggestCharts', [key], {});\n",
              "      }\n",
              "    </script>\n",
              "\n",
              "      <script>\n",
              "\n",
              "function displayQuickchartButton(domScope) {\n",
              "  let quickchartButtonEl =\n",
              "    domScope.querySelector('#df-f708643a-b3b8-45ac-9a28-ed433ba635ac button.colab-df-quickchart');\n",
              "  quickchartButtonEl.style.display =\n",
              "    google.colab.kernel.accessAllowed ? 'block' : 'none';\n",
              "}\n",
              "\n",
              "        displayQuickchartButton(document);\n",
              "      </script>\n",
              "      <style>\n",
              "    .colab-df-container {\n",
              "      display:flex;\n",
              "      flex-wrap:wrap;\n",
              "      gap: 12px;\n",
              "    }\n",
              "\n",
              "    .colab-df-convert {\n",
              "      background-color: #E8F0FE;\n",
              "      border: none;\n",
              "      border-radius: 50%;\n",
              "      cursor: pointer;\n",
              "      display: none;\n",
              "      fill: #1967D2;\n",
              "      height: 32px;\n",
              "      padding: 0 0 0 0;\n",
              "      width: 32px;\n",
              "    }\n",
              "\n",
              "    .colab-df-convert:hover {\n",
              "      background-color: #E2EBFA;\n",
              "      box-shadow: 0px 1px 2px rgba(60, 64, 67, 0.3), 0px 1px 3px 1px rgba(60, 64, 67, 0.15);\n",
              "      fill: #174EA6;\n",
              "    }\n",
              "\n",
              "    [theme=dark] .colab-df-convert {\n",
              "      background-color: #3B4455;\n",
              "      fill: #D2E3FC;\n",
              "    }\n",
              "\n",
              "    [theme=dark] .colab-df-convert:hover {\n",
              "      background-color: #434B5C;\n",
              "      box-shadow: 0px 1px 3px 1px rgba(0, 0, 0, 0.15);\n",
              "      filter: drop-shadow(0px 1px 2px rgba(0, 0, 0, 0.3));\n",
              "      fill: #FFFFFF;\n",
              "    }\n",
              "  </style>\n",
              "\n",
              "      <script>\n",
              "        const buttonEl =\n",
              "          document.querySelector('#df-b818903a-a661-453c-8c59-6fcf61b6978f button.colab-df-convert');\n",
              "        buttonEl.style.display =\n",
              "          google.colab.kernel.accessAllowed ? 'block' : 'none';\n",
              "\n",
              "        async function convertToInteractive(key) {\n",
              "          const element = document.querySelector('#df-b818903a-a661-453c-8c59-6fcf61b6978f');\n",
              "          const dataTable =\n",
              "            await google.colab.kernel.invokeFunction('convertToInteractive',\n",
              "                                                     [key], {});\n",
              "          if (!dataTable) return;\n",
              "\n",
              "          const docLinkHtml = 'Like what you see? Visit the ' +\n",
              "            '<a target=\"_blank\" href=https://colab.research.google.com/notebooks/data_table.ipynb>data table notebook</a>'\n",
              "            + ' to learn more about interactive tables.';\n",
              "          element.innerHTML = '';\n",
              "          dataTable['output_type'] = 'display_data';\n",
              "          await google.colab.output.renderOutput(dataTable, element);\n",
              "          const docLink = document.createElement('div');\n",
              "          docLink.innerHTML = docLinkHtml;\n",
              "          element.appendChild(docLink);\n",
              "        }\n",
              "      </script>\n",
              "    </div>\n",
              "  </div>\n"
            ]
          },
          "metadata": {},
          "execution_count": 29
        }
      ]
    },
    {
      "cell_type": "code",
      "source": [
        "data_clinical.info()"
      ],
      "metadata": {
        "colab": {
          "base_uri": "https://localhost:8080/"
        },
        "id": "gvTo_yOdd8EZ",
        "outputId": "0e3e9fc2-4863-4867-ba11-240e77c805e6"
      },
      "execution_count": null,
      "outputs": [
        {
          "output_type": "stream",
          "name": "stdout",
          "text": [
            "<class 'pandas.core.frame.DataFrame'>\n",
            "RangeIndex: 2588 entries, 0 to 2587\n",
            "Data columns (total 8 columns):\n",
            " #   Column                               Non-Null Count  Dtype  \n",
            "---  ------                               --------------  -----  \n",
            " 0   visit_id                             2588 non-null   object \n",
            " 1   patient_id                           2588 non-null   int64  \n",
            " 2   visit_month                          2588 non-null   int64  \n",
            " 3   updrs_1                              2588 non-null   float64\n",
            " 4   updrs_2                              2588 non-null   float64\n",
            " 5   updrs_3                              2588 non-null   float64\n",
            " 6   updrs_4                              1562 non-null   float64\n",
            " 7   upd23b_clinical_state_on_medication  2588 non-null   object \n",
            "dtypes: float64(4), int64(2), object(2)\n",
            "memory usage: 161.9+ KB\n"
          ]
        }
      ]
    },
    {
      "cell_type": "code",
      "source": [
        "num_patient = len(data_clinical['patient_id'].unique())\n",
        "\n",
        "print(f'En la tabla se tiene información de {num_patient} pacientes.')"
      ],
      "metadata": {
        "colab": {
          "base_uri": "https://localhost:8080/"
        },
        "id": "gms1-WB4y8FI",
        "outputId": "f92a9c53-0155-4792-e292-67d7caa77f2a"
      },
      "execution_count": null,
      "outputs": [
        {
          "output_type": "stream",
          "name": "stdout",
          "text": [
            "En la tabla se tiene información de 248 pacientes.\n"
          ]
        }
      ]
    },
    {
      "cell_type": "code",
      "source": [
        "np.random.seed(123)\n",
        "index_na = np.random.choice(data_clinical[data_clinical.upd23b_clinical_state_on_medication == 'N/A'].index, 1)\n",
        "id_na = data_clinical.loc[index_na,'patient_id'][int(index_na)]\n",
        "\n",
        "df_patient = data_clinical[data_clinical['patient_id'] == id_na]\n",
        "p = data_clinical[data_clinical['upd23b_clinical_state_on_medication'] == 'N/A']['updrs_3'].quantile(0.75)\n",
        "\n",
        "fig, ax = plt.subplots(1, 1)\n",
        "\n",
        "ax.plot(df_patient['visit_month'], df_patient['updrs_1'], marker='o', color=\"blue\", label=\"updrs_1\", linestyle=\"-\")\n",
        "ax.plot(df_patient['visit_month'], df_patient['updrs_2'], marker='o', color=\"red\", label=\"updrs_2\", linestyle=\"-\")\n",
        "ax.plot(df_patient['visit_month'], df_patient['updrs_3'], marker='o', color=\"green\", label=\"updrs_3\", linestyle=\"-\")\n",
        "ax.axhline(y = p, color = 'red', label = '75 percentile updrs_3')\n",
        "\n",
        "for i in df_patient.index:\n",
        "  ax.annotate(df_patient.loc[i,'upd23b_clinical_state_on_medication'], (df_patient.loc[i,'visit_month'], df_patient.loc[i,'updrs_3']))\n",
        "\n",
        "ax.legend()\n",
        "plt.show()"
      ],
      "metadata": {
        "colab": {
          "base_uri": "https://localhost:8080/",
          "height": 430
        },
        "id": "9oGvExKVzJgR",
        "outputId": "2c737677-8102-4f84-df84-a2ef9eb2a8b4"
      },
      "execution_count": null,
      "outputs": [
        {
          "output_type": "display_data",
          "data": {
            "text/plain": [
              "<Figure size 640x480 with 1 Axes>"
            ],
            "image/png": "[encoded data removed]"
          },
          "metadata": {}
        }
      ]
    },
    {
      "cell_type": "markdown",
      "source": [
        "## Ahora vamos a observar el dataframe `data_proteins`. Las variables medidas en esta tabla son las siguientes:\n",
        "\n",
        "* `visit_id`: ID de la visita del paciente.\n",
        "* `visit_month`: El mes de la visita, relativo a la primera visita del paciente.\n",
        "* `patient_id`: ID del paciente.\n",
        "* `UniProt`: El código de identificación de [UniProt](https://www.uniprot.org/id-mapping) para la proteína asociada. A menudo hay varios péptidos por proteína.\n",
        "* `NPX`: El índice Normalized Protein eXpression (NPX). Un valor alto de NPX equivale a una alta concentración de proteína.\n",
        "\n"
      ],
      "metadata": {
        "id": "JgJr8TkCLaG-"
      }
    },
    {
      "cell_type": "code",
      "source": [
        "data_proteins.head()"
      ],
      "metadata": {
        "colab": {
          "base_uri": "https://localhost:8080/",
          "height": 206
        },
        "id": "Wgy_5PVELlHN",
        "outputId": "51d7ebd2-0f9c-4903-8904-d42466101ea1"
      },
      "execution_count": null,
      "outputs": [
        {
          "output_type": "execute_result",
          "data": {
            "text/plain": [
              "  visit_id  visit_month  patient_id UniProt       NPX\n",
              "0     55_0            0          55  O00391   11254.3\n",
              "1     55_0            0          55  O00533  732430.0\n",
              "2     55_0            0          55  O00584   39585.8\n",
              "3     55_0            0          55  O14498   41526.9\n",
              "4     55_0            0          55  O14773   31238.0"
            ],
            "text/html": [
              "\n",
              "\n",
              "  <div id=\"df-d28ab96d-b808-408f-b627-7ddbe4bb2510\">\n",
              "    <div class=\"colab-df-container\">\n",
              "      <div>\n",
              "<style scoped>\n",
              "    .dataframe tbody tr th:only-of-type {\n",
              "        vertical-align: middle;\n",
              "    }\n",
              "\n",
              "    .dataframe tbody tr th {\n",
              "        vertical-align: top;\n",
              "    }\n",
              "\n",
              "    .dataframe thead th {\n",
              "        text-align: right;\n",
              "    }\n",
              "</style>\n",
              "<table border=\"1\" class=\"dataframe\">\n",
              "  <thead>\n",
              "    <tr style=\"text-align: right;\">\n",
              "      <th></th>\n",
              "      <th>visit_id</th>\n",
              "      <th>visit_month</th>\n",
              "      <th>patient_id</th>\n",
              "      <th>UniProt</th>\n",
              "      <th>NPX</th>\n",
              "    </tr>\n",
              "  </thead>\n",
              "  <tbody>\n",
              "    <tr>\n",
              "      <th>0</th>\n",
              "      <td>55_0</td>\n",
              "      <td>0</td>\n",
              "      <td>55</td>\n",
              "      <td>O00391</td>\n",
              "      <td>11254.3</td>\n",
              "    </tr>\n",
              "    <tr>\n",
              "      <th>1</th>\n",
              "      <td>55_0</td>\n",
              "      <td>0</td>\n",
              "      <td>55</td>\n",
              "      <td>O00533</td>\n",
              "      <td>732430.0</td>\n",
              "    </tr>\n",
              "    <tr>\n",
              "      <th>2</th>\n",
              "      <td>55_0</td>\n",
              "      <td>0</td>\n",
              "      <td>55</td>\n",
              "      <td>O00584</td>\n",
              "      <td>39585.8</td>\n",
              "    </tr>\n",
              "    <tr>\n",
              "      <th>3</th>\n",
              "      <td>55_0</td>\n",
              "      <td>0</td>\n",
              "      <td>55</td>\n",
              "      <td>O14498</td>\n",
              "      <td>41526.9</td>\n",
              "    </tr>\n",
              "    <tr>\n",
              "      <th>4</th>\n",
              "      <td>55_0</td>\n",
              "      <td>0</td>\n",
              "      <td>55</td>\n",
              "      <td>O14773</td>\n",
              "      <td>31238.0</td>\n",
              "    </tr>\n",
              "  </tbody>\n",
              "</table>\n",
              "</div>\n",
              "      <button class=\"colab-df-convert\" onclick=\"convertToInteractive('df-d28ab96d-b808-408f-b627-7ddbe4bb2510')\"\n",
              "              title=\"Convert this dataframe to an interactive table.\"\n",
              "              style=\"display:none;\">\n",
              "\n",
              "  <svg xmlns=\"http://www.w3.org/2000/svg\" height=\"24px\"viewBox=\"0 0 24 24\"\n",
              "       width=\"24px\">\n",
              "    <path d=\"M0 0h24v24H0V0z\" fill=\"none\"/>\n",
              "    <path d=\"M18.56 5.44l.94 2.06.94-2.06 2.06-.94-2.06-.94-.94-2.06-.94 2.06-2.06.94zm-11 1L8.5 8.5l.94-2.06 2.06-.94-2.06-.94L8.5 2.5l-.94 2.06-2.06.94zm10 10l.94 2.06.94-2.06 2.06-.94-2.06-.94-.94-2.06-.94 2.06-2.06.94z\"/><path d=\"M17.41 7.96l-1.37-1.37c-.4-.4-.92-.59-1.43-.59-.52 0-1.04.2-1.43.59L10.3 9.45l-7.72 7.72c-.78.78-.78 2.05 0 2.83L4 21.41c.39.39.9.59 1.41.59.51 0 1.02-.2 1.41-.59l7.78-7.78 2.81-2.81c.8-.78.8-2.07 0-2.86zM5.41 20L4 18.59l7.72-7.72 1.47 1.35L5.41 20z\"/>\n",
              "  </svg>\n",
              "      </button>\n",
              "\n",
              "\n",
              "\n",
              "    <div id=\"df-5d827416-d1c9-4fd3-9e1c-cdd772ed6240\">\n",
              "      <button class=\"colab-df-quickchart\" onclick=\"quickchart('df-5d827416-d1c9-4fd3-9e1c-cdd772ed6240')\"\n",
              "              title=\"Suggest charts.\"\n",
              "              style=\"display:none;\">\n",
              "\n",
              "<svg xmlns=\"http://www.w3.org/2000/svg\" height=\"24px\"viewBox=\"0 0 24 24\"\n",
              "     width=\"24px\">\n",
              "    <g>\n",
              "        <path d=\"M19 3H5c-1.1 0-2 .9-2 2v14c0 1.1.9 2 2 2h14c1.1 0 2-.9 2-2V5c0-1.1-.9-2-2-2zM9 17H7v-7h2v7zm4 0h-2V7h2v10zm4 0h-2v-4h2v4z\"/>\n",
              "    </g>\n",
              "</svg>\n",
              "      </button>\n",
              "    </div>\n",
              "\n",
              "<style>\n",
              "  .colab-df-quickchart {\n",
              "    background-color: #E8F0FE;\n",
              "    border: none;\n",
              "    border-radius: 50%;\n",
              "    cursor: pointer;\n",
              "    display: none;\n",
              "    fill: #1967D2;\n",
              "    height: 32px;\n",
              "    padding: 0 0 0 0;\n",
              "    width: 32px;\n",
              "  }\n",
              "\n",
              "  .colab-df-quickchart:hover {\n",
              "    background-color: #E2EBFA;\n",
              "    box-shadow: 0px 1px 2px rgba(60, 64, 67, 0.3), 0px 1px 3px 1px rgba(60, 64, 67, 0.15);\n",
              "    fill: #174EA6;\n",
              "  }\n",
              "\n",
              "  [theme=dark] .colab-df-quickchart {\n",
              "    background-color: #3B4455;\n",
              "    fill: #D2E3FC;\n",
              "  }\n",
              "\n",
              "  [theme=dark] .colab-df-quickchart:hover {\n",
              "    background-color: #434B5C;\n",
              "    box-shadow: 0px 1px 3px 1px rgba(0, 0, 0, 0.15);\n",
              "    filter: drop-shadow(0px 1px 2px rgba(0, 0, 0, 0.3));\n",
              "    fill: #FFFFFF;\n",
              "  }\n",
              "</style>\n",
              "\n",
              "    <script>\n",
              "      async function quickchart(key) {\n",
              "        const containerElement = document.querySelector('#' + key);\n",
              "        const charts = await google.colab.kernel.invokeFunction(\n",
              "            'suggestCharts', [key], {});\n",
              "      }\n",
              "    </script>\n",
              "\n",
              "      <script>\n",
              "\n",
              "function displayQuickchartButton(domScope) {\n",
              "  let quickchartButtonEl =\n",
              "    domScope.querySelector('#df-5d827416-d1c9-4fd3-9e1c-cdd772ed6240 button.colab-df-quickchart');\n",
              "  quickchartButtonEl.style.display =\n",
              "    google.colab.kernel.accessAllowed ? 'block' : 'none';\n",
              "}\n",
              "\n",
              "        displayQuickchartButton(document);\n",
              "      </script>\n",
              "      <style>\n",
              "    .colab-df-container {\n",
              "      display:flex;\n",
              "      flex-wrap:wrap;\n",
              "      gap: 12px;\n",
              "    }\n",
              "\n",
              "    .colab-df-convert {\n",
              "      background-color: #E8F0FE;\n",
              "      border: none;\n",
              "      border-radius: 50%;\n",
              "      cursor: pointer;\n",
              "      display: none;\n",
              "      fill: #1967D2;\n",
              "      height: 32px;\n",
              "      padding: 0 0 0 0;\n",
              "      width: 32px;\n",
              "    }\n",
              "\n",
              "    .colab-df-convert:hover {\n",
              "      background-color: #E2EBFA;\n",
              "      box-shadow: 0px 1px 2px rgba(60, 64, 67, 0.3), 0px 1px 3px 1px rgba(60, 64, 67, 0.15);\n",
              "      fill: #174EA6;\n",
              "    }\n",
              "\n",
              "    [theme=dark] .colab-df-convert {\n",
              "      background-color: #3B4455;\n",
              "      fill: #D2E3FC;\n",
              "    }\n",
              "\n",
              "    [theme=dark] .colab-df-convert:hover {\n",
              "      background-color: #434B5C;\n",
              "      box-shadow: 0px 1px 3px 1px rgba(0, 0, 0, 0.15);\n",
              "      filter: drop-shadow(0px 1px 2px rgba(0, 0, 0, 0.3));\n",
              "      fill: #FFFFFF;\n",
              "    }\n",
              "  </style>\n",
              "\n",
              "      <script>\n",
              "        const buttonEl =\n",
              "          document.querySelector('#df-d28ab96d-b808-408f-b627-7ddbe4bb2510 button.colab-df-convert');\n",
              "        buttonEl.style.display =\n",
              "          google.colab.kernel.accessAllowed ? 'block' : 'none';\n",
              "\n",
              "        async function convertToInteractive(key) {\n",
              "          const element = document.querySelector('#df-d28ab96d-b808-408f-b627-7ddbe4bb2510');\n",
              "          const dataTable =\n",
              "            await google.colab.kernel.invokeFunction('convertToInteractive',\n",
              "                                                     [key], {});\n",
              "          if (!dataTable) return;\n",
              "\n",
              "          const docLinkHtml = 'Like what you see? Visit the ' +\n",
              "            '<a target=\"_blank\" href=https://colab.research.google.com/notebooks/data_table.ipynb>data table notebook</a>'\n",
              "            + ' to learn more about interactive tables.';\n",
              "          element.innerHTML = '';\n",
              "          dataTable['output_type'] = 'display_data';\n",
              "          await google.colab.output.renderOutput(dataTable, element);\n",
              "          const docLink = document.createElement('div');\n",
              "          docLink.innerHTML = docLinkHtml;\n",
              "          element.appendChild(docLink);\n",
              "        }\n",
              "      </script>\n",
              "    </div>\n",
              "  </div>\n"
            ]
          },
          "metadata": {},
          "execution_count": 33
        }
      ]
    },
    {
      "cell_type": "code",
      "source": [
        "data_proteins.shape"
      ],
      "metadata": {
        "colab": {
          "base_uri": "https://localhost:8080/"
        },
        "id": "NTyMf73HLusc",
        "outputId": "f26f7628-ff3b-46fa-ac34-63a8c02edeaa"
      },
      "execution_count": null,
      "outputs": [
        {
          "output_type": "execute_result",
          "data": {
            "text/plain": [
              "(232741, 5)"
            ]
          },
          "metadata": {},
          "execution_count": 34
        }
      ]
    },
    {
      "cell_type": "code",
      "source": [
        "data_proteins.info()"
      ],
      "metadata": {
        "colab": {
          "base_uri": "https://localhost:8080/"
        },
        "id": "AMxwwa5CPVLu",
        "outputId": "a7374838-9579-466c-b6a3-765086141ee5"
      },
      "execution_count": null,
      "outputs": [
        {
          "output_type": "stream",
          "name": "stdout",
          "text": [
            "<class 'pandas.core.frame.DataFrame'>\n",
            "RangeIndex: 232741 entries, 0 to 232740\n",
            "Data columns (total 5 columns):\n",
            " #   Column       Non-Null Count   Dtype  \n",
            "---  ------       --------------   -----  \n",
            " 0   visit_id     232741 non-null  object \n",
            " 1   visit_month  232741 non-null  int64  \n",
            " 2   patient_id   232741 non-null  int64  \n",
            " 3   UniProt      232741 non-null  object \n",
            " 4   NPX          232741 non-null  float64\n",
            "dtypes: float64(1), int64(2), object(2)\n",
            "memory usage: 8.9+ MB\n"
          ]
        }
      ]
    },
    {
      "cell_type": "markdown",
      "source": [
        "El dataframe tiene **232 741 observaciones** de **cinco variables**. De nuevo, cada vez que el paciente hace una visita se mide el indicador `NPX` por cada proteína encontrada."
      ],
      "metadata": {
        "id": "yLWGT6TbMaa7"
      }
    },
    {
      "cell_type": "markdown",
      "source": [
        "**Nota:**\n",
        "\n",
        "No hay valores perdidos en esta tabla. Todas las variables están en el tipo adecuado."
      ],
      "metadata": {
        "id": "yJuuGvlHZHk6"
      }
    },
    {
      "cell_type": "code",
      "source": [
        "num_patients = len(data_proteins['patient_id'].unique())\n",
        "num_visits = len(data_proteins['visit_id'].unique())\n",
        "print(f'La cantidad de pacientes para los cuales hay información en la tabla es {num_patients}')\n",
        "print(f'La cantidad de visitas que realizan los pacientes es {num_visits}')"
      ],
      "metadata": {
        "colab": {
          "base_uri": "https://localhost:8080/"
        },
        "id": "ZZl09IqkHsnf",
        "outputId": "a49a8183-a9fd-4988-bf4a-36897e2c9502"
      },
      "execution_count": null,
      "outputs": [
        {
          "output_type": "stream",
          "name": "stdout",
          "text": [
            "La cantidad de pacientes para los cuales hay información en la tabla es 248\n",
            "La cantidad de visitas que realizan los pacientes es 1113\n"
          ]
        }
      ]
    },
    {
      "cell_type": "markdown",
      "source": [
        "**Nota:**\n",
        "\n",
        "Note que tenemos la misma cantidad de pacientes, pero menos visitas informadas."
      ],
      "metadata": {
        "id": "9OELSB2NJocH"
      }
    },
    {
      "cell_type": "code",
      "source": [
        "df_prot_na = data_proteins[data_proteins['patient_id'] == id_na]\n",
        "num_visits = len(df_prot_na['visit_id'].unique())\n",
        "print(f'Este paciente ha hecho {num_visits} visitas')"
      ],
      "metadata": {
        "colab": {
          "base_uri": "https://localhost:8080/"
        },
        "id": "qs7aYfvoKsr6",
        "outputId": "3cec1c34-b481-4214-a055-85f2126336a5"
      },
      "execution_count": null,
      "outputs": [
        {
          "output_type": "stream",
          "name": "stdout",
          "text": [
            "Este paciente ha hecho 5 visitas\n"
          ]
        }
      ]
    },
    {
      "cell_type": "code",
      "source": [
        "num_prot = len(df_prot_na['UniProt'].unique())\n",
        "print(f'El número de proteínas medidas en este pacientes es {num_prot}')"
      ],
      "metadata": {
        "colab": {
          "base_uri": "https://localhost:8080/"
        },
        "id": "7poxV7_oL7m0",
        "outputId": "f6ffb1c9-f38a-4837-db7d-a5f9dc3161b6"
      },
      "execution_count": null,
      "outputs": [
        {
          "output_type": "stream",
          "name": "stdout",
          "text": [
            "El número de proteínas medidas en este pacientes es 224\n"
          ]
        }
      ]
    },
    {
      "cell_type": "code",
      "source": [
        "df_prot_na.groupby('visit_id')['UniProt'].count()"
      ],
      "metadata": {
        "colab": {
          "base_uri": "https://localhost:8080/"
        },
        "id": "avvLsdqsVQuh",
        "outputId": "ece90646-af62-4dec-a5bc-4ba83e514415"
      },
      "execution_count": null,
      "outputs": [
        {
          "output_type": "execute_result",
          "data": {
            "text/plain": [
              "visit_id\n",
              "56075_0     206\n",
              "56075_12    212\n",
              "56075_24    209\n",
              "56075_48    215\n",
              "56075_60    206\n",
              "Name: UniProt, dtype: int64"
            ]
          },
          "metadata": {},
          "execution_count": 39
        }
      ]
    },
    {
      "cell_type": "code",
      "source": [
        "dist_num_prot = []\n",
        "patients = data_proteins['patient_id'].unique()\n",
        "for pat in patients:\n",
        "  df_pat = data_proteins[data_proteins.patient_id == pat]\n",
        "  num_min = df_pat.groupby('visit_id')['UniProt'].count().min()\n",
        "  dist_num_prot.append(num_min)\n",
        "\n",
        "df_num_min_prot = pd.DataFrame(data = {'Num_min_prot': dist_num_prot}, index = patients)"
      ],
      "metadata": {
        "id": "ZmXpqfe1OgEA"
      },
      "execution_count": null,
      "outputs": []
    },
    {
      "cell_type": "code",
      "source": [
        "pd.Series(dist_num_prot).describe()"
      ],
      "metadata": {
        "colab": {
          "base_uri": "https://localhost:8080/"
        },
        "id": "nbkvTiBiV-xS",
        "outputId": "41aa4df4-1ca2-4fa4-dddc-2bafc21f7b39"
      },
      "execution_count": null,
      "outputs": [
        {
          "output_type": "execute_result",
          "data": {
            "text/plain": [
              "count    248.000000\n",
              "mean     202.379032\n",
              "std       17.254040\n",
              "min       37.000000\n",
              "25%      198.000000\n",
              "50%      207.000000\n",
              "75%      212.000000\n",
              "max      221.000000\n",
              "dtype: float64"
            ]
          },
          "metadata": {},
          "execution_count": 41
        }
      ]
    },
    {
      "cell_type": "code",
      "source": [
        "fig, ax = plt.subplots(1, 2, figsize = (10,5))\n",
        "ax[0].hist(dist_num_prot, bins = 30, density = True)\n",
        "ax[0].set_xlabel('Número mínimo de proteínas medidas')\n",
        "ax[0].set_ylabel('Densidad')\n",
        "ax[1].boxplot(dist_num_prot)\n",
        "plt.show()"
      ],
      "metadata": {
        "colab": {
          "base_uri": "https://localhost:8080/",
          "height": 465
        },
        "id": "Vbe-YmU3S8pm",
        "outputId": "a3ec20cd-1971-440e-bed0-c356964357be"
      },
      "execution_count": null,
      "outputs": [
        {
          "output_type": "display_data",
          "data": {
            "text/plain": [
              "<Figure size 1000x500 with 2 Axes>"
            ],
            "image/png": "[encoded data removed]"
          },
          "metadata": {}
        }
      ]
    },
    {
      "cell_type": "code",
      "source": [
        "df_num_min_prot[df_num_min_prot['Num_min_prot'] == 37]"
      ],
      "metadata": {
        "colab": {
          "base_uri": "https://localhost:8080/",
          "height": 80
        },
        "id": "mCuZC13Vnhuo",
        "outputId": "1053cafd-1f1a-496a-ceb5-1bc24580692f"
      },
      "execution_count": null,
      "outputs": [
        {
          "output_type": "execute_result",
          "data": {
            "text/plain": [
              "       Num_min_prot\n",
              "25562            37"
            ],
            "text/html": [
              "\n",
              "\n",
              "  <div id=\"df-31e45fb7-90c7-4d50-a683-7da8da38b952\">\n",
              "    <div class=\"colab-df-container\">\n",
              "      <div>\n",
              "<style scoped>\n",
              "    .dataframe tbody tr th:only-of-type {\n",
              "        vertical-align: middle;\n",
              "    }\n",
              "\n",
              "    .dataframe tbody tr th {\n",
              "        vertical-align: top;\n",
              "    }\n",
              "\n",
              "    .dataframe thead th {\n",
              "        text-align: right;\n",
              "    }\n",
              "</style>\n",
              "<table border=\"1\" class=\"dataframe\">\n",
              "  <thead>\n",
              "    <tr style=\"text-align: right;\">\n",
              "      <th></th>\n",
              "      <th>Num_min_prot</th>\n",
              "    </tr>\n",
              "  </thead>\n",
              "  <tbody>\n",
              "    <tr>\n",
              "      <th>25562</th>\n",
              "      <td>37</td>\n",
              "    </tr>\n",
              "  </tbody>\n",
              "</table>\n",
              "</div>\n",
              "      <button class=\"colab-df-convert\" onclick=\"convertToInteractive('df-31e45fb7-90c7-4d50-a683-7da8da38b952')\"\n",
              "              title=\"Convert this dataframe to an interactive table.\"\n",
              "              style=\"display:none;\">\n",
              "\n",
              "  <svg xmlns=\"http://www.w3.org/2000/svg\" height=\"24px\"viewBox=\"0 0 24 24\"\n",
              "       width=\"24px\">\n",
              "    <path d=\"M0 0h24v24H0V0z\" fill=\"none\"/>\n",
              "    <path d=\"M18.56 5.44l.94 2.06.94-2.06 2.06-.94-2.06-.94-.94-2.06-.94 2.06-2.06.94zm-11 1L8.5 8.5l.94-2.06 2.06-.94-2.06-.94L8.5 2.5l-.94 2.06-2.06.94zm10 10l.94 2.06.94-2.06 2.06-.94-2.06-.94-.94-2.06-.94 2.06-2.06.94z\"/><path d=\"M17.41 7.96l-1.37-1.37c-.4-.4-.92-.59-1.43-.59-.52 0-1.04.2-1.43.59L10.3 9.45l-7.72 7.72c-.78.78-.78 2.05 0 2.83L4 21.41c.39.39.9.59 1.41.59.51 0 1.02-.2 1.41-.59l7.78-7.78 2.81-2.81c.8-.78.8-2.07 0-2.86zM5.41 20L4 18.59l7.72-7.72 1.47 1.35L5.41 20z\"/>\n",
              "  </svg>\n",
              "      </button>\n",
              "\n",
              "\n",
              "\n",
              "    <div id=\"df-90af4624-3573-4544-a12a-9491aaa8796d\">\n",
              "      <button class=\"colab-df-quickchart\" onclick=\"quickchart('df-90af4624-3573-4544-a12a-9491aaa8796d')\"\n",
              "              title=\"Suggest charts.\"\n",
              "              style=\"display:none;\">\n",
              "\n",
              "<svg xmlns=\"http://www.w3.org/2000/svg\" height=\"24px\"viewBox=\"0 0 24 24\"\n",
              "     width=\"24px\">\n",
              "    <g>\n",
              "        <path d=\"M19 3H5c-1.1 0-2 .9-2 2v14c0 1.1.9 2 2 2h14c1.1 0 2-.9 2-2V5c0-1.1-.9-2-2-2zM9 17H7v-7h2v7zm4 0h-2V7h2v10zm4 0h-2v-4h2v4z\"/>\n",
              "    </g>\n",
              "</svg>\n",
              "      </button>\n",
              "    </div>\n",
              "\n",
              "<style>\n",
              "  .colab-df-quickchart {\n",
              "    background-color: #E8F0FE;\n",
              "    border: none;\n",
              "    border-radius: 50%;\n",
              "    cursor: pointer;\n",
              "    display: none;\n",
              "    fill: #1967D2;\n",
              "    height: 32px;\n",
              "    padding: 0 0 0 0;\n",
              "    width: 32px;\n",
              "  }\n",
              "\n",
              "  .colab-df-quickchart:hover {\n",
              "    background-color: #E2EBFA;\n",
              "    box-shadow: 0px 1px 2px rgba(60, 64, 67, 0.3), 0px 1px 3px 1px rgba(60, 64, 67, 0.15);\n",
              "    fill: #174EA6;\n",
              "  }\n",
              "\n",
              "  [theme=dark] .colab-df-quickchart {\n",
              "    background-color: #3B4455;\n",
              "    fill: #D2E3FC;\n",
              "  }\n",
              "\n",
              "  [theme=dark] .colab-df-quickchart:hover {\n",
              "    background-color: #434B5C;\n",
              "    box-shadow: 0px 1px 3px 1px rgba(0, 0, 0, 0.15);\n",
              "    filter: drop-shadow(0px 1px 2px rgba(0, 0, 0, 0.3));\n",
              "    fill: #FFFFFF;\n",
              "  }\n",
              "</style>\n",
              "\n",
              "    <script>\n",
              "      async function quickchart(key) {\n",
              "        const containerElement = document.querySelector('#' + key);\n",
              "        const charts = await google.colab.kernel.invokeFunction(\n",
              "            'suggestCharts', [key], {});\n",
              "      }\n",
              "    </script>\n",
              "\n",
              "      <script>\n",
              "\n",
              "function displayQuickchartButton(domScope) {\n",
              "  let quickchartButtonEl =\n",
              "    domScope.querySelector('#df-90af4624-3573-4544-a12a-9491aaa8796d button.colab-df-quickchart');\n",
              "  quickchartButtonEl.style.display =\n",
              "    google.colab.kernel.accessAllowed ? 'block' : 'none';\n",
              "}\n",
              "\n",
              "        displayQuickchartButton(document);\n",
              "      </script>\n",
              "      <style>\n",
              "    .colab-df-container {\n",
              "      display:flex;\n",
              "      flex-wrap:wrap;\n",
              "      gap: 12px;\n",
              "    }\n",
              "\n",
              "    .colab-df-convert {\n",
              "      background-color: #E8F0FE;\n",
              "      border: none;\n",
              "      border-radius: 50%;\n",
              "      cursor: pointer;\n",
              "      display: none;\n",
              "      fill: #1967D2;\n",
              "      height: 32px;\n",
              "      padding: 0 0 0 0;\n",
              "      width: 32px;\n",
              "    }\n",
              "\n",
              "    .colab-df-convert:hover {\n",
              "      background-color: #E2EBFA;\n",
              "      box-shadow: 0px 1px 2px rgba(60, 64, 67, 0.3), 0px 1px 3px 1px rgba(60, 64, 67, 0.15);\n",
              "      fill: #174EA6;\n",
              "    }\n",
              "\n",
              "    [theme=dark] .colab-df-convert {\n",
              "      background-color: #3B4455;\n",
              "      fill: #D2E3FC;\n",
              "    }\n",
              "\n",
              "    [theme=dark] .colab-df-convert:hover {\n",
              "      background-color: #434B5C;\n",
              "      box-shadow: 0px 1px 3px 1px rgba(0, 0, 0, 0.15);\n",
              "      filter: drop-shadow(0px 1px 2px rgba(0, 0, 0, 0.3));\n",
              "      fill: #FFFFFF;\n",
              "    }\n",
              "  </style>\n",
              "\n",
              "      <script>\n",
              "        const buttonEl =\n",
              "          document.querySelector('#df-31e45fb7-90c7-4d50-a683-7da8da38b952 button.colab-df-convert');\n",
              "        buttonEl.style.display =\n",
              "          google.colab.kernel.accessAllowed ? 'block' : 'none';\n",
              "\n",
              "        async function convertToInteractive(key) {\n",
              "          const element = document.querySelector('#df-31e45fb7-90c7-4d50-a683-7da8da38b952');\n",
              "          const dataTable =\n",
              "            await google.colab.kernel.invokeFunction('convertToInteractive',\n",
              "                                                     [key], {});\n",
              "          if (!dataTable) return;\n",
              "\n",
              "          const docLinkHtml = 'Like what you see? Visit the ' +\n",
              "            '<a target=\"_blank\" href=https://colab.research.google.com/notebooks/data_table.ipynb>data table notebook</a>'\n",
              "            + ' to learn more about interactive tables.';\n",
              "          element.innerHTML = '';\n",
              "          dataTable['output_type'] = 'display_data';\n",
              "          await google.colab.output.renderOutput(dataTable, element);\n",
              "          const docLink = document.createElement('div');\n",
              "          docLink.innerHTML = docLinkHtml;\n",
              "          element.appendChild(docLink);\n",
              "        }\n",
              "      </script>\n",
              "    </div>\n",
              "  </div>\n"
            ]
          },
          "metadata": {},
          "execution_count": 43
        }
      ]
    },
    {
      "cell_type": "code",
      "source": [
        "data_proteins[data_proteins.patient_id == 25562].groupby('visit_id')['UniProt'].count()"
      ],
      "metadata": {
        "colab": {
          "base_uri": "https://localhost:8080/"
        },
        "id": "aX4gGHAEq1Rr",
        "outputId": "3f6818a1-1f08-42d4-ad29-102fbcec03f8"
      },
      "execution_count": null,
      "outputs": [
        {
          "output_type": "execute_result",
          "data": {
            "text/plain": [
              "visit_id\n",
              "25562_0     194\n",
              "25562_12    209\n",
              "25562_24    207\n",
              "25562_36     37\n",
              "25562_48    205\n",
              "25562_60    215\n",
              "Name: UniProt, dtype: int64"
            ]
          },
          "metadata": {},
          "execution_count": 44
        }
      ]
    },
    {
      "cell_type": "code",
      "source": [
        "data_proteins = data_proteins[data_proteins['visit_id'] != '25562_36']"
      ],
      "metadata": {
        "id": "wE0tJPWerKHU"
      },
      "execution_count": null,
      "outputs": []
    },
    {
      "cell_type": "markdown",
      "source": [
        "**Nota:**\n",
        "\n",
        "Entonces, ¿qué vamos a hacer para unir la información de la tabla?\n",
        "\n",
        "Vamos a elegir un número de proteínas dado, digamos $N$, y por cada paciente y cada visita vamos a agregar una cantidad de nuevas variables igual al número elegido. La primera variable es el valor `NPX` de la proteína que más se expresa en esa visita, la segunda es el valor `NPX` de la segunda, y así sucesivamente.\n",
        "\n",
        "Esto significa que para predecir los valores `updrs_1`, `updrs_2`, `updrs_3` y `updrs_4` estamos utilizando los valores `NPX` de las $N$ proteínas que más se expresan en esa visita."
      ],
      "metadata": {
        "id": "BpicyW01a0J9"
      }
    },
    {
      "cell_type": "code",
      "source": [
        "def adding_features_prot(N):\n",
        "  '''\n",
        "  N: número de proteínas que se van a medir\n",
        "  por paciente, por visita. Tiene que estar\n",
        "  entre 10 y 37.\n",
        "  '''\n",
        "  visits_ids = data_proteins['visit_id'].unique()\n",
        "  df_prep = data_clinical.query('visit_id in @visits_ids')\n",
        "  new_features = np.zeros((df_prep.shape[0], N+1))\n",
        "\n",
        "  for i, v in enumerate(df_prep['visit_id'].unique()):\n",
        "    df_prot_N = data_proteins[data_proteins.visit_id == v].sort_values(by = 'NPX', ascending = False).head(N)['NPX'].values\n",
        "    new_features[i,:N] = df_prot_N\n",
        "    new_features[i,N] = data_proteins[data_proteins.visit_id == v].sort_values(by = 'NPX', ascending = False).reset_index(drop = True).loc[N:,'NPX'].mean()\n",
        "\n",
        "  columns = []\n",
        "  for i in range(1,N+1):\n",
        "    columns.append('Prot_'+str(i))\n",
        "\n",
        "  columns.append('Prot_mean')\n",
        "\n",
        "  # df_proteins_N = pd.DataFrame(new_features, columns = columns)\n",
        "  df_prep.loc[:,columns] = new_features\n",
        "\n",
        "  return df_prep"
      ],
      "metadata": {
        "id": "5igcDSjDaX1Y"
      },
      "execution_count": null,
      "outputs": []
    },
    {
      "cell_type": "code",
      "source": [
        "df_preparation = adding_features_prot(50)"
      ],
      "metadata": {
        "id": "McIGyW5z2RQS"
      },
      "execution_count": null,
      "outputs": []
    },
    {
      "cell_type": "code",
      "source": [
        "df_preparation.shape"
      ],
      "metadata": {
        "colab": {
          "base_uri": "https://localhost:8080/"
        },
        "id": "kKgMbuE98tdg",
        "outputId": "494db94f-2f52-456f-e567-93d1d8f8c9fb"
      },
      "execution_count": null,
      "outputs": [
        {
          "output_type": "execute_result",
          "data": {
            "text/plain": [
              "(1057, 59)"
            ]
          },
          "metadata": {},
          "execution_count": 48
        }
      ]
    },
    {
      "cell_type": "code",
      "source": [
        "df_preparation.head()"
      ],
      "metadata": {
        "colab": {
          "base_uri": "https://localhost:8080/",
          "height": 299
        },
        "id": "dBrhFkiRywsR",
        "outputId": "77dbcaae-6a41-4b3b-efab-bba2a0e80082"
      },
      "execution_count": null,
      "outputs": [
        {
          "output_type": "execute_result",
          "data": {
            "text/plain": [
              "   visit_id  patient_id  visit_month  updrs_1  updrs_2  updrs_3  updrs_4  \\\n",
              "0      55_0          55            0     10.0      6.0     15.0      NaN   \n",
              "2      55_6          55            6      8.0     10.0     34.0      NaN   \n",
              "4     55_12          55           12     10.0     10.0     41.0      0.0   \n",
              "8     55_36          55           36     17.0     18.0     51.0      0.0   \n",
              "15    942_6         942            6      8.0      2.0     21.0      NaN   \n",
              "\n",
              "   upd23b_clinical_state_on_medication       Prot_1      Prot_2  ...  \\\n",
              "0                                  N/A  390239000.0  43235500.0  ...   \n",
              "2                                  N/A  347572000.0  37999700.0  ...   \n",
              "4                                   On  383507000.0  38506400.0  ...   \n",
              "8                                   On  449882000.0  45508900.0  ...   \n",
              "15                                 N/A  290111000.0  33323200.0  ...   \n",
              "\n",
              "      Prot_42    Prot_43    Prot_44   Prot_45   Prot_46   Prot_47   Prot_48  \\\n",
              "0   1106490.0  1029290.0   982965.0  922153.0  862077.0  860978.0  842865.0   \n",
              "2   1045710.0  1023480.0   992375.0  952960.0  860236.0  801869.0  750870.0   \n",
              "4   1107460.0  1050600.0  1005020.0  969345.0  889307.0  884464.0  883059.0   \n",
              "8   1090610.0  1029240.0   938279.0  925399.0  910437.0  753832.0  708727.0   \n",
              "15   797355.0   780395.0   751635.0  714896.0  713430.0  704843.0  703395.0   \n",
              "\n",
              "     Prot_49   Prot_50      Prot_mean  \n",
              "0   831886.0  732430.0  160878.682722  \n",
              "2   746174.0  745064.0  153765.542917  \n",
              "4   815083.0  726036.0  161704.660523  \n",
              "8   701968.0  692022.0  153288.695230  \n",
              "15  676265.0  639154.0  126862.781928  \n",
              "\n",
              "[5 rows x 59 columns]"
            ],
            "text/html": [
              "\n",
              "\n",
              "  <div id=\"df-99ca63ba-58d7-4ab7-b47e-dd57fe4ce431\">\n",
              "    <div class=\"colab-df-container\">\n",
              "      <div>\n",
              "<style scoped>\n",
              "    .dataframe tbody tr th:only-of-type {\n",
              "        vertical-align: middle;\n",
              "    }\n",
              "\n",
              "    .dataframe tbody tr th {\n",
              "        vertical-align: top;\n",
              "    }\n",
              "\n",
              "    .dataframe thead th {\n",
              "        text-align: right;\n",
              "    }\n",
              "</style>\n",
              "<table border=\"1\" class=\"dataframe\">\n",
              "  <thead>\n",
              "    <tr style=\"text-align: right;\">\n",
              "      <th></th>\n",
              "      <th>visit_id</th>\n",
              "      <th>patient_id</th>\n",
              "      <th>visit_month</th>\n",
              "      <th>updrs_1</th>\n",
              "      <th>updrs_2</th>\n",
              "      <th>updrs_3</th>\n",
              "      <th>updrs_4</th>\n",
              "      <th>upd23b_clinical_state_on_medication</th>\n",
              "      <th>Prot_1</th>\n",
              "      <th>Prot_2</th>\n",
              "      <th>...</th>\n",
              "      <th>Prot_42</th>\n",
              "      <th>Prot_43</th>\n",
              "      <th>Prot_44</th>\n",
              "      <th>Prot_45</th>\n",
              "      <th>Prot_46</th>\n",
              "      <th>Prot_47</th>\n",
              "      <th>Prot_48</th>\n",
              "      <th>Prot_49</th>\n",
              "      <th>Prot_50</th>\n",
              "      <th>Prot_mean</th>\n",
              "    </tr>\n",
              "  </thead>\n",
              "  <tbody>\n",
              "    <tr>\n",
              "      <th>0</th>\n",
              "      <td>55_0</td>\n",
              "      <td>55</td>\n",
              "      <td>0</td>\n",
              "      <td>10.0</td>\n",
              "      <td>6.0</td>\n",
              "      <td>15.0</td>\n",
              "      <td>NaN</td>\n",
              "      <td>N/A</td>\n",
              "      <td>390239000.0</td>\n",
              "      <td>43235500.0</td>\n",
              "      <td>...</td>\n",
              "      <td>1106490.0</td>\n",
              "      <td>1029290.0</td>\n",
              "      <td>982965.0</td>\n",
              "      <td>922153.0</td>\n",
              "      <td>862077.0</td>\n",
              "      <td>860978.0</td>\n",
              "      <td>842865.0</td>\n",
              "      <td>831886.0</td>\n",
              "      <td>732430.0</td>\n",
              "      <td>160878.682722</td>\n",
              "    </tr>\n",
              "    <tr>\n",
              "      <th>2</th>\n",
              "      <td>55_6</td>\n",
              "      <td>55</td>\n",
              "      <td>6</td>\n",
              "      <td>8.0</td>\n",
              "      <td>10.0</td>\n",
              "      <td>34.0</td>\n",
              "      <td>NaN</td>\n",
              "      <td>N/A</td>\n",
              "      <td>347572000.0</td>\n",
              "      <td>37999700.0</td>\n",
              "      <td>...</td>\n",
              "      <td>1045710.0</td>\n",
              "      <td>1023480.0</td>\n",
              "      <td>992375.0</td>\n",
              "      <td>952960.0</td>\n",
              "      <td>860236.0</td>\n",
              "      <td>801869.0</td>\n",
              "      <td>750870.0</td>\n",
              "      <td>746174.0</td>\n",
              "      <td>745064.0</td>\n",
              "      <td>153765.542917</td>\n",
              "    </tr>\n",
              "    <tr>\n",
              "      <th>4</th>\n",
              "      <td>55_12</td>\n",
              "      <td>55</td>\n",
              "      <td>12</td>\n",
              "      <td>10.0</td>\n",
              "      <td>10.0</td>\n",
              "      <td>41.0</td>\n",
              "      <td>0.0</td>\n",
              "      <td>On</td>\n",
              "      <td>383507000.0</td>\n",
              "      <td>38506400.0</td>\n",
              "      <td>...</td>\n",
              "      <td>1107460.0</td>\n",
              "      <td>1050600.0</td>\n",
              "      <td>1005020.0</td>\n",
              "      <td>969345.0</td>\n",
              "      <td>889307.0</td>\n",
              "      <td>884464.0</td>\n",
              "      <td>883059.0</td>\n",
              "      <td>815083.0</td>\n",
              "      <td>726036.0</td>\n",
              "      <td>161704.660523</td>\n",
              "    </tr>\n",
              "    <tr>\n",
              "      <th>8</th>\n",
              "      <td>55_36</td>\n",
              "      <td>55</td>\n",
              "      <td>36</td>\n",
              "      <td>17.0</td>\n",
              "      <td>18.0</td>\n",
              "      <td>51.0</td>\n",
              "      <td>0.0</td>\n",
              "      <td>On</td>\n",
              "      <td>449882000.0</td>\n",
              "      <td>45508900.0</td>\n",
              "      <td>...</td>\n",
              "      <td>1090610.0</td>\n",
              "      <td>1029240.0</td>\n",
              "      <td>938279.0</td>\n",
              "      <td>925399.0</td>\n",
              "      <td>910437.0</td>\n",
              "      <td>753832.0</td>\n",
              "      <td>708727.0</td>\n",
              "      <td>701968.0</td>\n",
              "      <td>692022.0</td>\n",
              "      <td>153288.695230</td>\n",
              "    </tr>\n",
              "    <tr>\n",
              "      <th>15</th>\n",
              "      <td>942_6</td>\n",
              "      <td>942</td>\n",
              "      <td>6</td>\n",
              "      <td>8.0</td>\n",
              "      <td>2.0</td>\n",
              "      <td>21.0</td>\n",
              "      <td>NaN</td>\n",
              "      <td>N/A</td>\n",
              "      <td>290111000.0</td>\n",
              "      <td>33323200.0</td>\n",
              "      <td>...</td>\n",
              "      <td>797355.0</td>\n",
              "      <td>780395.0</td>\n",
              "      <td>751635.0</td>\n",
              "      <td>714896.0</td>\n",
              "      <td>713430.0</td>\n",
              "      <td>704843.0</td>\n",
              "      <td>703395.0</td>\n",
              "      <td>676265.0</td>\n",
              "      <td>639154.0</td>\n",
              "      <td>126862.781928</td>\n",
              "    </tr>\n",
              "  </tbody>\n",
              "</table>\n",
              "<p>5 rows × 59 columns</p>\n",
              "</div>\n",
              "      <button class=\"colab-df-convert\" onclick=\"convertToInteractive('df-99ca63ba-58d7-4ab7-b47e-dd57fe4ce431')\"\n",
              "              title=\"Convert this dataframe to an interactive table.\"\n",
              "              style=\"display:none;\">\n",
              "\n",
              "  <svg xmlns=\"http://www.w3.org/2000/svg\" height=\"24px\"viewBox=\"0 0 24 24\"\n",
              "       width=\"24px\">\n",
              "    <path d=\"M0 0h24v24H0V0z\" fill=\"none\"/>\n",
              "    <path d=\"M18.56 5.44l.94 2.06.94-2.06 2.06-.94-2.06-.94-.94-2.06-.94 2.06-2.06.94zm-11 1L8.5 8.5l.94-2.06 2.06-.94-2.06-.94L8.5 2.5l-.94 2.06-2.06.94zm10 10l.94 2.06.94-2.06 2.06-.94-2.06-.94-.94-2.06-.94 2.06-2.06.94z\"/><path d=\"M17.41 7.96l-1.37-1.37c-.4-.4-.92-.59-1.43-.59-.52 0-1.04.2-1.43.59L10.3 9.45l-7.72 7.72c-.78.78-.78 2.05 0 2.83L4 21.41c.39.39.9.59 1.41.59.51 0 1.02-.2 1.41-.59l7.78-7.78 2.81-2.81c.8-.78.8-2.07 0-2.86zM5.41 20L4 18.59l7.72-7.72 1.47 1.35L5.41 20z\"/>\n",
              "  </svg>\n",
              "      </button>\n",
              "\n",
              "\n",
              "\n",
              "    <div id=\"df-23e767ba-e23b-4aab-9fef-5c5423c63a63\">\n",
              "      <button class=\"colab-df-quickchart\" onclick=\"quickchart('df-23e767ba-e23b-4aab-9fef-5c5423c63a63')\"\n",
              "              title=\"Suggest charts.\"\n",
              "              style=\"display:none;\">\n",
              "\n",
              "<svg xmlns=\"http://www.w3.org/2000/svg\" height=\"24px\"viewBox=\"0 0 24 24\"\n",
              "     width=\"24px\">\n",
              "    <g>\n",
              "        <path d=\"M19 3H5c-1.1 0-2 .9-2 2v14c0 1.1.9 2 2 2h14c1.1 0 2-.9 2-2V5c0-1.1-.9-2-2-2zM9 17H7v-7h2v7zm4 0h-2V7h2v10zm4 0h-2v-4h2v4z\"/>\n",
              "    </g>\n",
              "</svg>\n",
              "      </button>\n",
              "    </div>\n",
              "\n",
              "<style>\n",
              "  .colab-df-quickchart {\n",
              "    background-color: #E8F0FE;\n",
              "    border: none;\n",
              "    border-radius: 50%;\n",
              "    cursor: pointer;\n",
              "    display: none;\n",
              "    fill: #1967D2;\n",
              "    height: 32px;\n",
              "    padding: 0 0 0 0;\n",
              "    width: 32px;\n",
              "  }\n",
              "\n",
              "  .colab-df-quickchart:hover {\n",
              "    background-color: #E2EBFA;\n",
              "    box-shadow: 0px 1px 2px rgba(60, 64, 67, 0.3), 0px 1px 3px 1px rgba(60, 64, 67, 0.15);\n",
              "    fill: #174EA6;\n",
              "  }\n",
              "\n",
              "  [theme=dark] .colab-df-quickchart {\n",
              "    background-color: #3B4455;\n",
              "    fill: #D2E3FC;\n",
              "  }\n",
              "\n",
              "  [theme=dark] .colab-df-quickchart:hover {\n",
              "    background-color: #434B5C;\n",
              "    box-shadow: 0px 1px 3px 1px rgba(0, 0, 0, 0.15);\n",
              "    filter: drop-shadow(0px 1px 2px rgba(0, 0, 0, 0.3));\n",
              "    fill: #FFFFFF;\n",
              "  }\n",
              "</style>\n",
              "\n",
              "    <script>\n",
              "      async function quickchart(key) {\n",
              "        const containerElement = document.querySelector('#' + key);\n",
              "        const charts = await google.colab.kernel.invokeFunction(\n",
              "            'suggestCharts', [key], {});\n",
              "      }\n",
              "    </script>\n",
              "\n",
              "      <script>\n",
              "\n",
              "function displayQuickchartButton(domScope) {\n",
              "  let quickchartButtonEl =\n",
              "    domScope.querySelector('#df-23e767ba-e23b-4aab-9fef-5c5423c63a63 button.colab-df-quickchart');\n",
              "  quickchartButtonEl.style.display =\n",
              "    google.colab.kernel.accessAllowed ? 'block' : 'none';\n",
              "}\n",
              "\n",
              "        displayQuickchartButton(document);\n",
              "      </script>\n",
              "      <style>\n",
              "    .colab-df-container {\n",
              "      display:flex;\n",
              "      flex-wrap:wrap;\n",
              "      gap: 12px;\n",
              "    }\n",
              "\n",
              "    .colab-df-convert {\n",
              "      background-color: #E8F0FE;\n",
              "      border: none;\n",
              "      border-radius: 50%;\n",
              "      cursor: pointer;\n",
              "      display: none;\n",
              "      fill: #1967D2;\n",
              "      height: 32px;\n",
              "      padding: 0 0 0 0;\n",
              "      width: 32px;\n",
              "    }\n",
              "\n",
              "    .colab-df-convert:hover {\n",
              "      background-color: #E2EBFA;\n",
              "      box-shadow: 0px 1px 2px rgba(60, 64, 67, 0.3), 0px 1px 3px 1px rgba(60, 64, 67, 0.15);\n",
              "      fill: #174EA6;\n",
              "    }\n",
              "\n",
              "    [theme=dark] .colab-df-convert {\n",
              "      background-color: #3B4455;\n",
              "      fill: #D2E3FC;\n",
              "    }\n",
              "\n",
              "    [theme=dark] .colab-df-convert:hover {\n",
              "      background-color: #434B5C;\n",
              "      box-shadow: 0px 1px 3px 1px rgba(0, 0, 0, 0.15);\n",
              "      filter: drop-shadow(0px 1px 2px rgba(0, 0, 0, 0.3));\n",
              "      fill: #FFFFFF;\n",
              "    }\n",
              "  </style>\n",
              "\n",
              "      <script>\n",
              "        const buttonEl =\n",
              "          document.querySelector('#df-99ca63ba-58d7-4ab7-b47e-dd57fe4ce431 button.colab-df-convert');\n",
              "        buttonEl.style.display =\n",
              "          google.colab.kernel.accessAllowed ? 'block' : 'none';\n",
              "\n",
              "        async function convertToInteractive(key) {\n",
              "          const element = document.querySelector('#df-99ca63ba-58d7-4ab7-b47e-dd57fe4ce431');\n",
              "          const dataTable =\n",
              "            await google.colab.kernel.invokeFunction('convertToInteractive',\n",
              "                                                     [key], {});\n",
              "          if (!dataTable) return;\n",
              "\n",
              "          const docLinkHtml = 'Like what you see? Visit the ' +\n",
              "            '<a target=\"_blank\" href=https://colab.research.google.com/notebooks/data_table.ipynb>data table notebook</a>'\n",
              "            + ' to learn more about interactive tables.';\n",
              "          element.innerHTML = '';\n",
              "          dataTable['output_type'] = 'display_data';\n",
              "          await google.colab.output.renderOutput(dataTable, element);\n",
              "          const docLink = document.createElement('div');\n",
              "          docLink.innerHTML = docLinkHtml;\n",
              "          element.appendChild(docLink);\n",
              "        }\n",
              "      </script>\n",
              "    </div>\n",
              "  </div>\n"
            ]
          },
          "metadata": {},
          "execution_count": 49
        }
      ]
    },
    {
      "cell_type": "markdown",
      "source": [
        "### Vamos a tratar ahora el DataFrame `data_peptides`."
      ],
      "metadata": {
        "id": "64XcFyHHJGGV"
      }
    },
    {
      "cell_type": "markdown",
      "source": [
        "El dataframe `train_peptides` tienen **981 834 entradas** y **seis columnas**. Las proteínas son moléculas grandes compuestas por peptidos y en esta tabla se mide la abundacia de peptidos en una proteína que es relevante para la enfermedad del Parkinson.\n",
        "\n",
        "Las variables medidas en la tabla son:\n",
        "\n",
        "* `visit_id`: ID de la visita del paciente.\n",
        "* `visit_month`: El mes de la visita, relativo a la primera visita del paciente.\n",
        "* `patient_id`: ID del paciente.\n",
        "* `UniProt`: El código de identificación de UniProt para la proteína asociada. A menudo hay varios péptidos por proteína.\n",
        "* `Peptide`: La secuencia de aminoácidos incluidos en el péptido.\n",
        "* `PeptideAbundance`: La frecuencia del aminoácido en la muestra."
      ],
      "metadata": {
        "id": "XHddoqLmaBti"
      }
    },
    {
      "cell_type": "code",
      "source": [
        "data_peptides.head()"
      ],
      "metadata": {
        "colab": {
          "base_uri": "https://localhost:8080/",
          "height": 206
        },
        "id": "DVc1ZRAAZKLp",
        "outputId": "e97be6f7-2613-4712-c393-52298b9837cc"
      },
      "execution_count": null,
      "outputs": [
        {
          "output_type": "execute_result",
          "data": {
            "text/plain": [
              "  visit_id  visit_month  patient_id UniProt  \\\n",
              "0     55_0            0          55  O00391   \n",
              "1     55_0            0          55  O00533   \n",
              "2     55_0            0          55  O00533   \n",
              "3     55_0            0          55  O00533   \n",
              "4     55_0            0          55  O00533   \n",
              "\n",
              "                                  Peptide  PeptideAbundance  \n",
              "0                           NEQEQPLGQWHLS           11254.3  \n",
              "1                             GNPEPTFSWTK          102060.0  \n",
              "2                         IEIPSSVQQVPTIIK          174185.0  \n",
              "3  KPQSAVYSTGSNGILLC(UniMod_4)EAEGEPQPTIK           27278.9  \n",
              "4                            SMEQNGPGLEYR           30838.7  "
            ],
            "text/html": [
              "\n",
              "\n",
              "  <div id=\"df-856c6baa-471c-434e-9b15-79184ec3ed41\">\n",
              "    <div class=\"colab-df-container\">\n",
              "      <div>\n",
              "<style scoped>\n",
              "    .dataframe tbody tr th:only-of-type {\n",
              "        vertical-align: middle;\n",
              "    }\n",
              "\n",
              "    .dataframe tbody tr th {\n",
              "        vertical-align: top;\n",
              "    }\n",
              "\n",
              "    .dataframe thead th {\n",
              "        text-align: right;\n",
              "    }\n",
              "</style>\n",
              "<table border=\"1\" class=\"dataframe\">\n",
              "  <thead>\n",
              "    <tr style=\"text-align: right;\">\n",
              "      <th></th>\n",
              "      <th>visit_id</th>\n",
              "      <th>visit_month</th>\n",
              "      <th>patient_id</th>\n",
              "      <th>UniProt</th>\n",
              "      <th>Peptide</th>\n",
              "      <th>PeptideAbundance</th>\n",
              "    </tr>\n",
              "  </thead>\n",
              "  <tbody>\n",
              "    <tr>\n",
              "      <th>0</th>\n",
              "      <td>55_0</td>\n",
              "      <td>0</td>\n",
              "      <td>55</td>\n",
              "      <td>O00391</td>\n",
              "      <td>NEQEQPLGQWHLS</td>\n",
              "      <td>11254.3</td>\n",
              "    </tr>\n",
              "    <tr>\n",
              "      <th>1</th>\n",
              "      <td>55_0</td>\n",
              "      <td>0</td>\n",
              "      <td>55</td>\n",
              "      <td>O00533</td>\n",
              "      <td>GNPEPTFSWTK</td>\n",
              "      <td>102060.0</td>\n",
              "    </tr>\n",
              "    <tr>\n",
              "      <th>2</th>\n",
              "      <td>55_0</td>\n",
              "      <td>0</td>\n",
              "      <td>55</td>\n",
              "      <td>O00533</td>\n",
              "      <td>IEIPSSVQQVPTIIK</td>\n",
              "      <td>174185.0</td>\n",
              "    </tr>\n",
              "    <tr>\n",
              "      <th>3</th>\n",
              "      <td>55_0</td>\n",
              "      <td>0</td>\n",
              "      <td>55</td>\n",
              "      <td>O00533</td>\n",
              "      <td>KPQSAVYSTGSNGILLC(UniMod_4)EAEGEPQPTIK</td>\n",
              "      <td>27278.9</td>\n",
              "    </tr>\n",
              "    <tr>\n",
              "      <th>4</th>\n",
              "      <td>55_0</td>\n",
              "      <td>0</td>\n",
              "      <td>55</td>\n",
              "      <td>O00533</td>\n",
              "      <td>SMEQNGPGLEYR</td>\n",
              "      <td>30838.7</td>\n",
              "    </tr>\n",
              "  </tbody>\n",
              "</table>\n",
              "</div>\n",
              "      <button class=\"colab-df-convert\" onclick=\"convertToInteractive('df-856c6baa-471c-434e-9b15-79184ec3ed41')\"\n",
              "              title=\"Convert this dataframe to an interactive table.\"\n",
              "              style=\"display:none;\">\n",
              "\n",
              "  <svg xmlns=\"http://www.w3.org/2000/svg\" height=\"24px\"viewBox=\"0 0 24 24\"\n",
              "       width=\"24px\">\n",
              "    <path d=\"M0 0h24v24H0V0z\" fill=\"none\"/>\n",
              "    <path d=\"M18.56 5.44l.94 2.06.94-2.06 2.06-.94-2.06-.94-.94-2.06-.94 2.06-2.06.94zm-11 1L8.5 8.5l.94-2.06 2.06-.94-2.06-.94L8.5 2.5l-.94 2.06-2.06.94zm10 10l.94 2.06.94-2.06 2.06-.94-2.06-.94-.94-2.06-.94 2.06-2.06.94z\"/><path d=\"M17.41 7.96l-1.37-1.37c-.4-.4-.92-.59-1.43-.59-.52 0-1.04.2-1.43.59L10.3 9.45l-7.72 7.72c-.78.78-.78 2.05 0 2.83L4 21.41c.39.39.9.59 1.41.59.51 0 1.02-.2 1.41-.59l7.78-7.78 2.81-2.81c.8-.78.8-2.07 0-2.86zM5.41 20L4 18.59l7.72-7.72 1.47 1.35L5.41 20z\"/>\n",
              "  </svg>\n",
              "      </button>\n",
              "\n",
              "\n",
              "\n",
              "    <div id=\"df-86ccbdbe-1e92-4fc1-ae0f-14b261795509\">\n",
              "      <button class=\"colab-df-quickchart\" onclick=\"quickchart('df-86ccbdbe-1e92-4fc1-ae0f-14b261795509')\"\n",
              "              title=\"Suggest charts.\"\n",
              "              style=\"display:none;\">\n",
              "\n",
              "<svg xmlns=\"http://www.w3.org/2000/svg\" height=\"24px\"viewBox=\"0 0 24 24\"\n",
              "     width=\"24px\">\n",
              "    <g>\n",
              "        <path d=\"M19 3H5c-1.1 0-2 .9-2 2v14c0 1.1.9 2 2 2h14c1.1 0 2-.9 2-2V5c0-1.1-.9-2-2-2zM9 17H7v-7h2v7zm4 0h-2V7h2v10zm4 0h-2v-4h2v4z\"/>\n",
              "    </g>\n",
              "</svg>\n",
              "      </button>\n",
              "    </div>\n",
              "\n",
              "<style>\n",
              "  .colab-df-quickchart {\n",
              "    background-color: #E8F0FE;\n",
              "    border: none;\n",
              "    border-radius: 50%;\n",
              "    cursor: pointer;\n",
              "    display: none;\n",
              "    fill: #1967D2;\n",
              "    height: 32px;\n",
              "    padding: 0 0 0 0;\n",
              "    width: 32px;\n",
              "  }\n",
              "\n",
              "  .colab-df-quickchart:hover {\n",
              "    background-color: #E2EBFA;\n",
              "    box-shadow: 0px 1px 2px rgba(60, 64, 67, 0.3), 0px 1px 3px 1px rgba(60, 64, 67, 0.15);\n",
              "    fill: #174EA6;\n",
              "  }\n",
              "\n",
              "  [theme=dark] .colab-df-quickchart {\n",
              "    background-color: #3B4455;\n",
              "    fill: #D2E3FC;\n",
              "  }\n",
              "\n",
              "  [theme=dark] .colab-df-quickchart:hover {\n",
              "    background-color: #434B5C;\n",
              "    box-shadow: 0px 1px 3px 1px rgba(0, 0, 0, 0.15);\n",
              "    filter: drop-shadow(0px 1px 2px rgba(0, 0, 0, 0.3));\n",
              "    fill: #FFFFFF;\n",
              "  }\n",
              "</style>\n",
              "\n",
              "    <script>\n",
              "      async function quickchart(key) {\n",
              "        const containerElement = document.querySelector('#' + key);\n",
              "        const charts = await google.colab.kernel.invokeFunction(\n",
              "            'suggestCharts', [key], {});\n",
              "      }\n",
              "    </script>\n",
              "\n",
              "      <script>\n",
              "\n",
              "function displayQuickchartButton(domScope) {\n",
              "  let quickchartButtonEl =\n",
              "    domScope.querySelector('#df-86ccbdbe-1e92-4fc1-ae0f-14b261795509 button.colab-df-quickchart');\n",
              "  quickchartButtonEl.style.display =\n",
              "    google.colab.kernel.accessAllowed ? 'block' : 'none';\n",
              "}\n",
              "\n",
              "        displayQuickchartButton(document);\n",
              "      </script>\n",
              "      <style>\n",
              "    .colab-df-container {\n",
              "      display:flex;\n",
              "      flex-wrap:wrap;\n",
              "      gap: 12px;\n",
              "    }\n",
              "\n",
              "    .colab-df-convert {\n",
              "      background-color: #E8F0FE;\n",
              "      border: none;\n",
              "      border-radius: 50%;\n",
              "      cursor: pointer;\n",
              "      display: none;\n",
              "      fill: #1967D2;\n",
              "      height: 32px;\n",
              "      padding: 0 0 0 0;\n",
              "      width: 32px;\n",
              "    }\n",
              "\n",
              "    .colab-df-convert:hover {\n",
              "      background-color: #E2EBFA;\n",
              "      box-shadow: 0px 1px 2px rgba(60, 64, 67, 0.3), 0px 1px 3px 1px rgba(60, 64, 67, 0.15);\n",
              "      fill: #174EA6;\n",
              "    }\n",
              "\n",
              "    [theme=dark] .colab-df-convert {\n",
              "      background-color: #3B4455;\n",
              "      fill: #D2E3FC;\n",
              "    }\n",
              "\n",
              "    [theme=dark] .colab-df-convert:hover {\n",
              "      background-color: #434B5C;\n",
              "      box-shadow: 0px 1px 3px 1px rgba(0, 0, 0, 0.15);\n",
              "      filter: drop-shadow(0px 1px 2px rgba(0, 0, 0, 0.3));\n",
              "      fill: #FFFFFF;\n",
              "    }\n",
              "  </style>\n",
              "\n",
              "      <script>\n",
              "        const buttonEl =\n",
              "          document.querySelector('#df-856c6baa-471c-434e-9b15-79184ec3ed41 button.colab-df-convert');\n",
              "        buttonEl.style.display =\n",
              "          google.colab.kernel.accessAllowed ? 'block' : 'none';\n",
              "\n",
              "        async function convertToInteractive(key) {\n",
              "          const element = document.querySelector('#df-856c6baa-471c-434e-9b15-79184ec3ed41');\n",
              "          const dataTable =\n",
              "            await google.colab.kernel.invokeFunction('convertToInteractive',\n",
              "                                                     [key], {});\n",
              "          if (!dataTable) return;\n",
              "\n",
              "          const docLinkHtml = 'Like what you see? Visit the ' +\n",
              "            '<a target=\"_blank\" href=https://colab.research.google.com/notebooks/data_table.ipynb>data table notebook</a>'\n",
              "            + ' to learn more about interactive tables.';\n",
              "          element.innerHTML = '';\n",
              "          dataTable['output_type'] = 'display_data';\n",
              "          await google.colab.output.renderOutput(dataTable, element);\n",
              "          const docLink = document.createElement('div');\n",
              "          docLink.innerHTML = docLinkHtml;\n",
              "          element.appendChild(docLink);\n",
              "        }\n",
              "      </script>\n",
              "    </div>\n",
              "  </div>\n"
            ]
          },
          "metadata": {},
          "execution_count": 50
        }
      ]
    },
    {
      "cell_type": "code",
      "source": [
        "data_peptides.shape"
      ],
      "metadata": {
        "colab": {
          "base_uri": "https://localhost:8080/"
        },
        "id": "2EIWSwkDZ5s2",
        "outputId": "ef2b878e-f62a-4046-ca16-fb94e2888789"
      },
      "execution_count": null,
      "outputs": [
        {
          "output_type": "execute_result",
          "data": {
            "text/plain": [
              "(981834, 6)"
            ]
          },
          "metadata": {},
          "execution_count": 51
        }
      ]
    },
    {
      "cell_type": "code",
      "source": [
        "data_peptides.info()"
      ],
      "metadata": {
        "colab": {
          "base_uri": "https://localhost:8080/"
        },
        "id": "VDHgXraXZ9cd",
        "outputId": "18db2165-e0ee-4a52-f8e0-5469e552a219"
      },
      "execution_count": null,
      "outputs": [
        {
          "output_type": "stream",
          "name": "stdout",
          "text": [
            "<class 'pandas.core.frame.DataFrame'>\n",
            "RangeIndex: 981834 entries, 0 to 981833\n",
            "Data columns (total 6 columns):\n",
            " #   Column            Non-Null Count   Dtype  \n",
            "---  ------            --------------   -----  \n",
            " 0   visit_id          981834 non-null  object \n",
            " 1   visit_month       981834 non-null  int64  \n",
            " 2   patient_id        981834 non-null  int64  \n",
            " 3   UniProt           981834 non-null  object \n",
            " 4   Peptide           981834 non-null  object \n",
            " 5   PeptideAbundance  981834 non-null  float64\n",
            "dtypes: float64(1), int64(2), object(3)\n",
            "memory usage: 44.9+ MB\n"
          ]
        }
      ]
    },
    {
      "cell_type": "code",
      "source": [
        "data_peptides = data_peptides[data_peptides['visit_id'] != '25562_36']"
      ],
      "metadata": {
        "id": "Y-lzkqV2sQQL"
      },
      "execution_count": null,
      "outputs": []
    },
    {
      "cell_type": "code",
      "source": [
        "num_patients = len(data_peptides['patient_id'].unique())\n",
        "num_visits = len(data_peptides['visit_id'].unique())\n",
        "print(f'Se tiene información de {num_patients} pacientes.')\n",
        "print(f'El número de visitas hechas es {num_visits}.')"
      ],
      "metadata": {
        "colab": {
          "base_uri": "https://localhost:8080/"
        },
        "id": "LUp7I2HBJaDj",
        "outputId": "ef5f645d-9336-4067-e47a-06c54f9d027f"
      },
      "execution_count": null,
      "outputs": [
        {
          "output_type": "stream",
          "name": "stdout",
          "text": [
            "Se tiene información de 248 pacientes.\n",
            "El número de visitas hechas es 1112.\n"
          ]
        }
      ]
    },
    {
      "cell_type": "code",
      "source": [
        "df_pep_patient = data_peptides[data_peptides['patient_id'] == id_na]\n",
        "num_pep = len(df_pep_patient['Peptide'].unique())\n",
        "num_prot = len(df_pep_patient['UniProt'].unique())\n",
        "print(f'El número de peptides medidos en este paciente es {num_pep}.')\n",
        "print(f'El número de proteínas medidas en este paciente es {num_prot}.')"
      ],
      "metadata": {
        "colab": {
          "base_uri": "https://localhost:8080/"
        },
        "id": "FXJVWVK_KOS9",
        "outputId": "40d3ea0b-7b32-493a-9748-823b4f7230b6"
      },
      "execution_count": null,
      "outputs": [
        {
          "output_type": "stream",
          "name": "stdout",
          "text": [
            "El número de peptides medidos en este paciente es 961.\n",
            "El número de proteínas medidas en este paciente es 224.\n"
          ]
        }
      ]
    },
    {
      "cell_type": "code",
      "source": [
        "df_pep_patient.groupby(['visit_id', 'UniProt'])['Peptide'].count().reset_index().drop(columns = 'Peptide').groupby('visit_id')['UniProt'].count()"
      ],
      "metadata": {
        "colab": {
          "base_uri": "https://localhost:8080/"
        },
        "id": "VC4znFVuMoYN",
        "outputId": "0faec4de-2dcb-4020-a6ad-70c4b72cb99e"
      },
      "execution_count": null,
      "outputs": [
        {
          "output_type": "execute_result",
          "data": {
            "text/plain": [
              "visit_id\n",
              "56075_0     206\n",
              "56075_12    212\n",
              "56075_24    209\n",
              "56075_48    215\n",
              "56075_60    206\n",
              "Name: UniProt, dtype: int64"
            ]
          },
          "metadata": {},
          "execution_count": 56
        }
      ]
    },
    {
      "cell_type": "code",
      "source": [
        "dist_num_prot = []\n",
        "patients = data_peptides['patient_id'].unique()\n",
        "for pat in patients:\n",
        "  df_pep_patient = data_peptides[data_peptides['patient_id'] == pat]\n",
        "  num_min = df_pep_patient.groupby(['visit_id', 'UniProt'])['Peptide'].count().reset_index().drop(columns = 'Peptide').groupby('visit_id')['UniProt'].count().min()\n",
        "  dist_num_prot.append(num_min)"
      ],
      "metadata": {
        "id": "TfboxwQHSeF6"
      },
      "execution_count": null,
      "outputs": []
    },
    {
      "cell_type": "code",
      "source": [
        "fig, ax = plt.subplots(1, 2, figsize = (10,5))\n",
        "ax[0].hist(dist_num_prot, bins = 30, density = True)\n",
        "ax[0].set_xlabel('Número mínimo de proteínas medidas')\n",
        "ax[0].set_ylabel('Densidad')\n",
        "ax[1].boxplot(dist_num_prot)\n",
        "plt.show()"
      ],
      "metadata": {
        "colab": {
          "base_uri": "https://localhost:8080/",
          "height": 465
        },
        "id": "Zs08YJVgS5Zy",
        "outputId": "516d6b6c-30d2-4719-9964-031c9cc05c33"
      },
      "execution_count": null,
      "outputs": [
        {
          "output_type": "display_data",
          "data": {
            "text/plain": [
              "<Figure size 1000x500 with 2 Axes>"
            ],
            "image/png": "[encoded data removed]"
          },
          "metadata": {}
        }
      ]
    },
    {
      "cell_type": "markdown",
      "source": [
        "**Nota:**\n",
        "\n",
        "La distribución del número mínimo de proteínas medidas por paciente por visita es idéntica a la de la tabla `data_proteins`. Esto es un indicador de que con respecto a las proteínas medidas, ambas tienen la misma información."
      ],
      "metadata": {
        "id": "Brm7yOAB2NPX"
      }
    },
    {
      "cell_type": "code",
      "source": [
        "tem = data_peptides.groupby(['visit_id', 'UniProt'])['Peptide'].count().reset_index()\n",
        "tem.head()"
      ],
      "metadata": {
        "colab": {
          "base_uri": "https://localhost:8080/",
          "height": 206
        },
        "id": "0HdIPhYW3ije",
        "outputId": "82a8fd31-89e9-4764-8bd2-dbe593d6c30d"
      },
      "execution_count": null,
      "outputs": [
        {
          "output_type": "execute_result",
          "data": {
            "text/plain": [
              "  visit_id UniProt  Peptide\n",
              "0  10053_0  O00391        1\n",
              "1  10053_0  O00533        7\n",
              "2  10053_0  O14773        1\n",
              "3  10053_0  O14791        1\n",
              "4  10053_0  O15240        2"
            ],
            "text/html": [
              "\n",
              "\n",
              "  <div id=\"df-1c6d0cb0-6b53-478c-b6ca-fa8c0c8611aa\">\n",
              "    <div class=\"colab-df-container\">\n",
              "      <div>\n",
              "<style scoped>\n",
              "    .dataframe tbody tr th:only-of-type {\n",
              "        vertical-align: middle;\n",
              "    }\n",
              "\n",
              "    .dataframe tbody tr th {\n",
              "        vertical-align: top;\n",
              "    }\n",
              "\n",
              "    .dataframe thead th {\n",
              "        text-align: right;\n",
              "    }\n",
              "</style>\n",
              "<table border=\"1\" class=\"dataframe\">\n",
              "  <thead>\n",
              "    <tr style=\"text-align: right;\">\n",
              "      <th></th>\n",
              "      <th>visit_id</th>\n",
              "      <th>UniProt</th>\n",
              "      <th>Peptide</th>\n",
              "    </tr>\n",
              "  </thead>\n",
              "  <tbody>\n",
              "    <tr>\n",
              "      <th>0</th>\n",
              "      <td>10053_0</td>\n",
              "      <td>O00391</td>\n",
              "      <td>1</td>\n",
              "    </tr>\n",
              "    <tr>\n",
              "      <th>1</th>\n",
              "      <td>10053_0</td>\n",
              "      <td>O00533</td>\n",
              "      <td>7</td>\n",
              "    </tr>\n",
              "    <tr>\n",
              "      <th>2</th>\n",
              "      <td>10053_0</td>\n",
              "      <td>O14773</td>\n",
              "      <td>1</td>\n",
              "    </tr>\n",
              "    <tr>\n",
              "      <th>3</th>\n",
              "      <td>10053_0</td>\n",
              "      <td>O14791</td>\n",
              "      <td>1</td>\n",
              "    </tr>\n",
              "    <tr>\n",
              "      <th>4</th>\n",
              "      <td>10053_0</td>\n",
              "      <td>O15240</td>\n",
              "      <td>2</td>\n",
              "    </tr>\n",
              "  </tbody>\n",
              "</table>\n",
              "</div>\n",
              "      <button class=\"colab-df-convert\" onclick=\"convertToInteractive('df-1c6d0cb0-6b53-478c-b6ca-fa8c0c8611aa')\"\n",
              "              title=\"Convert this dataframe to an interactive table.\"\n",
              "              style=\"display:none;\">\n",
              "\n",
              "  <svg xmlns=\"http://www.w3.org/2000/svg\" height=\"24px\"viewBox=\"0 0 24 24\"\n",
              "       width=\"24px\">\n",
              "    <path d=\"M0 0h24v24H0V0z\" fill=\"none\"/>\n",
              "    <path d=\"M18.56 5.44l.94 2.06.94-2.06 2.06-.94-2.06-.94-.94-2.06-.94 2.06-2.06.94zm-11 1L8.5 8.5l.94-2.06 2.06-.94-2.06-.94L8.5 2.5l-.94 2.06-2.06.94zm10 10l.94 2.06.94-2.06 2.06-.94-2.06-.94-.94-2.06-.94 2.06-2.06.94z\"/><path d=\"M17.41 7.96l-1.37-1.37c-.4-.4-.92-.59-1.43-.59-.52 0-1.04.2-1.43.59L10.3 9.45l-7.72 7.72c-.78.78-.78 2.05 0 2.83L4 21.41c.39.39.9.59 1.41.59.51 0 1.02-.2 1.41-.59l7.78-7.78 2.81-2.81c.8-.78.8-2.07 0-2.86zM5.41 20L4 18.59l7.72-7.72 1.47 1.35L5.41 20z\"/>\n",
              "  </svg>\n",
              "      </button>\n",
              "\n",
              "\n",
              "\n",
              "    <div id=\"df-8bec6bfb-7a3d-49a6-9950-8e2a561d3358\">\n",
              "      <button class=\"colab-df-quickchart\" onclick=\"quickchart('df-8bec6bfb-7a3d-49a6-9950-8e2a561d3358')\"\n",
              "              title=\"Suggest charts.\"\n",
              "              style=\"display:none;\">\n",
              "\n",
              "<svg xmlns=\"http://www.w3.org/2000/svg\" height=\"24px\"viewBox=\"0 0 24 24\"\n",
              "     width=\"24px\">\n",
              "    <g>\n",
              "        <path d=\"M19 3H5c-1.1 0-2 .9-2 2v14c0 1.1.9 2 2 2h14c1.1 0 2-.9 2-2V5c0-1.1-.9-2-2-2zM9 17H7v-7h2v7zm4 0h-2V7h2v10zm4 0h-2v-4h2v4z\"/>\n",
              "    </g>\n",
              "</svg>\n",
              "      </button>\n",
              "    </div>\n",
              "\n",
              "<style>\n",
              "  .colab-df-quickchart {\n",
              "    background-color: #E8F0FE;\n",
              "    border: none;\n",
              "    border-radius: 50%;\n",
              "    cursor: pointer;\n",
              "    display: none;\n",
              "    fill: #1967D2;\n",
              "    height: 32px;\n",
              "    padding: 0 0 0 0;\n",
              "    width: 32px;\n",
              "  }\n",
              "\n",
              "  .colab-df-quickchart:hover {\n",
              "    background-color: #E2EBFA;\n",
              "    box-shadow: 0px 1px 2px rgba(60, 64, 67, 0.3), 0px 1px 3px 1px rgba(60, 64, 67, 0.15);\n",
              "    fill: #174EA6;\n",
              "  }\n",
              "\n",
              "  [theme=dark] .colab-df-quickchart {\n",
              "    background-color: #3B4455;\n",
              "    fill: #D2E3FC;\n",
              "  }\n",
              "\n",
              "  [theme=dark] .colab-df-quickchart:hover {\n",
              "    background-color: #434B5C;\n",
              "    box-shadow: 0px 1px 3px 1px rgba(0, 0, 0, 0.15);\n",
              "    filter: drop-shadow(0px 1px 2px rgba(0, 0, 0, 0.3));\n",
              "    fill: #FFFFFF;\n",
              "  }\n",
              "</style>\n",
              "\n",
              "    <script>\n",
              "      async function quickchart(key) {\n",
              "        const containerElement = document.querySelector('#' + key);\n",
              "        const charts = await google.colab.kernel.invokeFunction(\n",
              "            'suggestCharts', [key], {});\n",
              "      }\n",
              "    </script>\n",
              "\n",
              "      <script>\n",
              "\n",
              "function displayQuickchartButton(domScope) {\n",
              "  let quickchartButtonEl =\n",
              "    domScope.querySelector('#df-8bec6bfb-7a3d-49a6-9950-8e2a561d3358 button.colab-df-quickchart');\n",
              "  quickchartButtonEl.style.display =\n",
              "    google.colab.kernel.accessAllowed ? 'block' : 'none';\n",
              "}\n",
              "\n",
              "        displayQuickchartButton(document);\n",
              "      </script>\n",
              "      <style>\n",
              "    .colab-df-container {\n",
              "      display:flex;\n",
              "      flex-wrap:wrap;\n",
              "      gap: 12px;\n",
              "    }\n",
              "\n",
              "    .colab-df-convert {\n",
              "      background-color: #E8F0FE;\n",
              "      border: none;\n",
              "      border-radius: 50%;\n",
              "      cursor: pointer;\n",
              "      display: none;\n",
              "      fill: #1967D2;\n",
              "      height: 32px;\n",
              "      padding: 0 0 0 0;\n",
              "      width: 32px;\n",
              "    }\n",
              "\n",
              "    .colab-df-convert:hover {\n",
              "      background-color: #E2EBFA;\n",
              "      box-shadow: 0px 1px 2px rgba(60, 64, 67, 0.3), 0px 1px 3px 1px rgba(60, 64, 67, 0.15);\n",
              "      fill: #174EA6;\n",
              "    }\n",
              "\n",
              "    [theme=dark] .colab-df-convert {\n",
              "      background-color: #3B4455;\n",
              "      fill: #D2E3FC;\n",
              "    }\n",
              "\n",
              "    [theme=dark] .colab-df-convert:hover {\n",
              "      background-color: #434B5C;\n",
              "      box-shadow: 0px 1px 3px 1px rgba(0, 0, 0, 0.15);\n",
              "      filter: drop-shadow(0px 1px 2px rgba(0, 0, 0, 0.3));\n",
              "      fill: #FFFFFF;\n",
              "    }\n",
              "  </style>\n",
              "\n",
              "      <script>\n",
              "        const buttonEl =\n",
              "          document.querySelector('#df-1c6d0cb0-6b53-478c-b6ca-fa8c0c8611aa button.colab-df-convert');\n",
              "        buttonEl.style.display =\n",
              "          google.colab.kernel.accessAllowed ? 'block' : 'none';\n",
              "\n",
              "        async function convertToInteractive(key) {\n",
              "          const element = document.querySelector('#df-1c6d0cb0-6b53-478c-b6ca-fa8c0c8611aa');\n",
              "          const dataTable =\n",
              "            await google.colab.kernel.invokeFunction('convertToInteractive',\n",
              "                                                     [key], {});\n",
              "          if (!dataTable) return;\n",
              "\n",
              "          const docLinkHtml = 'Like what you see? Visit the ' +\n",
              "            '<a target=\"_blank\" href=https://colab.research.google.com/notebooks/data_table.ipynb>data table notebook</a>'\n",
              "            + ' to learn more about interactive tables.';\n",
              "          element.innerHTML = '';\n",
              "          dataTable['output_type'] = 'display_data';\n",
              "          await google.colab.output.renderOutput(dataTable, element);\n",
              "          const docLink = document.createElement('div');\n",
              "          docLink.innerHTML = docLinkHtml;\n",
              "          element.appendChild(docLink);\n",
              "        }\n",
              "      </script>\n",
              "    </div>\n",
              "  </div>\n"
            ]
          },
          "metadata": {},
          "execution_count": 59
        }
      ]
    },
    {
      "cell_type": "code",
      "source": [
        "dis_pep_min_by_visit = []\n",
        "visits = tem['visit_id'].unique()\n",
        "for v in visits:\n",
        "  num_min = tem[tem['visit_id'] == v]['Peptide'].min()\n",
        "  dis_pep_min_by_visit.append(num_min)"
      ],
      "metadata": {
        "id": "Kx0Ky0ahwPZu"
      },
      "execution_count": null,
      "outputs": []
    },
    {
      "cell_type": "code",
      "source": [
        "plt.hist(dis_pep_min_by_visit, bins = 35, density = True)\n",
        "plt.xlabel('Número mínimo de peptidos medidos en una proteína por visita')\n",
        "plt.show()"
      ],
      "metadata": {
        "colab": {
          "base_uri": "https://localhost:8080/",
          "height": 450
        },
        "id": "56Mc4pqFxE3c",
        "outputId": "01959cff-3cfb-4305-b9d9-f80a2bee7d9b"
      },
      "execution_count": null,
      "outputs": [
        {
          "output_type": "display_data",
          "data": {
            "text/plain": [
              "<Figure size 640x480 with 1 Axes>"
            ],
            "image/png": "[encoded data removed]"
          },
          "metadata": {}
        }
      ]
    },
    {
      "cell_type": "markdown",
      "source": [
        "**Nota:**\n",
        "\n",
        "En este gráfico vemos que en todas las visitas, se tienen proteínas para las que solo se mide un peptido."
      ],
      "metadata": {
        "id": "D1h5Edvozp9q"
      }
    },
    {
      "cell_type": "code",
      "source": [
        "visits = df_preparation['visit_id'].unique()\n",
        "data_peptides = data_peptides.query('visit_id in @visits')\n",
        "\n",
        "len(data_peptides['visit_id'].unique())"
      ],
      "metadata": {
        "colab": {
          "base_uri": "https://localhost:8080/"
        },
        "id": "hFB6qVMtJcsf",
        "outputId": "df58b358-867d-4d7c-f9cc-ea6ae4bb330f"
      },
      "execution_count": null,
      "outputs": [
        {
          "output_type": "execute_result",
          "data": {
            "text/plain": [
              "1057"
            ]
          },
          "metadata": {},
          "execution_count": 62
        }
      ]
    },
    {
      "cell_type": "code",
      "source": [
        "df_peptides_mean = data_peptides.groupby(['visit_id', 'UniProt'])['PeptideAbundance'].mean().reset_index()\n",
        "df_peptides_mean.head()"
      ],
      "metadata": {
        "colab": {
          "base_uri": "https://localhost:8080/",
          "height": 206
        },
        "id": "RcapBakS5wUj",
        "outputId": "b3275795-c742-449f-c190-72f9aa016da5"
      },
      "execution_count": null,
      "outputs": [
        {
          "output_type": "execute_result",
          "data": {
            "text/plain": [
              "  visit_id UniProt  PeptideAbundance\n",
              "0  10053_0  O00391       9104.270000\n",
              "1  10053_0  O00533      57474.485714\n",
              "2  10053_0  O14773       7150.570000\n",
              "3  10053_0  O14791       2497.840000\n",
              "4  10053_0  O15240      41501.450000"
            ],
            "text/html": [
              "\n",
              "\n",
              "  <div id=\"df-66962599-2a58-4e25-b3d2-6cac5a8e1ded\">\n",
              "    <div class=\"colab-df-container\">\n",
              "      <div>\n",
              "<style scoped>\n",
              "    .dataframe tbody tr th:only-of-type {\n",
              "        vertical-align: middle;\n",
              "    }\n",
              "\n",
              "    .dataframe tbody tr th {\n",
              "        vertical-align: top;\n",
              "    }\n",
              "\n",
              "    .dataframe thead th {\n",
              "        text-align: right;\n",
              "    }\n",
              "</style>\n",
              "<table border=\"1\" class=\"dataframe\">\n",
              "  <thead>\n",
              "    <tr style=\"text-align: right;\">\n",
              "      <th></th>\n",
              "      <th>visit_id</th>\n",
              "      <th>UniProt</th>\n",
              "      <th>PeptideAbundance</th>\n",
              "    </tr>\n",
              "  </thead>\n",
              "  <tbody>\n",
              "    <tr>\n",
              "      <th>0</th>\n",
              "      <td>10053_0</td>\n",
              "      <td>O00391</td>\n",
              "      <td>9104.270000</td>\n",
              "    </tr>\n",
              "    <tr>\n",
              "      <th>1</th>\n",
              "      <td>10053_0</td>\n",
              "      <td>O00533</td>\n",
              "      <td>57474.485714</td>\n",
              "    </tr>\n",
              "    <tr>\n",
              "      <th>2</th>\n",
              "      <td>10053_0</td>\n",
              "      <td>O14773</td>\n",
              "      <td>7150.570000</td>\n",
              "    </tr>\n",
              "    <tr>\n",
              "      <th>3</th>\n",
              "      <td>10053_0</td>\n",
              "      <td>O14791</td>\n",
              "      <td>2497.840000</td>\n",
              "    </tr>\n",
              "    <tr>\n",
              "      <th>4</th>\n",
              "      <td>10053_0</td>\n",
              "      <td>O15240</td>\n",
              "      <td>41501.450000</td>\n",
              "    </tr>\n",
              "  </tbody>\n",
              "</table>\n",
              "</div>\n",
              "      <button class=\"colab-df-convert\" onclick=\"convertToInteractive('df-66962599-2a58-4e25-b3d2-6cac5a8e1ded')\"\n",
              "              title=\"Convert this dataframe to an interactive table.\"\n",
              "              style=\"display:none;\">\n",
              "\n",
              "  <svg xmlns=\"http://www.w3.org/2000/svg\" height=\"24px\"viewBox=\"0 0 24 24\"\n",
              "       width=\"24px\">\n",
              "    <path d=\"M0 0h24v24H0V0z\" fill=\"none\"/>\n",
              "    <path d=\"M18.56 5.44l.94 2.06.94-2.06 2.06-.94-2.06-.94-.94-2.06-.94 2.06-2.06.94zm-11 1L8.5 8.5l.94-2.06 2.06-.94-2.06-.94L8.5 2.5l-.94 2.06-2.06.94zm10 10l.94 2.06.94-2.06 2.06-.94-2.06-.94-.94-2.06-.94 2.06-2.06.94z\"/><path d=\"M17.41 7.96l-1.37-1.37c-.4-.4-.92-.59-1.43-.59-.52 0-1.04.2-1.43.59L10.3 9.45l-7.72 7.72c-.78.78-.78 2.05 0 2.83L4 21.41c.39.39.9.59 1.41.59.51 0 1.02-.2 1.41-.59l7.78-7.78 2.81-2.81c.8-.78.8-2.07 0-2.86zM5.41 20L4 18.59l7.72-7.72 1.47 1.35L5.41 20z\"/>\n",
              "  </svg>\n",
              "      </button>\n",
              "\n",
              "\n",
              "\n",
              "    <div id=\"df-234ad143-63b4-44fa-bbdf-513afc896c51\">\n",
              "      <button class=\"colab-df-quickchart\" onclick=\"quickchart('df-234ad143-63b4-44fa-bbdf-513afc896c51')\"\n",
              "              title=\"Suggest charts.\"\n",
              "              style=\"display:none;\">\n",
              "\n",
              "<svg xmlns=\"http://www.w3.org/2000/svg\" height=\"24px\"viewBox=\"0 0 24 24\"\n",
              "     width=\"24px\">\n",
              "    <g>\n",
              "        <path d=\"M19 3H5c-1.1 0-2 .9-2 2v14c0 1.1.9 2 2 2h14c1.1 0 2-.9 2-2V5c0-1.1-.9-2-2-2zM9 17H7v-7h2v7zm4 0h-2V7h2v10zm4 0h-2v-4h2v4z\"/>\n",
              "    </g>\n",
              "</svg>\n",
              "      </button>\n",
              "    </div>\n",
              "\n",
              "<style>\n",
              "  .colab-df-quickchart {\n",
              "    background-color: #E8F0FE;\n",
              "    border: none;\n",
              "    border-radius: 50%;\n",
              "    cursor: pointer;\n",
              "    display: none;\n",
              "    fill: #1967D2;\n",
              "    height: 32px;\n",
              "    padding: 0 0 0 0;\n",
              "    width: 32px;\n",
              "  }\n",
              "\n",
              "  .colab-df-quickchart:hover {\n",
              "    background-color: #E2EBFA;\n",
              "    box-shadow: 0px 1px 2px rgba(60, 64, 67, 0.3), 0px 1px 3px 1px rgba(60, 64, 67, 0.15);\n",
              "    fill: #174EA6;\n",
              "  }\n",
              "\n",
              "  [theme=dark] .colab-df-quickchart {\n",
              "    background-color: #3B4455;\n",
              "    fill: #D2E3FC;\n",
              "  }\n",
              "\n",
              "  [theme=dark] .colab-df-quickchart:hover {\n",
              "    background-color: #434B5C;\n",
              "    box-shadow: 0px 1px 3px 1px rgba(0, 0, 0, 0.15);\n",
              "    filter: drop-shadow(0px 1px 2px rgba(0, 0, 0, 0.3));\n",
              "    fill: #FFFFFF;\n",
              "  }\n",
              "</style>\n",
              "\n",
              "    <script>\n",
              "      async function quickchart(key) {\n",
              "        const containerElement = document.querySelector('#' + key);\n",
              "        const charts = await google.colab.kernel.invokeFunction(\n",
              "            'suggestCharts', [key], {});\n",
              "      }\n",
              "    </script>\n",
              "\n",
              "      <script>\n",
              "\n",
              "function displayQuickchartButton(domScope) {\n",
              "  let quickchartButtonEl =\n",
              "    domScope.querySelector('#df-234ad143-63b4-44fa-bbdf-513afc896c51 button.colab-df-quickchart');\n",
              "  quickchartButtonEl.style.display =\n",
              "    google.colab.kernel.accessAllowed ? 'block' : 'none';\n",
              "}\n",
              "\n",
              "        displayQuickchartButton(document);\n",
              "      </script>\n",
              "      <style>\n",
              "    .colab-df-container {\n",
              "      display:flex;\n",
              "      flex-wrap:wrap;\n",
              "      gap: 12px;\n",
              "    }\n",
              "\n",
              "    .colab-df-convert {\n",
              "      background-color: #E8F0FE;\n",
              "      border: none;\n",
              "      border-radius: 50%;\n",
              "      cursor: pointer;\n",
              "      display: none;\n",
              "      fill: #1967D2;\n",
              "      height: 32px;\n",
              "      padding: 0 0 0 0;\n",
              "      width: 32px;\n",
              "    }\n",
              "\n",
              "    .colab-df-convert:hover {\n",
              "      background-color: #E2EBFA;\n",
              "      box-shadow: 0px 1px 2px rgba(60, 64, 67, 0.3), 0px 1px 3px 1px rgba(60, 64, 67, 0.15);\n",
              "      fill: #174EA6;\n",
              "    }\n",
              "\n",
              "    [theme=dark] .colab-df-convert {\n",
              "      background-color: #3B4455;\n",
              "      fill: #D2E3FC;\n",
              "    }\n",
              "\n",
              "    [theme=dark] .colab-df-convert:hover {\n",
              "      background-color: #434B5C;\n",
              "      box-shadow: 0px 1px 3px 1px rgba(0, 0, 0, 0.15);\n",
              "      filter: drop-shadow(0px 1px 2px rgba(0, 0, 0, 0.3));\n",
              "      fill: #FFFFFF;\n",
              "    }\n",
              "  </style>\n",
              "\n",
              "      <script>\n",
              "        const buttonEl =\n",
              "          document.querySelector('#df-66962599-2a58-4e25-b3d2-6cac5a8e1ded button.colab-df-convert');\n",
              "        buttonEl.style.display =\n",
              "          google.colab.kernel.accessAllowed ? 'block' : 'none';\n",
              "\n",
              "        async function convertToInteractive(key) {\n",
              "          const element = document.querySelector('#df-66962599-2a58-4e25-b3d2-6cac5a8e1ded');\n",
              "          const dataTable =\n",
              "            await google.colab.kernel.invokeFunction('convertToInteractive',\n",
              "                                                     [key], {});\n",
              "          if (!dataTable) return;\n",
              "\n",
              "          const docLinkHtml = 'Like what you see? Visit the ' +\n",
              "            '<a target=\"_blank\" href=https://colab.research.google.com/notebooks/data_table.ipynb>data table notebook</a>'\n",
              "            + ' to learn more about interactive tables.';\n",
              "          element.innerHTML = '';\n",
              "          dataTable['output_type'] = 'display_data';\n",
              "          await google.colab.output.renderOutput(dataTable, element);\n",
              "          const docLink = document.createElement('div');\n",
              "          docLink.innerHTML = docLinkHtml;\n",
              "          element.appendChild(docLink);\n",
              "        }\n",
              "      </script>\n",
              "    </div>\n",
              "  </div>\n"
            ]
          },
          "metadata": {},
          "execution_count": 63
        }
      ]
    },
    {
      "cell_type": "code",
      "source": [
        "def adding_features_pep(N):\n",
        "  np_pep_by_prot = np.zeros(shape = (len(df_peptides_mean['visit_id'].unique()), N+1))\n",
        "  visits =  df_peptides_mean['visit_id'].unique()\n",
        "  for i, v in enumerate(visits):\n",
        "    df_prot_N = data_proteins[data_proteins.visit_id == v].sort_values(by = 'NPX', ascending = False).head(N)['UniProt'].values\n",
        "    np_pep_by_prot[i,:N] = df_peptides_mean.query('(UniProt in @df_prot_N) and (visit_id == @v)')['PeptideAbundance']\n",
        "    np_pep_by_prot[i,N] = df_peptides_mean.query('UniProt not in @df_prot_N')['PeptideAbundance'].mean()\n",
        "\n",
        "  columns = []\n",
        "  for i in range(1,N+1):\n",
        "    columns.append('PeptideAbundance_'+str(i))\n",
        "\n",
        "  columns.append('PeptideAbundance_mean')\n",
        "\n",
        "  df_preparation.loc[:,columns] = np_pep_by_prot\n",
        "\n",
        "  return df_preparation"
      ],
      "metadata": {
        "id": "X2gXlQQ77R69"
      },
      "execution_count": null,
      "outputs": []
    },
    {
      "cell_type": "code",
      "source": [
        "df_preparation = adding_features_pep(50)"
      ],
      "metadata": {
        "id": "E7m3ITttG7e-"
      },
      "execution_count": null,
      "outputs": []
    },
    {
      "cell_type": "code",
      "source": [
        "df_preparation.shape"
      ],
      "metadata": {
        "colab": {
          "base_uri": "https://localhost:8080/"
        },
        "id": "SSvBXFItKqx_",
        "outputId": "4d853e74-cace-45d7-941b-5fb5a752b392"
      },
      "execution_count": null,
      "outputs": [
        {
          "output_type": "execute_result",
          "data": {
            "text/plain": [
              "(1057, 110)"
            ]
          },
          "metadata": {},
          "execution_count": 66
        }
      ]
    },
    {
      "cell_type": "code",
      "source": [
        "df_preparation = df_preparation.reset_index(drop = True)\n",
        "df_preparation.head()"
      ],
      "metadata": {
        "colab": {
          "base_uri": "https://localhost:8080/",
          "height": 299
        },
        "id": "FMatCKT2bxW1",
        "outputId": "35d4acf9-1b1b-4a01-bdb5-0733d49a7467"
      },
      "execution_count": null,
      "outputs": [
        {
          "output_type": "execute_result",
          "data": {
            "text/plain": [
              "  visit_id  patient_id  visit_month  updrs_1  updrs_2  updrs_3  updrs_4  \\\n",
              "0     55_0          55            0     10.0      6.0     15.0      NaN   \n",
              "1     55_6          55            6      8.0     10.0     34.0      NaN   \n",
              "2    55_12          55           12     10.0     10.0     41.0      0.0   \n",
              "3    55_36          55           36     17.0     18.0     51.0      0.0   \n",
              "4    942_6         942            6      8.0      2.0     21.0      NaN   \n",
              "\n",
              "  upd23b_clinical_state_on_medication       Prot_1      Prot_2  ...  \\\n",
              "0                                 N/A  390239000.0  43235500.0  ...   \n",
              "1                                 N/A  347572000.0  37999700.0  ...   \n",
              "2                                  On  383507000.0  38506400.0  ...   \n",
              "3                                  On  449882000.0  45508900.0  ...   \n",
              "4                                 N/A  290111000.0  33323200.0  ...   \n",
              "\n",
              "   PeptideAbundance_42  PeptideAbundance_43  PeptideAbundance_44  \\\n",
              "0          91211.81250        223350.766667         8.502336e+06   \n",
              "1         707166.00000        165380.485714         6.820102e+06   \n",
              "2         103615.23750        234407.830000         7.664914e+06   \n",
              "3         470533.35625        103852.958333         1.067668e+05   \n",
              "4         817398.00000        237122.590000         9.196576e+06   \n",
              "\n",
              "   PeptideAbundance_45  PeptideAbundance_46  PeptideAbundance_47  \\\n",
              "0        150282.514286             601414.0         1.327970e+06   \n",
              "1        123041.050000             521313.0         9.514260e+05   \n",
              "2        120560.828571             568842.0         5.313140e+06   \n",
              "3        231345.260000            6829787.2         1.166210e+05   \n",
              "4        776245.000000            1936610.0         1.439816e+05   \n",
              "\n",
              "   PeptideAbundance_48  PeptideAbundance_49  PeptideAbundance_50  \\\n",
              "0         2.014220e+05            423833.00        109438.640000   \n",
              "1         2.424638e+05            404816.00        103623.216667   \n",
              "2         7.495008e+04            559521.00        111618.550000   \n",
              "3         3.898800e+06            213389.28        523281.000000   \n",
              "4         1.044400e+06            723347.00        123503.466667   \n",
              "\n",
              "   PeptideAbundance_mean  \n",
              "0           79414.406566  \n",
              "1           59374.074012  \n",
              "2           62904.967788  \n",
              "3           83921.207502  \n",
              "4           57771.228661  \n",
              "\n",
              "[5 rows x 110 columns]"
            ],
            "text/html": [
              "\n",
              "\n",
              "  <div id=\"df-b67ccdbc-dd6c-4755-83e2-08d05af5aafa\">\n",
              "    <div class=\"colab-df-container\">\n",
              "      <div>\n",
              "<style scoped>\n",
              "    .dataframe tbody tr th:only-of-type {\n",
              "        vertical-align: middle;\n",
              "    }\n",
              "\n",
              "    .dataframe tbody tr th {\n",
              "        vertical-align: top;\n",
              "    }\n",
              "\n",
              "    .dataframe thead th {\n",
              "        text-align: right;\n",
              "    }\n",
              "</style>\n",
              "<table border=\"1\" class=\"dataframe\">\n",
              "  <thead>\n",
              "    <tr style=\"text-align: right;\">\n",
              "      <th></th>\n",
              "      <th>visit_id</th>\n",
              "      <th>patient_id</th>\n",
              "      <th>visit_month</th>\n",
              "      <th>updrs_1</th>\n",
              "      <th>updrs_2</th>\n",
              "      <th>updrs_3</th>\n",
              "      <th>updrs_4</th>\n",
              "      <th>upd23b_clinical_state_on_medication</th>\n",
              "      <th>Prot_1</th>\n",
              "      <th>Prot_2</th>\n",
              "      <th>...</th>\n",
              "      <th>PeptideAbundance_42</th>\n",
              "      <th>PeptideAbundance_43</th>\n",
              "      <th>PeptideAbundance_44</th>\n",
              "      <th>PeptideAbundance_45</th>\n",
              "      <th>PeptideAbundance_46</th>\n",
              "      <th>PeptideAbundance_47</th>\n",
              "      <th>PeptideAbundance_48</th>\n",
              "      <th>PeptideAbundance_49</th>\n",
              "      <th>PeptideAbundance_50</th>\n",
              "      <th>PeptideAbundance_mean</th>\n",
              "    </tr>\n",
              "  </thead>\n",
              "  <tbody>\n",
              "    <tr>\n",
              "      <th>0</th>\n",
              "      <td>55_0</td>\n",
              "      <td>55</td>\n",
              "      <td>0</td>\n",
              "      <td>10.0</td>\n",
              "      <td>6.0</td>\n",
              "      <td>15.0</td>\n",
              "      <td>NaN</td>\n",
              "      <td>N/A</td>\n",
              "      <td>390239000.0</td>\n",
              "      <td>43235500.0</td>\n",
              "      <td>...</td>\n",
              "      <td>91211.81250</td>\n",
              "      <td>223350.766667</td>\n",
              "      <td>8.502336e+06</td>\n",
              "      <td>150282.514286</td>\n",
              "      <td>601414.0</td>\n",
              "      <td>1.327970e+06</td>\n",
              "      <td>2.014220e+05</td>\n",
              "      <td>423833.00</td>\n",
              "      <td>109438.640000</td>\n",
              "      <td>79414.406566</td>\n",
              "    </tr>\n",
              "    <tr>\n",
              "      <th>1</th>\n",
              "      <td>55_6</td>\n",
              "      <td>55</td>\n",
              "      <td>6</td>\n",
              "      <td>8.0</td>\n",
              "      <td>10.0</td>\n",
              "      <td>34.0</td>\n",
              "      <td>NaN</td>\n",
              "      <td>N/A</td>\n",
              "      <td>347572000.0</td>\n",
              "      <td>37999700.0</td>\n",
              "      <td>...</td>\n",
              "      <td>707166.00000</td>\n",
              "      <td>165380.485714</td>\n",
              "      <td>6.820102e+06</td>\n",
              "      <td>123041.050000</td>\n",
              "      <td>521313.0</td>\n",
              "      <td>9.514260e+05</td>\n",
              "      <td>2.424638e+05</td>\n",
              "      <td>404816.00</td>\n",
              "      <td>103623.216667</td>\n",
              "      <td>59374.074012</td>\n",
              "    </tr>\n",
              "    <tr>\n",
              "      <th>2</th>\n",
              "      <td>55_12</td>\n",
              "      <td>55</td>\n",
              "      <td>12</td>\n",
              "      <td>10.0</td>\n",
              "      <td>10.0</td>\n",
              "      <td>41.0</td>\n",
              "      <td>0.0</td>\n",
              "      <td>On</td>\n",
              "      <td>383507000.0</td>\n",
              "      <td>38506400.0</td>\n",
              "      <td>...</td>\n",
              "      <td>103615.23750</td>\n",
              "      <td>234407.830000</td>\n",
              "      <td>7.664914e+06</td>\n",
              "      <td>120560.828571</td>\n",
              "      <td>568842.0</td>\n",
              "      <td>5.313140e+06</td>\n",
              "      <td>7.495008e+04</td>\n",
              "      <td>559521.00</td>\n",
              "      <td>111618.550000</td>\n",
              "      <td>62904.967788</td>\n",
              "    </tr>\n",
              "    <tr>\n",
              "      <th>3</th>\n",
              "      <td>55_36</td>\n",
              "      <td>55</td>\n",
              "      <td>36</td>\n",
              "      <td>17.0</td>\n",
              "      <td>18.0</td>\n",
              "      <td>51.0</td>\n",
              "      <td>0.0</td>\n",
              "      <td>On</td>\n",
              "      <td>449882000.0</td>\n",
              "      <td>45508900.0</td>\n",
              "      <td>...</td>\n",
              "      <td>470533.35625</td>\n",
              "      <td>103852.958333</td>\n",
              "      <td>1.067668e+05</td>\n",
              "      <td>231345.260000</td>\n",
              "      <td>6829787.2</td>\n",
              "      <td>1.166210e+05</td>\n",
              "      <td>3.898800e+06</td>\n",
              "      <td>213389.28</td>\n",
              "      <td>523281.000000</td>\n",
              "      <td>83921.207502</td>\n",
              "    </tr>\n",
              "    <tr>\n",
              "      <th>4</th>\n",
              "      <td>942_6</td>\n",
              "      <td>942</td>\n",
              "      <td>6</td>\n",
              "      <td>8.0</td>\n",
              "      <td>2.0</td>\n",
              "      <td>21.0</td>\n",
              "      <td>NaN</td>\n",
              "      <td>N/A</td>\n",
              "      <td>290111000.0</td>\n",
              "      <td>33323200.0</td>\n",
              "      <td>...</td>\n",
              "      <td>817398.00000</td>\n",
              "      <td>237122.590000</td>\n",
              "      <td>9.196576e+06</td>\n",
              "      <td>776245.000000</td>\n",
              "      <td>1936610.0</td>\n",
              "      <td>1.439816e+05</td>\n",
              "      <td>1.044400e+06</td>\n",
              "      <td>723347.00</td>\n",
              "      <td>123503.466667</td>\n",
              "      <td>57771.228661</td>\n",
              "    </tr>\n",
              "  </tbody>\n",
              "</table>\n",
              "<p>5 rows × 110 columns</p>\n",
              "</div>\n",
              "      <button class=\"colab-df-convert\" onclick=\"convertToInteractive('df-b67ccdbc-dd6c-4755-83e2-08d05af5aafa')\"\n",
              "              title=\"Convert this dataframe to an interactive table.\"\n",
              "              style=\"display:none;\">\n",
              "\n",
              "  <svg xmlns=\"http://www.w3.org/2000/svg\" height=\"24px\"viewBox=\"0 0 24 24\"\n",
              "       width=\"24px\">\n",
              "    <path d=\"M0 0h24v24H0V0z\" fill=\"none\"/>\n",
              "    <path d=\"M18.56 5.44l.94 2.06.94-2.06 2.06-.94-2.06-.94-.94-2.06-.94 2.06-2.06.94zm-11 1L8.5 8.5l.94-2.06 2.06-.94-2.06-.94L8.5 2.5l-.94 2.06-2.06.94zm10 10l.94 2.06.94-2.06 2.06-.94-2.06-.94-.94-2.06-.94 2.06-2.06.94z\"/><path d=\"M17.41 7.96l-1.37-1.37c-.4-.4-.92-.59-1.43-.59-.52 0-1.04.2-1.43.59L10.3 9.45l-7.72 7.72c-.78.78-.78 2.05 0 2.83L4 21.41c.39.39.9.59 1.41.59.51 0 1.02-.2 1.41-.59l7.78-7.78 2.81-2.81c.8-.78.8-2.07 0-2.86zM5.41 20L4 18.59l7.72-7.72 1.47 1.35L5.41 20z\"/>\n",
              "  </svg>\n",
              "      </button>\n",
              "\n",
              "\n",
              "\n",
              "    <div id=\"df-5f3a0a79-57eb-48b2-b339-267c7c6e587f\">\n",
              "      <button class=\"colab-df-quickchart\" onclick=\"quickchart('df-5f3a0a79-57eb-48b2-b339-267c7c6e587f')\"\n",
              "              title=\"Suggest charts.\"\n",
              "              style=\"display:none;\">\n",
              "\n",
              "<svg xmlns=\"http://www.w3.org/2000/svg\" height=\"24px\"viewBox=\"0 0 24 24\"\n",
              "     width=\"24px\">\n",
              "    <g>\n",
              "        <path d=\"M19 3H5c-1.1 0-2 .9-2 2v14c0 1.1.9 2 2 2h14c1.1 0 2-.9 2-2V5c0-1.1-.9-2-2-2zM9 17H7v-7h2v7zm4 0h-2V7h2v10zm4 0h-2v-4h2v4z\"/>\n",
              "    </g>\n",
              "</svg>\n",
              "      </button>\n",
              "    </div>\n",
              "\n",
              "<style>\n",
              "  .colab-df-quickchart {\n",
              "    background-color: #E8F0FE;\n",
              "    border: none;\n",
              "    border-radius: 50%;\n",
              "    cursor: pointer;\n",
              "    display: none;\n",
              "    fill: #1967D2;\n",
              "    height: 32px;\n",
              "    padding: 0 0 0 0;\n",
              "    width: 32px;\n",
              "  }\n",
              "\n",
              "  .colab-df-quickchart:hover {\n",
              "    background-color: #E2EBFA;\n",
              "    box-shadow: 0px 1px 2px rgba(60, 64, 67, 0.3), 0px 1px 3px 1px rgba(60, 64, 67, 0.15);\n",
              "    fill: #174EA6;\n",
              "  }\n",
              "\n",
              "  [theme=dark] .colab-df-quickchart {\n",
              "    background-color: #3B4455;\n",
              "    fill: #D2E3FC;\n",
              "  }\n",
              "\n",
              "  [theme=dark] .colab-df-quickchart:hover {\n",
              "    background-color: #434B5C;\n",
              "    box-shadow: 0px 1px 3px 1px rgba(0, 0, 0, 0.15);\n",
              "    filter: drop-shadow(0px 1px 2px rgba(0, 0, 0, 0.3));\n",
              "    fill: #FFFFFF;\n",
              "  }\n",
              "</style>\n",
              "\n",
              "    <script>\n",
              "      async function quickchart(key) {\n",
              "        const containerElement = document.querySelector('#' + key);\n",
              "        const charts = await google.colab.kernel.invokeFunction(\n",
              "            'suggestCharts', [key], {});\n",
              "      }\n",
              "    </script>\n",
              "\n",
              "      <script>\n",
              "\n",
              "function displayQuickchartButton(domScope) {\n",
              "  let quickchartButtonEl =\n",
              "    domScope.querySelector('#df-5f3a0a79-57eb-48b2-b339-267c7c6e587f button.colab-df-quickchart');\n",
              "  quickchartButtonEl.style.display =\n",
              "    google.colab.kernel.accessAllowed ? 'block' : 'none';\n",
              "}\n",
              "\n",
              "        displayQuickchartButton(document);\n",
              "      </script>\n",
              "      <style>\n",
              "    .colab-df-container {\n",
              "      display:flex;\n",
              "      flex-wrap:wrap;\n",
              "      gap: 12px;\n",
              "    }\n",
              "\n",
              "    .colab-df-convert {\n",
              "      background-color: #E8F0FE;\n",
              "      border: none;\n",
              "      border-radius: 50%;\n",
              "      cursor: pointer;\n",
              "      display: none;\n",
              "      fill: #1967D2;\n",
              "      height: 32px;\n",
              "      padding: 0 0 0 0;\n",
              "      width: 32px;\n",
              "    }\n",
              "\n",
              "    .colab-df-convert:hover {\n",
              "      background-color: #E2EBFA;\n",
              "      box-shadow: 0px 1px 2px rgba(60, 64, 67, 0.3), 0px 1px 3px 1px rgba(60, 64, 67, 0.15);\n",
              "      fill: #174EA6;\n",
              "    }\n",
              "\n",
              "    [theme=dark] .colab-df-convert {\n",
              "      background-color: #3B4455;\n",
              "      fill: #D2E3FC;\n",
              "    }\n",
              "\n",
              "    [theme=dark] .colab-df-convert:hover {\n",
              "      background-color: #434B5C;\n",
              "      box-shadow: 0px 1px 3px 1px rgba(0, 0, 0, 0.15);\n",
              "      filter: drop-shadow(0px 1px 2px rgba(0, 0, 0, 0.3));\n",
              "      fill: #FFFFFF;\n",
              "    }\n",
              "  </style>\n",
              "\n",
              "      <script>\n",
              "        const buttonEl =\n",
              "          document.querySelector('#df-b67ccdbc-dd6c-4755-83e2-08d05af5aafa button.colab-df-convert');\n",
              "        buttonEl.style.display =\n",
              "          google.colab.kernel.accessAllowed ? 'block' : 'none';\n",
              "\n",
              "        async function convertToInteractive(key) {\n",
              "          const element = document.querySelector('#df-b67ccdbc-dd6c-4755-83e2-08d05af5aafa');\n",
              "          const dataTable =\n",
              "            await google.colab.kernel.invokeFunction('convertToInteractive',\n",
              "                                                     [key], {});\n",
              "          if (!dataTable) return;\n",
              "\n",
              "          const docLinkHtml = 'Like what you see? Visit the ' +\n",
              "            '<a target=\"_blank\" href=https://colab.research.google.com/notebooks/data_table.ipynb>data table notebook</a>'\n",
              "            + ' to learn more about interactive tables.';\n",
              "          element.innerHTML = '';\n",
              "          dataTable['output_type'] = 'display_data';\n",
              "          await google.colab.output.renderOutput(dataTable, element);\n",
              "          const docLink = document.createElement('div');\n",
              "          docLink.innerHTML = docLinkHtml;\n",
              "          element.appendChild(docLink);\n",
              "        }\n",
              "      </script>\n",
              "    </div>\n",
              "  </div>\n"
            ]
          },
          "metadata": {},
          "execution_count": 67
        }
      ]
    },
    {
      "cell_type": "markdown",
      "source": [
        "# Preparación de las características y modelación"
      ],
      "metadata": {
        "id": "fuVNSWRUcSu7"
      }
    },
    {
      "cell_type": "code",
      "source": [
        "X = df_preparation.drop(['patient_id', 'visit_id', 'updrs_1', 'updrs_2', 'updrs_3', 'updrs_4'], axis = 1)\n",
        "y = df_preparation[['updrs_1', 'updrs_2', 'updrs_3']]"
      ],
      "metadata": {
        "id": "IN499VGDcSVN"
      },
      "execution_count": null,
      "outputs": []
    },
    {
      "cell_type": "code",
      "source": [
        "X_train, X_test, y_train, y_test = train_test_split(X, y, test_size=0.2, random_state=42)"
      ],
      "metadata": {
        "id": "RAkbNOC3eKgP"
      },
      "execution_count": null,
      "outputs": []
    },
    {
      "cell_type": "code",
      "source": [
        "scaler = StandardScaler()"
      ],
      "metadata": {
        "id": "agLtxR2QjPbv"
      },
      "execution_count": null,
      "outputs": []
    },
    {
      "cell_type": "code",
      "source": [
        "numeric_columns = list(X.select_dtypes(include = ['float64', 'int64']).columns)\n",
        "scaler.fit(X_train[numeric_columns])\n",
        "X_train[numeric_columns] = scaler.transform(X_train[numeric_columns])\n",
        "X_test[numeric_columns] = scaler.transform(X_test[numeric_columns])"
      ],
      "metadata": {
        "id": "6jSxqA7yh7vw"
      },
      "execution_count": null,
      "outputs": []
    },
    {
      "cell_type": "code",
      "source": [
        "X_train.head()"
      ],
      "metadata": {
        "colab": {
          "base_uri": "https://localhost:8080/",
          "height": 299
        },
        "id": "k7ZDN8Tgjmre",
        "outputId": "55e48b20-6214-4c4e-98b7-7f2333fc2783"
      },
      "execution_count": null,
      "outputs": [
        {
          "output_type": "execute_result",
          "data": {
            "text/plain": [
              "     visit_month upd23b_clinical_state_on_medication    Prot_1    Prot_2  \\\n",
              "758    -1.154184                                 N/A -1.295719 -1.089266   \n",
              "442     0.403780                                 Off  0.343928 -1.132778   \n",
              "362    -1.154184                                 N/A  0.314192  0.321230   \n",
              "377    -1.154184                                 N/A  0.693547  0.039850   \n",
              "327     0.403780                                 N/A -0.693385 -0.316744   \n",
              "\n",
              "       Prot_3    Prot_4    Prot_5    Prot_6    Prot_7    Prot_8  ...  \\\n",
              "758 -1.194962 -0.802779 -0.645685 -0.583852 -0.236099 -0.512121  ...   \n",
              "442 -0.691814 -0.164865 -1.224106 -0.661695 -1.955820 -1.744294  ...   \n",
              "362  0.224479  1.380254  1.477570 -0.535760 -0.048025  0.223424  ...   \n",
              "377 -0.243040 -0.418877 -0.267126  0.018148  0.423294  1.150675  ...   \n",
              "327  0.786894 -0.577971  0.240281 -0.698737  0.065133  0.321436  ...   \n",
              "\n",
              "     PeptideAbundance_42  PeptideAbundance_43  PeptideAbundance_44  \\\n",
              "758            -0.216006            -0.320729            -0.755703   \n",
              "442             0.008330            -0.360534            -0.733167   \n",
              "362            -0.235922            -0.315477            -0.763051   \n",
              "377            -0.197714            -0.339322             0.725330   \n",
              "327            -0.042423            -0.363335            -0.742809   \n",
              "\n",
              "     PeptideAbundance_45  PeptideAbundance_46  PeptideAbundance_47  \\\n",
              "758            -0.635859             2.299823            -0.740138   \n",
              "442             2.420385            -0.756609             1.485660   \n",
              "362            -0.460231            -0.767523             2.478046   \n",
              "377            -0.669809            -0.540140             1.109095   \n",
              "327             1.262705            -0.775640            -0.413613   \n",
              "\n",
              "     PeptideAbundance_48  PeptideAbundance_49  PeptideAbundance_50  \\\n",
              "758             2.272668            -0.592342             0.527731   \n",
              "442            -0.502488            -0.700084             1.684819   \n",
              "362            -0.590829             4.914867            -0.581449   \n",
              "377            -0.549708            -0.802986             0.526042   \n",
              "327             1.617926            -0.624533             0.524811   \n",
              "\n",
              "     PeptideAbundance_mean  \n",
              "758              -0.334308  \n",
              "442              -0.405241  \n",
              "362              -0.331426  \n",
              "377              -0.843182  \n",
              "327              -0.791867  \n",
              "\n",
              "[5 rows x 104 columns]"
            ],
            "text/html": [
              "\n",
              "\n",
              "  <div id=\"df-0c41acef-6a4f-4963-a584-eb9ec0644e0f\">\n",
              "    <div class=\"colab-df-container\">\n",
              "      <div>\n",
              "<style scoped>\n",
              "    .dataframe tbody tr th:only-of-type {\n",
              "        vertical-align: middle;\n",
              "    }\n",
              "\n",
              "    .dataframe tbody tr th {\n",
              "        vertical-align: top;\n",
              "    }\n",
              "\n",
              "    .dataframe thead th {\n",
              "        text-align: right;\n",
              "    }\n",
              "</style>\n",
              "<table border=\"1\" class=\"dataframe\">\n",
              "  <thead>\n",
              "    <tr style=\"text-align: right;\">\n",
              "      <th></th>\n",
              "      <th>visit_month</th>\n",
              "      <th>upd23b_clinical_state_on_medication</th>\n",
              "      <th>Prot_1</th>\n",
              "      <th>Prot_2</th>\n",
              "      <th>Prot_3</th>\n",
              "      <th>Prot_4</th>\n",
              "      <th>Prot_5</th>\n",
              "      <th>Prot_6</th>\n",
              "      <th>Prot_7</th>\n",
              "      <th>Prot_8</th>\n",
              "      <th>...</th>\n",
              "      <th>PeptideAbundance_42</th>\n",
              "      <th>PeptideAbundance_43</th>\n",
              "      <th>PeptideAbundance_44</th>\n",
              "      <th>PeptideAbundance_45</th>\n",
              "      <th>PeptideAbundance_46</th>\n",
              "      <th>PeptideAbundance_47</th>\n",
              "      <th>PeptideAbundance_48</th>\n",
              "      <th>PeptideAbundance_49</th>\n",
              "      <th>PeptideAbundance_50</th>\n",
              "      <th>PeptideAbundance_mean</th>\n",
              "    </tr>\n",
              "  </thead>\n",
              "  <tbody>\n",
              "    <tr>\n",
              "      <th>758</th>\n",
              "      <td>-1.154184</td>\n",
              "      <td>N/A</td>\n",
              "      <td>-1.295719</td>\n",
              "      <td>-1.089266</td>\n",
              "      <td>-1.194962</td>\n",
              "      <td>-0.802779</td>\n",
              "      <td>-0.645685</td>\n",
              "      <td>-0.583852</td>\n",
              "      <td>-0.236099</td>\n",
              "      <td>-0.512121</td>\n",
              "      <td>...</td>\n",
              "      <td>-0.216006</td>\n",
              "      <td>-0.320729</td>\n",
              "      <td>-0.755703</td>\n",
              "      <td>-0.635859</td>\n",
              "      <td>2.299823</td>\n",
              "      <td>-0.740138</td>\n",
              "      <td>2.272668</td>\n",
              "      <td>-0.592342</td>\n",
              "      <td>0.527731</td>\n",
              "      <td>-0.334308</td>\n",
              "    </tr>\n",
              "    <tr>\n",
              "      <th>442</th>\n",
              "      <td>0.403780</td>\n",
              "      <td>Off</td>\n",
              "      <td>0.343928</td>\n",
              "      <td>-1.132778</td>\n",
              "      <td>-0.691814</td>\n",
              "      <td>-0.164865</td>\n",
              "      <td>-1.224106</td>\n",
              "      <td>-0.661695</td>\n",
              "      <td>-1.955820</td>\n",
              "      <td>-1.744294</td>\n",
              "      <td>...</td>\n",
              "      <td>0.008330</td>\n",
              "      <td>-0.360534</td>\n",
              "      <td>-0.733167</td>\n",
              "      <td>2.420385</td>\n",
              "      <td>-0.756609</td>\n",
              "      <td>1.485660</td>\n",
              "      <td>-0.502488</td>\n",
              "      <td>-0.700084</td>\n",
              "      <td>1.684819</td>\n",
              "      <td>-0.405241</td>\n",
              "    </tr>\n",
              "    <tr>\n",
              "      <th>362</th>\n",
              "      <td>-1.154184</td>\n",
              "      <td>N/A</td>\n",
              "      <td>0.314192</td>\n",
              "      <td>0.321230</td>\n",
              "      <td>0.224479</td>\n",
              "      <td>1.380254</td>\n",
              "      <td>1.477570</td>\n",
              "      <td>-0.535760</td>\n",
              "      <td>-0.048025</td>\n",
              "      <td>0.223424</td>\n",
              "      <td>...</td>\n",
              "      <td>-0.235922</td>\n",
              "      <td>-0.315477</td>\n",
              "      <td>-0.763051</td>\n",
              "      <td>-0.460231</td>\n",
              "      <td>-0.767523</td>\n",
              "      <td>2.478046</td>\n",
              "      <td>-0.590829</td>\n",
              "      <td>4.914867</td>\n",
              "      <td>-0.581449</td>\n",
              "      <td>-0.331426</td>\n",
              "    </tr>\n",
              "    <tr>\n",
              "      <th>377</th>\n",
              "      <td>-1.154184</td>\n",
              "      <td>N/A</td>\n",
              "      <td>0.693547</td>\n",
              "      <td>0.039850</td>\n",
              "      <td>-0.243040</td>\n",
              "      <td>-0.418877</td>\n",
              "      <td>-0.267126</td>\n",
              "      <td>0.018148</td>\n",
              "      <td>0.423294</td>\n",
              "      <td>1.150675</td>\n",
              "      <td>...</td>\n",
              "      <td>-0.197714</td>\n",
              "      <td>-0.339322</td>\n",
              "      <td>0.725330</td>\n",
              "      <td>-0.669809</td>\n",
              "      <td>-0.540140</td>\n",
              "      <td>1.109095</td>\n",
              "      <td>-0.549708</td>\n",
              "      <td>-0.802986</td>\n",
              "      <td>0.526042</td>\n",
              "      <td>-0.843182</td>\n",
              "    </tr>\n",
              "    <tr>\n",
              "      <th>327</th>\n",
              "      <td>0.403780</td>\n",
              "      <td>N/A</td>\n",
              "      <td>-0.693385</td>\n",
              "      <td>-0.316744</td>\n",
              "      <td>0.786894</td>\n",
              "      <td>-0.577971</td>\n",
              "      <td>0.240281</td>\n",
              "      <td>-0.698737</td>\n",
              "      <td>0.065133</td>\n",
              "      <td>0.321436</td>\n",
              "      <td>...</td>\n",
              "      <td>-0.042423</td>\n",
              "      <td>-0.363335</td>\n",
              "      <td>-0.742809</td>\n",
              "      <td>1.262705</td>\n",
              "      <td>-0.775640</td>\n",
              "      <td>-0.413613</td>\n",
              "      <td>1.617926</td>\n",
              "      <td>-0.624533</td>\n",
              "      <td>0.524811</td>\n",
              "      <td>-0.791867</td>\n",
              "    </tr>\n",
              "  </tbody>\n",
              "</table>\n",
              "<p>5 rows × 104 columns</p>\n",
              "</div>\n",
              "      <button class=\"colab-df-convert\" onclick=\"convertToInteractive('df-0c41acef-6a4f-4963-a584-eb9ec0644e0f')\"\n",
              "              title=\"Convert this dataframe to an interactive table.\"\n",
              "              style=\"display:none;\">\n",
              "\n",
              "  <svg xmlns=\"http://www.w3.org/2000/svg\" height=\"24px\"viewBox=\"0 0 24 24\"\n",
              "       width=\"24px\">\n",
              "    <path d=\"M0 0h24v24H0V0z\" fill=\"none\"/>\n",
              "    <path d=\"M18.56 5.44l.94 2.06.94-2.06 2.06-.94-2.06-.94-.94-2.06-.94 2.06-2.06.94zm-11 1L8.5 8.5l.94-2.06 2.06-.94-2.06-.94L8.5 2.5l-.94 2.06-2.06.94zm10 10l.94 2.06.94-2.06 2.06-.94-2.06-.94-.94-2.06-.94 2.06-2.06.94z\"/><path d=\"M17.41 7.96l-1.37-1.37c-.4-.4-.92-.59-1.43-.59-.52 0-1.04.2-1.43.59L10.3 9.45l-7.72 7.72c-.78.78-.78 2.05 0 2.83L4 21.41c.39.39.9.59 1.41.59.51 0 1.02-.2 1.41-.59l7.78-7.78 2.81-2.81c.8-.78.8-2.07 0-2.86zM5.41 20L4 18.59l7.72-7.72 1.47 1.35L5.41 20z\"/>\n",
              "  </svg>\n",
              "      </button>\n",
              "\n",
              "\n",
              "\n",
              "    <div id=\"df-c37c8003-c5d0-4f61-bd58-3446d9c7bf3b\">\n",
              "      <button class=\"colab-df-quickchart\" onclick=\"quickchart('df-c37c8003-c5d0-4f61-bd58-3446d9c7bf3b')\"\n",
              "              title=\"Suggest charts.\"\n",
              "              style=\"display:none;\">\n",
              "\n",
              "<svg xmlns=\"http://www.w3.org/2000/svg\" height=\"24px\"viewBox=\"0 0 24 24\"\n",
              "     width=\"24px\">\n",
              "    <g>\n",
              "        <path d=\"M19 3H5c-1.1 0-2 .9-2 2v14c0 1.1.9 2 2 2h14c1.1 0 2-.9 2-2V5c0-1.1-.9-2-2-2zM9 17H7v-7h2v7zm4 0h-2V7h2v10zm4 0h-2v-4h2v4z\"/>\n",
              "    </g>\n",
              "</svg>\n",
              "      </button>\n",
              "    </div>\n",
              "\n",
              "<style>\n",
              "  .colab-df-quickchart {\n",
              "    background-color: #E8F0FE;\n",
              "    border: none;\n",
              "    border-radius: 50%;\n",
              "    cursor: pointer;\n",
              "    display: none;\n",
              "    fill: #1967D2;\n",
              "    height: 32px;\n",
              "    padding: 0 0 0 0;\n",
              "    width: 32px;\n",
              "  }\n",
              "\n",
              "  .colab-df-quickchart:hover {\n",
              "    background-color: #E2EBFA;\n",
              "    box-shadow: 0px 1px 2px rgba(60, 64, 67, 0.3), 0px 1px 3px 1px rgba(60, 64, 67, 0.15);\n",
              "    fill: #174EA6;\n",
              "  }\n",
              "\n",
              "  [theme=dark] .colab-df-quickchart {\n",
              "    background-color: #3B4455;\n",
              "    fill: #D2E3FC;\n",
              "  }\n",
              "\n",
              "  [theme=dark] .colab-df-quickchart:hover {\n",
              "    background-color: #434B5C;\n",
              "    box-shadow: 0px 1px 3px 1px rgba(0, 0, 0, 0.15);\n",
              "    filter: drop-shadow(0px 1px 2px rgba(0, 0, 0, 0.3));\n",
              "    fill: #FFFFFF;\n",
              "  }\n",
              "</style>\n",
              "\n",
              "    <script>\n",
              "      async function quickchart(key) {\n",
              "        const containerElement = document.querySelector('#' + key);\n",
              "        const charts = await google.colab.kernel.invokeFunction(\n",
              "            'suggestCharts', [key], {});\n",
              "      }\n",
              "    </script>\n",
              "\n",
              "      <script>\n",
              "\n",
              "function displayQuickchartButton(domScope) {\n",
              "  let quickchartButtonEl =\n",
              "    domScope.querySelector('#df-c37c8003-c5d0-4f61-bd58-3446d9c7bf3b button.colab-df-quickchart');\n",
              "  quickchartButtonEl.style.display =\n",
              "    google.colab.kernel.accessAllowed ? 'block' : 'none';\n",
              "}\n",
              "\n",
              "        displayQuickchartButton(document);\n",
              "      </script>\n",
              "      <style>\n",
              "    .colab-df-container {\n",
              "      display:flex;\n",
              "      flex-wrap:wrap;\n",
              "      gap: 12px;\n",
              "    }\n",
              "\n",
              "    .colab-df-convert {\n",
              "      background-color: #E8F0FE;\n",
              "      border: none;\n",
              "      border-radius: 50%;\n",
              "      cursor: pointer;\n",
              "      display: none;\n",
              "      fill: #1967D2;\n",
              "      height: 32px;\n",
              "      padding: 0 0 0 0;\n",
              "      width: 32px;\n",
              "    }\n",
              "\n",
              "    .colab-df-convert:hover {\n",
              "      background-color: #E2EBFA;\n",
              "      box-shadow: 0px 1px 2px rgba(60, 64, 67, 0.3), 0px 1px 3px 1px rgba(60, 64, 67, 0.15);\n",
              "      fill: #174EA6;\n",
              "    }\n",
              "\n",
              "    [theme=dark] .colab-df-convert {\n",
              "      background-color: #3B4455;\n",
              "      fill: #D2E3FC;\n",
              "    }\n",
              "\n",
              "    [theme=dark] .colab-df-convert:hover {\n",
              "      background-color: #434B5C;\n",
              "      box-shadow: 0px 1px 3px 1px rgba(0, 0, 0, 0.15);\n",
              "      filter: drop-shadow(0px 1px 2px rgba(0, 0, 0, 0.3));\n",
              "      fill: #FFFFFF;\n",
              "    }\n",
              "  </style>\n",
              "\n",
              "      <script>\n",
              "        const buttonEl =\n",
              "          document.querySelector('#df-0c41acef-6a4f-4963-a584-eb9ec0644e0f button.colab-df-convert');\n",
              "        buttonEl.style.display =\n",
              "          google.colab.kernel.accessAllowed ? 'block' : 'none';\n",
              "\n",
              "        async function convertToInteractive(key) {\n",
              "          const element = document.querySelector('#df-0c41acef-6a4f-4963-a584-eb9ec0644e0f');\n",
              "          const dataTable =\n",
              "            await google.colab.kernel.invokeFunction('convertToInteractive',\n",
              "                                                     [key], {});\n",
              "          if (!dataTable) return;\n",
              "\n",
              "          const docLinkHtml = 'Like what you see? Visit the ' +\n",
              "            '<a target=\"_blank\" href=https://colab.research.google.com/notebooks/data_table.ipynb>data table notebook</a>'\n",
              "            + ' to learn more about interactive tables.';\n",
              "          element.innerHTML = '';\n",
              "          dataTable['output_type'] = 'display_data';\n",
              "          await google.colab.output.renderOutput(dataTable, element);\n",
              "          const docLink = document.createElement('div');\n",
              "          docLink.innerHTML = docLinkHtml;\n",
              "          element.appendChild(docLink);\n",
              "        }\n",
              "      </script>\n",
              "    </div>\n",
              "  </div>\n"
            ]
          },
          "metadata": {},
          "execution_count": 72
        }
      ]
    },
    {
      "cell_type": "code",
      "source": [
        "X_train = pd.get_dummies(X_train, drop_first=True)\n",
        "X_test = pd.get_dummies(X_test, drop_first=True)"
      ],
      "metadata": {
        "id": "S7n7T5M3gARU"
      },
      "execution_count": null,
      "outputs": []
    },
    {
      "cell_type": "code",
      "source": [
        "X_train.head()"
      ],
      "metadata": {
        "colab": {
          "base_uri": "https://localhost:8080/",
          "height": 299
        },
        "id": "JvcaFG42kFOB",
        "outputId": "6bf88736-9a61-477a-cc66-3f2339cbd713"
      },
      "execution_count": null,
      "outputs": [
        {
          "output_type": "execute_result",
          "data": {
            "text/plain": [
              "     visit_month    Prot_1    Prot_2    Prot_3    Prot_4    Prot_5    Prot_6  \\\n",
              "758    -1.154184 -1.295719 -1.089266 -1.194962 -0.802779 -0.645685 -0.583852   \n",
              "442     0.403780  0.343928 -1.132778 -0.691814 -0.164865 -1.224106 -0.661695   \n",
              "362    -1.154184  0.314192  0.321230  0.224479  1.380254  1.477570 -0.535760   \n",
              "377    -1.154184  0.693547  0.039850 -0.243040 -0.418877 -0.267126  0.018148   \n",
              "327     0.403780 -0.693385 -0.316744  0.786894 -0.577971  0.240281 -0.698737   \n",
              "\n",
              "       Prot_7    Prot_8    Prot_9  ...  PeptideAbundance_44  \\\n",
              "758 -0.236099 -0.512121 -0.064255  ...            -0.755703   \n",
              "442 -1.955820 -1.744294 -1.260740  ...            -0.733167   \n",
              "362 -0.048025  0.223424  0.771149  ...            -0.763051   \n",
              "377  0.423294  1.150675 -0.116363  ...             0.725330   \n",
              "327  0.065133  0.321436  0.240235  ...            -0.742809   \n",
              "\n",
              "     PeptideAbundance_45  PeptideAbundance_46  PeptideAbundance_47  \\\n",
              "758            -0.635859             2.299823            -0.740138   \n",
              "442             2.420385            -0.756609             1.485660   \n",
              "362            -0.460231            -0.767523             2.478046   \n",
              "377            -0.669809            -0.540140             1.109095   \n",
              "327             1.262705            -0.775640            -0.413613   \n",
              "\n",
              "     PeptideAbundance_48  PeptideAbundance_49  PeptideAbundance_50  \\\n",
              "758             2.272668            -0.592342             0.527731   \n",
              "442            -0.502488            -0.700084             1.684819   \n",
              "362            -0.590829             4.914867            -0.581449   \n",
              "377            -0.549708            -0.802986             0.526042   \n",
              "327             1.617926            -0.624533             0.524811   \n",
              "\n",
              "     PeptideAbundance_mean  upd23b_clinical_state_on_medication_Off  \\\n",
              "758              -0.334308                                        0   \n",
              "442              -0.405241                                        1   \n",
              "362              -0.331426                                        0   \n",
              "377              -0.843182                                        0   \n",
              "327              -0.791867                                        0   \n",
              "\n",
              "     upd23b_clinical_state_on_medication_On  \n",
              "758                                       0  \n",
              "442                                       0  \n",
              "362                                       0  \n",
              "377                                       0  \n",
              "327                                       0  \n",
              "\n",
              "[5 rows x 105 columns]"
            ],
            "text/html": [
              "\n",
              "\n",
              "  <div id=\"df-0e50a891-8a70-4952-82fb-62656861cbeb\">\n",
              "    <div class=\"colab-df-container\">\n",
              "      <div>\n",
              "<style scoped>\n",
              "    .dataframe tbody tr th:only-of-type {\n",
              "        vertical-align: middle;\n",
              "    }\n",
              "\n",
              "    .dataframe tbody tr th {\n",
              "        vertical-align: top;\n",
              "    }\n",
              "\n",
              "    .dataframe thead th {\n",
              "        text-align: right;\n",
              "    }\n",
              "</style>\n",
              "<table border=\"1\" class=\"dataframe\">\n",
              "  <thead>\n",
              "    <tr style=\"text-align: right;\">\n",
              "      <th></th>\n",
              "      <th>visit_month</th>\n",
              "      <th>Prot_1</th>\n",
              "      <th>Prot_2</th>\n",
              "      <th>Prot_3</th>\n",
              "      <th>Prot_4</th>\n",
              "      <th>Prot_5</th>\n",
              "      <th>Prot_6</th>\n",
              "      <th>Prot_7</th>\n",
              "      <th>Prot_8</th>\n",
              "      <th>Prot_9</th>\n",
              "      <th>...</th>\n",
              "      <th>PeptideAbundance_44</th>\n",
              "      <th>PeptideAbundance_45</th>\n",
              "      <th>PeptideAbundance_46</th>\n",
              "      <th>PeptideAbundance_47</th>\n",
              "      <th>PeptideAbundance_48</th>\n",
              "      <th>PeptideAbundance_49</th>\n",
              "      <th>PeptideAbundance_50</th>\n",
              "      <th>PeptideAbundance_mean</th>\n",
              "      <th>upd23b_clinical_state_on_medication_Off</th>\n",
              "      <th>upd23b_clinical_state_on_medication_On</th>\n",
              "    </tr>\n",
              "  </thead>\n",
              "  <tbody>\n",
              "    <tr>\n",
              "      <th>758</th>\n",
              "      <td>-1.154184</td>\n",
              "      <td>-1.295719</td>\n",
              "      <td>-1.089266</td>\n",
              "      <td>-1.194962</td>\n",
              "      <td>-0.802779</td>\n",
              "      <td>-0.645685</td>\n",
              "      <td>-0.583852</td>\n",
              "      <td>-0.236099</td>\n",
              "      <td>-0.512121</td>\n",
              "      <td>-0.064255</td>\n",
              "      <td>...</td>\n",
              "      <td>-0.755703</td>\n",
              "      <td>-0.635859</td>\n",
              "      <td>2.299823</td>\n",
              "      <td>-0.740138</td>\n",
              "      <td>2.272668</td>\n",
              "      <td>-0.592342</td>\n",
              "      <td>0.527731</td>\n",
              "      <td>-0.334308</td>\n",
              "      <td>0</td>\n",
              "      <td>0</td>\n",
              "    </tr>\n",
              "    <tr>\n",
              "      <th>442</th>\n",
              "      <td>0.403780</td>\n",
              "      <td>0.343928</td>\n",
              "      <td>-1.132778</td>\n",
              "      <td>-0.691814</td>\n",
              "      <td>-0.164865</td>\n",
              "      <td>-1.224106</td>\n",
              "      <td>-0.661695</td>\n",
              "      <td>-1.955820</td>\n",
              "      <td>-1.744294</td>\n",
              "      <td>-1.260740</td>\n",
              "      <td>...</td>\n",
              "      <td>-0.733167</td>\n",
              "      <td>2.420385</td>\n",
              "      <td>-0.756609</td>\n",
              "      <td>1.485660</td>\n",
              "      <td>-0.502488</td>\n",
              "      <td>-0.700084</td>\n",
              "      <td>1.684819</td>\n",
              "      <td>-0.405241</td>\n",
              "      <td>1</td>\n",
              "      <td>0</td>\n",
              "    </tr>\n",
              "    <tr>\n",
              "      <th>362</th>\n",
              "      <td>-1.154184</td>\n",
              "      <td>0.314192</td>\n",
              "      <td>0.321230</td>\n",
              "      <td>0.224479</td>\n",
              "      <td>1.380254</td>\n",
              "      <td>1.477570</td>\n",
              "      <td>-0.535760</td>\n",
              "      <td>-0.048025</td>\n",
              "      <td>0.223424</td>\n",
              "      <td>0.771149</td>\n",
              "      <td>...</td>\n",
              "      <td>-0.763051</td>\n",
              "      <td>-0.460231</td>\n",
              "      <td>-0.767523</td>\n",
              "      <td>2.478046</td>\n",
              "      <td>-0.590829</td>\n",
              "      <td>4.914867</td>\n",
              "      <td>-0.581449</td>\n",
              "      <td>-0.331426</td>\n",
              "      <td>0</td>\n",
              "      <td>0</td>\n",
              "    </tr>\n",
              "    <tr>\n",
              "      <th>377</th>\n",
              "      <td>-1.154184</td>\n",
              "      <td>0.693547</td>\n",
              "      <td>0.039850</td>\n",
              "      <td>-0.243040</td>\n",
              "      <td>-0.418877</td>\n",
              "      <td>-0.267126</td>\n",
              "      <td>0.018148</td>\n",
              "      <td>0.423294</td>\n",
              "      <td>1.150675</td>\n",
              "      <td>-0.116363</td>\n",
              "      <td>...</td>\n",
              "      <td>0.725330</td>\n",
              "      <td>-0.669809</td>\n",
              "      <td>-0.540140</td>\n",
              "      <td>1.109095</td>\n",
              "      <td>-0.549708</td>\n",
              "      <td>-0.802986</td>\n",
              "      <td>0.526042</td>\n",
              "      <td>-0.843182</td>\n",
              "      <td>0</td>\n",
              "      <td>0</td>\n",
              "    </tr>\n",
              "    <tr>\n",
              "      <th>327</th>\n",
              "      <td>0.403780</td>\n",
              "      <td>-0.693385</td>\n",
              "      <td>-0.316744</td>\n",
              "      <td>0.786894</td>\n",
              "      <td>-0.577971</td>\n",
              "      <td>0.240281</td>\n",
              "      <td>-0.698737</td>\n",
              "      <td>0.065133</td>\n",
              "      <td>0.321436</td>\n",
              "      <td>0.240235</td>\n",
              "      <td>...</td>\n",
              "      <td>-0.742809</td>\n",
              "      <td>1.262705</td>\n",
              "      <td>-0.775640</td>\n",
              "      <td>-0.413613</td>\n",
              "      <td>1.617926</td>\n",
              "      <td>-0.624533</td>\n",
              "      <td>0.524811</td>\n",
              "      <td>-0.791867</td>\n",
              "      <td>0</td>\n",
              "      <td>0</td>\n",
              "    </tr>\n",
              "  </tbody>\n",
              "</table>\n",
              "<p>5 rows × 105 columns</p>\n",
              "</div>\n",
              "      <button class=\"colab-df-convert\" onclick=\"convertToInteractive('df-0e50a891-8a70-4952-82fb-62656861cbeb')\"\n",
              "              title=\"Convert this dataframe to an interactive table.\"\n",
              "              style=\"display:none;\">\n",
              "\n",
              "  <svg xmlns=\"http://www.w3.org/2000/svg\" height=\"24px\"viewBox=\"0 0 24 24\"\n",
              "       width=\"24px\">\n",
              "    <path d=\"M0 0h24v24H0V0z\" fill=\"none\"/>\n",
              "    <path d=\"M18.56 5.44l.94 2.06.94-2.06 2.06-.94-2.06-.94-.94-2.06-.94 2.06-2.06.94zm-11 1L8.5 8.5l.94-2.06 2.06-.94-2.06-.94L8.5 2.5l-.94 2.06-2.06.94zm10 10l.94 2.06.94-2.06 2.06-.94-2.06-.94-.94-2.06-.94 2.06-2.06.94z\"/><path d=\"M17.41 7.96l-1.37-1.37c-.4-.4-.92-.59-1.43-.59-.52 0-1.04.2-1.43.59L10.3 9.45l-7.72 7.72c-.78.78-.78 2.05 0 2.83L4 21.41c.39.39.9.59 1.41.59.51 0 1.02-.2 1.41-.59l7.78-7.78 2.81-2.81c.8-.78.8-2.07 0-2.86zM5.41 20L4 18.59l7.72-7.72 1.47 1.35L5.41 20z\"/>\n",
              "  </svg>\n",
              "      </button>\n",
              "\n",
              "\n",
              "\n",
              "    <div id=\"df-bbd3e3b1-f167-4531-b567-d692f5925b21\">\n",
              "      <button class=\"colab-df-quickchart\" onclick=\"quickchart('df-bbd3e3b1-f167-4531-b567-d692f5925b21')\"\n",
              "              title=\"Suggest charts.\"\n",
              "              style=\"display:none;\">\n",
              "\n",
              "<svg xmlns=\"http://www.w3.org/2000/svg\" height=\"24px\"viewBox=\"0 0 24 24\"\n",
              "     width=\"24px\">\n",
              "    <g>\n",
              "        <path d=\"M19 3H5c-1.1 0-2 .9-2 2v14c0 1.1.9 2 2 2h14c1.1 0 2-.9 2-2V5c0-1.1-.9-2-2-2zM9 17H7v-7h2v7zm4 0h-2V7h2v10zm4 0h-2v-4h2v4z\"/>\n",
              "    </g>\n",
              "</svg>\n",
              "      </button>\n",
              "    </div>\n",
              "\n",
              "<style>\n",
              "  .colab-df-quickchart {\n",
              "    background-color: #E8F0FE;\n",
              "    border: none;\n",
              "    border-radius: 50%;\n",
              "    cursor: pointer;\n",
              "    display: none;\n",
              "    fill: #1967D2;\n",
              "    height: 32px;\n",
              "    padding: 0 0 0 0;\n",
              "    width: 32px;\n",
              "  }\n",
              "\n",
              "  .colab-df-quickchart:hover {\n",
              "    background-color: #E2EBFA;\n",
              "    box-shadow: 0px 1px 2px rgba(60, 64, 67, 0.3), 0px 1px 3px 1px rgba(60, 64, 67, 0.15);\n",
              "    fill: #174EA6;\n",
              "  }\n",
              "\n",
              "  [theme=dark] .colab-df-quickchart {\n",
              "    background-color: #3B4455;\n",
              "    fill: #D2E3FC;\n",
              "  }\n",
              "\n",
              "  [theme=dark] .colab-df-quickchart:hover {\n",
              "    background-color: #434B5C;\n",
              "    box-shadow: 0px 1px 3px 1px rgba(0, 0, 0, 0.15);\n",
              "    filter: drop-shadow(0px 1px 2px rgba(0, 0, 0, 0.3));\n",
              "    fill: #FFFFFF;\n",
              "  }\n",
              "</style>\n",
              "\n",
              "    <script>\n",
              "      async function quickchart(key) {\n",
              "        const containerElement = document.querySelector('#' + key);\n",
              "        const charts = await google.colab.kernel.invokeFunction(\n",
              "            'suggestCharts', [key], {});\n",
              "      }\n",
              "    </script>\n",
              "\n",
              "      <script>\n",
              "\n",
              "function displayQuickchartButton(domScope) {\n",
              "  let quickchartButtonEl =\n",
              "    domScope.querySelector('#df-bbd3e3b1-f167-4531-b567-d692f5925b21 button.colab-df-quickchart');\n",
              "  quickchartButtonEl.style.display =\n",
              "    google.colab.kernel.accessAllowed ? 'block' : 'none';\n",
              "}\n",
              "\n",
              "        displayQuickchartButton(document);\n",
              "      </script>\n",
              "      <style>\n",
              "    .colab-df-container {\n",
              "      display:flex;\n",
              "      flex-wrap:wrap;\n",
              "      gap: 12px;\n",
              "    }\n",
              "\n",
              "    .colab-df-convert {\n",
              "      background-color: #E8F0FE;\n",
              "      border: none;\n",
              "      border-radius: 50%;\n",
              "      cursor: pointer;\n",
              "      display: none;\n",
              "      fill: #1967D2;\n",
              "      height: 32px;\n",
              "      padding: 0 0 0 0;\n",
              "      width: 32px;\n",
              "    }\n",
              "\n",
              "    .colab-df-convert:hover {\n",
              "      background-color: #E2EBFA;\n",
              "      box-shadow: 0px 1px 2px rgba(60, 64, 67, 0.3), 0px 1px 3px 1px rgba(60, 64, 67, 0.15);\n",
              "      fill: #174EA6;\n",
              "    }\n",
              "\n",
              "    [theme=dark] .colab-df-convert {\n",
              "      background-color: #3B4455;\n",
              "      fill: #D2E3FC;\n",
              "    }\n",
              "\n",
              "    [theme=dark] .colab-df-convert:hover {\n",
              "      background-color: #434B5C;\n",
              "      box-shadow: 0px 1px 3px 1px rgba(0, 0, 0, 0.15);\n",
              "      filter: drop-shadow(0px 1px 2px rgba(0, 0, 0, 0.3));\n",
              "      fill: #FFFFFF;\n",
              "    }\n",
              "  </style>\n",
              "\n",
              "      <script>\n",
              "        const buttonEl =\n",
              "          document.querySelector('#df-0e50a891-8a70-4952-82fb-62656861cbeb button.colab-df-convert');\n",
              "        buttonEl.style.display =\n",
              "          google.colab.kernel.accessAllowed ? 'block' : 'none';\n",
              "\n",
              "        async function convertToInteractive(key) {\n",
              "          const element = document.querySelector('#df-0e50a891-8a70-4952-82fb-62656861cbeb');\n",
              "          const dataTable =\n",
              "            await google.colab.kernel.invokeFunction('convertToInteractive',\n",
              "                                                     [key], {});\n",
              "          if (!dataTable) return;\n",
              "\n",
              "          const docLinkHtml = 'Like what you see? Visit the ' +\n",
              "            '<a target=\"_blank\" href=https://colab.research.google.com/notebooks/data_table.ipynb>data table notebook</a>'\n",
              "            + ' to learn more about interactive tables.';\n",
              "          element.innerHTML = '';\n",
              "          dataTable['output_type'] = 'display_data';\n",
              "          await google.colab.output.renderOutput(dataTable, element);\n",
              "          const docLink = document.createElement('div');\n",
              "          docLink.innerHTML = docLinkHtml;\n",
              "          element.appendChild(docLink);\n",
              "        }\n",
              "      </script>\n",
              "    </div>\n",
              "  </div>\n"
            ]
          },
          "metadata": {},
          "execution_count": 74
        }
      ]
    },
    {
      "cell_type": "code",
      "source": [
        "print(X_train.shape)\n",
        "print(X_test.shape)"
      ],
      "metadata": {
        "colab": {
          "base_uri": "https://localhost:8080/"
        },
        "id": "0ponY1mckTy9",
        "outputId": "b6c46d18-4a5a-414e-d7ff-abcb516ca2e3"
      },
      "execution_count": null,
      "outputs": [
        {
          "output_type": "stream",
          "name": "stdout",
          "text": [
            "(845, 105)\n",
            "(212, 105)\n"
          ]
        }
      ]
    },
    {
      "cell_type": "markdown",
      "source": [
        "## Modelo red neuronal completamente conectada\n",
        "\n",
        "En este caso vamos a usar una red neuronal completamente conectada para predecir las variables `updrs_1`, `updrs_2` y `updrs_3`. Creemos que en este caso, una red neuronal es el modelo adecuado debido a la cantidad de variables predictoras involucradas."
      ],
      "metadata": {
        "id": "pyJUZpBiHzVI"
      }
    },
    {
      "cell_type": "code",
      "source": [
        "units = [200, 300, 400, 500]\n",
        "lr = [0.0001, 0.001, 0.01]\n",
        "dr = [0.5, 0.6, 0.7]"
      ],
      "metadata": {
        "id": "4ZIoOr1i8cES"
      },
      "execution_count": null,
      "outputs": []
    },
    {
      "cell_type": "code",
      "source": [
        "best_rmse_mean = 30\n",
        "best_u = 0\n",
        "best_lr = 0\n",
        "best_dr = 0\n",
        "\n",
        "for u in units:\n",
        "  for l in lr:\n",
        "    for d in dr:\n",
        "      model = keras.Sequential()\n",
        "      model.add(keras.layers.Dense(units = u, input_dim = X_train.shape[1], activation = 'relu'))\n",
        "      model.add(keras.layers.Dropout(d))\n",
        "      model.add(keras.layers.Dense(units = u/2, activation = 'relu'))\n",
        "      model.add(keras.layers.Dropout(d))\n",
        "      #model.add(keras.layers.Dense(units = 50, activation = 'relu'))\n",
        "      # model.add(keras.layers.Dropout(0.5))\n",
        "      model.add(keras.layers.Dense(units = 3, activation = 'relu'))\n",
        "\n",
        "      opt = keras.optimizers.Adam(learning_rate=l)\n",
        "      model.compile(optimizer=opt,\n",
        "                    loss='mse',\n",
        "                    metrics=[tf.keras.metrics.RootMeanSquaredError()])\n",
        "      model.fit(X_train, y_train, epochs=100, verbose=0,\n",
        "          validation_data=(X_test, y_test))\n",
        "      y_pred = model.predict(X_test)\n",
        "      y_pred_updrs_1 = y_pred[:,0]\n",
        "      rmse = mean_squared_error(y_pred_updrs_1, y_test['updrs_1'], squared=False)/y_test['updrs_1'].max()*100\n",
        "      if rmse < best_rmse_mean:\n",
        "        best_rmse_mean = rmse\n",
        "        best_u = u\n",
        "        best_lr = lr\n",
        "        best_dr = dr"
      ],
      "metadata": {
        "colab": {
          "base_uri": "https://localhost:8080/"
        },
        "id": "tFSSGDQuOub2",
        "outputId": "fc21d111-0ac4-48cc-9bee-16dc57e29451"
      },
      "execution_count": null,
      "outputs": [
        {
          "output_type": "stream",
          "name": "stdout",
          "text": [
            "7/7 [==============================] - 0s 2ms/step\n",
            "7/7 [==============================] - 0s 2ms/step\n",
            "7/7 [==============================] - 0s 2ms/step\n",
            "7/7 [==============================] - 0s 2ms/step\n",
            "7/7 [==============================] - 0s 3ms/step\n",
            "7/7 [==============================] - 0s 3ms/step\n",
            "7/7 [==============================] - 0s 3ms/step\n",
            "7/7 [==============================] - 0s 3ms/step\n",
            "7/7 [==============================] - 0s 2ms/step\n",
            "7/7 [==============================] - 0s 2ms/step\n",
            "7/7 [==============================] - 0s 3ms/step\n",
            "7/7 [==============================] - 0s 3ms/step\n",
            "7/7 [==============================] - 0s 2ms/step\n",
            "7/7 [==============================] - 0s 4ms/step\n",
            "7/7 [==============================] - 0s 2ms/step\n",
            "7/7 [==============================] - 0s 2ms/step\n",
            "7/7 [==============================] - 0s 2ms/step\n",
            "7/7 [==============================] - 0s 2ms/step\n",
            "7/7 [==============================] - 0s 3ms/step\n",
            "7/7 [==============================] - 0s 2ms/step\n",
            "7/7 [==============================] - 0s 2ms/step\n",
            "7/7 [==============================] - 0s 2ms/step\n",
            "7/7 [==============================] - 0s 2ms/step\n",
            "7/7 [==============================] - 0s 2ms/step\n",
            "7/7 [==============================] - 0s 2ms/step\n",
            "7/7 [==============================] - 0s 2ms/step\n",
            "7/7 [==============================] - 0s 3ms/step\n",
            "7/7 [==============================] - 0s 3ms/step\n",
            "7/7 [==============================] - 0s 3ms/step\n",
            "7/7 [==============================] - 0s 3ms/step\n",
            "7/7 [==============================] - 0s 3ms/step\n",
            "7/7 [==============================] - 0s 2ms/step\n",
            "7/7 [==============================] - 0s 3ms/step\n",
            "7/7 [==============================] - 0s 3ms/step\n",
            "7/7 [==============================] - 0s 2ms/step\n",
            "7/7 [==============================] - 0s 2ms/step\n"
          ]
        }
      ]
    },
    {
      "cell_type": "code",
      "source": [
        "best_rmse_mean"
      ],
      "metadata": {
        "colab": {
          "base_uri": "https://localhost:8080/"
        },
        "id": "uRFJOmIIB1aW",
        "outputId": "d663a9fa-fbd0-4eb8-d018-df751168c18e"
      },
      "execution_count": null,
      "outputs": [
        {
          "output_type": "execute_result",
          "data": {
            "text/plain": [
              "19.512547795214296"
            ]
          },
          "metadata": {},
          "execution_count": 80
        }
      ]
    }
  ]
}