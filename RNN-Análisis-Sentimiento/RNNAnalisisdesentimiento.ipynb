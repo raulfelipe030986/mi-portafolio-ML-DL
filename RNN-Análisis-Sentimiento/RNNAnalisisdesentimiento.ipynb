{
 "cells": [
  {
   "cell_type": "markdown",
   "id": "6388d6a5",
   "metadata": {},
   "source": [
    "# Análisis de sentimiento con RNN (Redes neuronales recurrentes)"
   ]
  },
  {
   "cell_type": "code",
   "execution_count": 38,
   "id": "109c6649",
   "metadata": {
    "ExecuteTime": {
     "end_time": "2023-05-09T20:36:43.454821Z",
     "start_time": "2023-05-09T20:36:43.140111Z"
    }
   },
   "outputs": [],
   "source": [
    "import tensorflow as tf\n",
    "import tensorflow_datasets as tfds\n",
    "import numpy as np\n",
    "import pandas as pd\n",
    "\n",
    "from collections import Counter\n",
    "\n",
    "from tensorflow.keras import Sequential\n",
    "from tensorflow.keras.layers import Embedding\n",
    "from tensorflow.keras.layers import SimpleRNN\n",
    "from tensorflow.keras.layers import Dense\n",
    "\n",
    "import joblib  "
   ]
  },
  {
   "cell_type": "code",
   "execution_count": 6,
   "id": "06877f4a",
   "metadata": {
    "ExecuteTime": {
     "end_time": "2023-05-09T17:15:17.793719Z",
     "start_time": "2023-05-09T17:15:16.641816Z"
    }
   },
   "outputs": [],
   "source": [
    "df = pd.read_csv('movie_data_clean.csv', encoding='utf-8')"
   ]
  },
  {
   "cell_type": "code",
   "execution_count": 7,
   "id": "b0e5b383",
   "metadata": {
    "ExecuteTime": {
     "end_time": "2023-05-09T17:15:18.974188Z",
     "start_time": "2023-05-09T17:15:18.950731Z"
    }
   },
   "outputs": [
    {
     "data": {
      "text/html": [
       "<div>\n",
       "<style scoped>\n",
       "    .dataframe tbody tr th:only-of-type {\n",
       "        vertical-align: middle;\n",
       "    }\n",
       "\n",
       "    .dataframe tbody tr th {\n",
       "        vertical-align: top;\n",
       "    }\n",
       "\n",
       "    .dataframe thead th {\n",
       "        text-align: right;\n",
       "    }\n",
       "</style>\n",
       "<table border=\"1\" class=\"dataframe\">\n",
       "  <thead>\n",
       "    <tr style=\"text-align: right;\">\n",
       "      <th></th>\n",
       "      <th>review</th>\n",
       "      <th>sentiment</th>\n",
       "    </tr>\n",
       "  </thead>\n",
       "  <tbody>\n",
       "    <tr>\n",
       "      <th>0</th>\n",
       "      <td>in 1974 the teenager martha moxley maggie grac...</td>\n",
       "      <td>1</td>\n",
       "    </tr>\n",
       "    <tr>\n",
       "      <th>1</th>\n",
       "      <td>ok so i really like kris kristofferson and his...</td>\n",
       "      <td>0</td>\n",
       "    </tr>\n",
       "    <tr>\n",
       "      <th>2</th>\n",
       "      <td>spoiler do not read this if you think about w...</td>\n",
       "      <td>0</td>\n",
       "    </tr>\n",
       "    <tr>\n",
       "      <th>3</th>\n",
       "      <td>hi for all the people who have seen this wonde...</td>\n",
       "      <td>1</td>\n",
       "    </tr>\n",
       "    <tr>\n",
       "      <th>4</th>\n",
       "      <td>i recently bought the dvd forgetting just how ...</td>\n",
       "      <td>0</td>\n",
       "    </tr>\n",
       "  </tbody>\n",
       "</table>\n",
       "</div>"
      ],
      "text/plain": [
       "                                              review  sentiment\n",
       "0  in 1974 the teenager martha moxley maggie grac...          1\n",
       "1  ok so i really like kris kristofferson and his...          0\n",
       "2   spoiler do not read this if you think about w...          0\n",
       "3  hi for all the people who have seen this wonde...          1\n",
       "4  i recently bought the dvd forgetting just how ...          0"
      ]
     },
     "execution_count": 7,
     "metadata": {},
     "output_type": "execute_result"
    }
   ],
   "source": [
    "df.head()"
   ]
  },
  {
   "cell_type": "code",
   "execution_count": 8,
   "id": "96175dd9",
   "metadata": {
    "ExecuteTime": {
     "end_time": "2023-05-09T17:15:25.359665Z",
     "start_time": "2023-05-09T17:15:25.246356Z"
    }
   },
   "outputs": [],
   "source": [
    "## Step 1: create a dataset\n",
    "target = df.pop('sentiment')\n",
    "ds_raw = tf.data.Dataset.from_tensor_slices((df.values, target.values))"
   ]
  },
  {
   "cell_type": "code",
   "execution_count": 9,
   "id": "df3cea6b",
   "metadata": {
    "ExecuteTime": {
     "end_time": "2023-05-09T17:15:32.449156Z",
     "start_time": "2023-05-09T17:15:32.363755Z"
    }
   },
   "outputs": [
    {
     "name": "stdout",
     "output_type": "stream",
     "text": [
      "b'in 1974 the teenager martha moxley maggie grace mo' 1\n",
      "b'ok so i really like kris kristofferson and his usu' 0\n",
      "b' spoiler do not read this if you think about watch' 0\n"
     ]
    }
   ],
   "source": [
    "## inspection:\n",
    "for ex in ds_raw.take(3):\n",
    "    tf.print(ex[0].numpy()[0][ :50], ex[1])"
   ]
  },
  {
   "cell_type": "code",
   "execution_count": 11,
   "id": "95ddbd3c",
   "metadata": {
    "ExecuteTime": {
     "end_time": "2023-05-09T17:18:19.433978Z",
     "start_time": "2023-05-09T17:18:19.291910Z"
    }
   },
   "outputs": [],
   "source": [
    "tf.random.set_seed(1)\n",
    "ds_raw = ds_raw.shuffle(\n",
    "       50000, reshuffle_each_iteration=False)\n",
    "ds_raw_test = ds_raw.take(25000)\n",
    "ds_raw_train_valid = ds_raw.skip(25000)\n",
    "ds_raw_train = ds_raw_train_valid.take(20000)\n",
    "ds_raw_valid = ds_raw_train_valid.skip(20000)"
   ]
  },
  {
   "cell_type": "code",
   "execution_count": 14,
   "id": "6d944afa",
   "metadata": {
    "ExecuteTime": {
     "end_time": "2023-05-09T17:22:14.820983Z",
     "start_time": "2023-05-09T17:22:14.803465Z"
    }
   },
   "outputs": [],
   "source": [
    "## Step 2: find unique tokens (words)\n",
    "tokenizer = tfds.deprecated.text.Tokenizer()\n",
    "token_counts = Counter()"
   ]
  },
  {
   "cell_type": "code",
   "execution_count": 15,
   "id": "3b420760",
   "metadata": {
    "ExecuteTime": {
     "end_time": "2023-05-09T17:23:05.547333Z",
     "start_time": "2023-05-09T17:22:57.863965Z"
    }
   },
   "outputs": [],
   "source": [
    "for example in ds_raw_train:\n",
    "    tokens = tokenizer.tokenize(example[0].numpy()[0])\n",
    "    token_counts.update(tokens)"
   ]
  },
  {
   "cell_type": "code",
   "execution_count": 16,
   "id": "3ced2ad8",
   "metadata": {
    "ExecuteTime": {
     "end_time": "2023-05-09T17:23:49.147934Z",
     "start_time": "2023-05-09T17:23:49.130673Z"
    }
   },
   "outputs": [
    {
     "name": "stdout",
     "output_type": "stream",
     "text": [
      "Vocab-size: 70651\n"
     ]
    }
   ],
   "source": [
    "print('Vocab-size:', len(token_counts))"
   ]
  },
  {
   "cell_type": "code",
   "execution_count": 17,
   "id": "636b5060",
   "metadata": {
    "ExecuteTime": {
     "end_time": "2023-05-09T17:26:33.545486Z",
     "start_time": "2023-05-09T17:26:33.310354Z"
    }
   },
   "outputs": [
    {
     "name": "stdout",
     "output_type": "stream",
     "text": [
      "[70652, 9, 258, 1046]\n"
     ]
    }
   ],
   "source": [
    "## Step 3: encoding unique tokens to integers\n",
    "encoder = tfds.deprecated.text.TokenTextEncoder(token_counts)\n",
    "example_str = 'This is an example!'\n",
    "print(encoder.encode(example_str))"
   ]
  },
  {
   "cell_type": "code",
   "execution_count": 18,
   "id": "88f8174f",
   "metadata": {
    "ExecuteTime": {
     "end_time": "2023-05-09T17:37:23.532103Z",
     "start_time": "2023-05-09T17:37:23.508340Z"
    }
   },
   "outputs": [],
   "source": [
    "## Step 3-A: define the function for transformation\n",
    "\n",
    "def encode(text_tensor, label):\n",
    "    text = text_tensor.numpy()[0]\n",
    "    encoded_text = encoder.encode(text)\n",
    "    return encoded_text, label"
   ]
  },
  {
   "cell_type": "code",
   "execution_count": 19,
   "id": "c472f85e",
   "metadata": {
    "ExecuteTime": {
     "end_time": "2023-05-09T17:40:55.272839Z",
     "start_time": "2023-05-09T17:40:55.254273Z"
    }
   },
   "outputs": [],
   "source": [
    "## Step 3-B: wrap the encode function to a TF Op.\n",
    "\n",
    "def encode_map_fn(text, label):\n",
    "    return tf.py_function(encode, inp=[text, label], Tout=(tf.int64, tf.int64))"
   ]
  },
  {
   "cell_type": "code",
   "execution_count": 20,
   "id": "e5ac9ed0",
   "metadata": {
    "ExecuteTime": {
     "end_time": "2023-05-09T17:41:24.507158Z",
     "start_time": "2023-05-09T17:41:24.323917Z"
    }
   },
   "outputs": [],
   "source": [
    "ds_train = ds_raw_train.map(encode_map_fn)\n",
    "ds_valid = ds_raw_valid.map(encode_map_fn)\n",
    "ds_test = ds_raw_test.map(encode_map_fn)"
   ]
  },
  {
   "cell_type": "code",
   "execution_count": 23,
   "id": "6ac0a559",
   "metadata": {
    "ExecuteTime": {
     "end_time": "2023-05-09T17:43:20.167693Z",
     "start_time": "2023-05-09T17:43:19.399625Z"
    }
   },
   "outputs": [
    {
     "name": "stdout",
     "output_type": "stream",
     "text": [
      "Sequence length: (24,)\n",
      "Sequence length: (162,)\n",
      "Sequence length: (258,)\n",
      "Sequence length: (521,)\n",
      "Sequence length: (130,)\n"
     ]
    }
   ],
   "source": [
    "# look at the shape of some examples:\n",
    "\n",
    "tf.random.set_seed(1)\n",
    "\n",
    "for example in ds_train.shuffle(1000).take(5):\n",
    "    print('Sequence length:', example[0].shape)"
   ]
  },
  {
   "cell_type": "code",
   "execution_count": 24,
   "id": "e5157309",
   "metadata": {
    "ExecuteTime": {
     "end_time": "2023-05-09T17:48:44.008133Z",
     "start_time": "2023-05-09T17:48:43.862729Z"
    }
   },
   "outputs": [
    {
     "name": "stdout",
     "output_type": "stream",
     "text": [
      "Individual size: (119,)\n",
      "Individual size: (686,)\n",
      "Individual size: (308,)\n",
      "Individual size: (204,)\n",
      "Individual size: (318,)\n",
      "Individual size: (240,)\n",
      "Individual size: (127,)\n",
      "Individual size: (445,)\n"
     ]
    }
   ],
   "source": [
    "## Take a small subset\n",
    "ds_subset = ds_train.take(8)\n",
    "for example in ds_subset:\n",
    "    print('Individual size:', example[0].shape)"
   ]
  },
  {
   "cell_type": "code",
   "execution_count": 25,
   "id": "83b8795c",
   "metadata": {
    "ExecuteTime": {
     "end_time": "2023-05-09T17:49:31.123102Z",
     "start_time": "2023-05-09T17:49:31.080705Z"
    }
   },
   "outputs": [],
   "source": [
    "## Dividing the dataset into batches\n",
    "ds_batched = ds_subset.padded_batch(4, padded_shapes=([-1], []))"
   ]
  },
  {
   "cell_type": "code",
   "execution_count": 26,
   "id": "a0eee79c",
   "metadata": {
    "ExecuteTime": {
     "end_time": "2023-05-09T17:54:16.598278Z",
     "start_time": "2023-05-09T17:54:16.413668Z"
    }
   },
   "outputs": [
    {
     "name": "stdout",
     "output_type": "stream",
     "text": [
      "Batch dimension: (4, 686)\n",
      "Batch dimension: (4, 445)\n"
     ]
    }
   ],
   "source": [
    "for batch in ds_batched:\n",
    "    print('Batch dimension:', batch[0].shape)"
   ]
  },
  {
   "cell_type": "code",
   "execution_count": 27,
   "id": "961dbb88",
   "metadata": {
    "ExecuteTime": {
     "end_time": "2023-05-09T17:56:16.362701Z",
     "start_time": "2023-05-09T17:56:16.345302Z"
    }
   },
   "outputs": [],
   "source": [
    "train_data = ds_train.padded_batch(\n",
    "    32, padded_shapes=([-1],[]))\n",
    "test_data = ds_test.padded_batch(\n",
    "    32, padded_shapes=([-1],[]))\n",
    "valid_data = ds_valid.padded_batch(\n",
    "    32, padded_shapes=([-1],[]))"
   ]
  },
  {
   "cell_type": "code",
   "execution_count": 31,
   "id": "135c79d4",
   "metadata": {
    "ExecuteTime": {
     "end_time": "2023-05-09T18:13:16.110695Z",
     "start_time": "2023-05-09T18:13:16.058812Z"
    }
   },
   "outputs": [
    {
     "name": "stdout",
     "output_type": "stream",
     "text": [
      "Model: \"sequential_1\"\n",
      "_________________________________________________________________\n",
      " Layer (type)                Output Shape              Param #   \n",
      "=================================================================\n",
      " embed-layer (Embedding)     (None, 20, 6)             600       \n",
      "                                                                 \n",
      "=================================================================\n",
      "Total params: 600\n",
      "Trainable params: 600\n",
      "Non-trainable params: 0\n",
      "_________________________________________________________________\n"
     ]
    }
   ],
   "source": [
    "## Example of Embedding layer\n",
    "model = tf.keras.Sequential()\n",
    "\n",
    "model.add(tf.keras.layers.Embedding(input_dim=100,\n",
    "    output_dim=6,\n",
    "    input_length=20,\n",
    "    name ='embed-layer'))\n",
    "          \n",
    "model.summary()"
   ]
  },
  {
   "cell_type": "code",
   "execution_count": 34,
   "id": "4cc152f2",
   "metadata": {
    "ExecuteTime": {
     "end_time": "2023-05-09T18:22:26.664537Z",
     "start_time": "2023-05-09T18:22:25.041566Z"
    }
   },
   "outputs": [],
   "source": [
    "embedding_dim = 20\n",
    "vocab_size = len(token_counts) + 2\n",
    "tf.random.set_seed(1)\n",
    "\n",
    "## build the model\n",
    "bi_lstm_model = tf.keras.Sequential([\n",
    "    tf.keras.layers.Embedding(\n",
    "    input_dim=vocab_size,\n",
    "    output_dim=embedding_dim,\n",
    "    name='embed-layer'),\n",
    "\n",
    "    tf.keras.layers.Bidirectional(\n",
    "    tf.keras.layers.LSTM(64, name='lstm-layer'),\n",
    "    name='bidir-lstm'),\n",
    "    \n",
    "    tf.keras.layers.Dropout(.5, seed = 123),\n",
    "\n",
    "    tf.keras.layers.Dense(64, activation='relu'),\n",
    "    \n",
    "     tf.keras.layers.Dense(1, activation='sigmoid')\n",
    "    ])"
   ]
  },
  {
   "cell_type": "code",
   "execution_count": 35,
   "id": "8d280560",
   "metadata": {
    "ExecuteTime": {
     "end_time": "2023-05-09T18:22:49.244297Z",
     "start_time": "2023-05-09T18:22:49.212381Z"
    }
   },
   "outputs": [
    {
     "name": "stdout",
     "output_type": "stream",
     "text": [
      "Model: \"sequential_2\"\n",
      "_________________________________________________________________\n",
      " Layer (type)                Output Shape              Param #   \n",
      "=================================================================\n",
      " embed-layer (Embedding)     (None, None, 20)          1413060   \n",
      "                                                                 \n",
      " bidir-lstm (Bidirectional)  (None, 128)               43520     \n",
      "                                                                 \n",
      " dense (Dense)               (None, 64)                8256      \n",
      "                                                                 \n",
      " dense_1 (Dense)             (None, 1)                 65        \n",
      "                                                                 \n",
      "=================================================================\n",
      "Total params: 1,464,901\n",
      "Trainable params: 1,464,901\n",
      "Non-trainable params: 0\n",
      "_________________________________________________________________\n"
     ]
    }
   ],
   "source": [
    "bi_lstm_model.summary()"
   ]
  },
  {
   "cell_type": "code",
   "execution_count": 36,
   "id": "40ad3e11",
   "metadata": {
    "ExecuteTime": {
     "end_time": "2023-05-09T18:23:54.644105Z",
     "start_time": "2023-05-09T18:23:54.603239Z"
    }
   },
   "outputs": [],
   "source": [
    "## compile and train:\n",
    "bi_lstm_model.compile(\n",
    "    optimizer=tf.keras.optimizers.Adam(1e-3),\n",
    "    loss=tf.keras.losses.BinaryCrossentropy(from_logits=False),\n",
    "    metrics=['accuracy'])"
   ]
  },
  {
   "cell_type": "code",
   "execution_count": 37,
   "id": "71d61537",
   "metadata": {
    "ExecuteTime": {
     "end_time": "2023-05-09T20:35:31.966431Z",
     "start_time": "2023-05-09T18:24:16.895446Z"
    },
    "scrolled": true
   },
   "outputs": [
    {
     "name": "stdout",
     "output_type": "stream",
     "text": [
      "Epoch 1/10\n",
      "625/625 [==============================] - 624s 991ms/step - loss: 0.5524 - accuracy: 0.7098 - val_loss: 0.4650 - val_accuracy: 0.7946\n",
      "Epoch 2/10\n",
      "625/625 [==============================] - 638s 1s/step - loss: 0.3745 - accuracy: 0.8392 - val_loss: 0.3986 - val_accuracy: 0.8318\n",
      "Epoch 3/10\n",
      "625/625 [==============================] - 612s 979ms/step - loss: 0.1997 - accuracy: 0.9298 - val_loss: 0.4175 - val_accuracy: 0.8370\n",
      "Epoch 4/10\n",
      "625/625 [==============================] - 2188s 4s/step - loss: 0.1554 - accuracy: 0.9441 - val_loss: 0.5078 - val_accuracy: 0.8424\n",
      "Epoch 5/10\n",
      "625/625 [==============================] - 680s 1s/step - loss: 0.0895 - accuracy: 0.9714 - val_loss: 0.4933 - val_accuracy: 0.8340\n",
      "Epoch 6/10\n",
      "625/625 [==============================] - 639s 1s/step - loss: 0.0957 - accuracy: 0.9664 - val_loss: 0.6366 - val_accuracy: 0.8380\n",
      "Epoch 7/10\n",
      "625/625 [==============================] - 600s 959ms/step - loss: 0.0517 - accuracy: 0.9843 - val_loss: 0.6676 - val_accuracy: 0.8360\n",
      "Epoch 8/10\n",
      "625/625 [==============================] - 602s 963ms/step - loss: 0.0350 - accuracy: 0.9893 - val_loss: 0.8098 - val_accuracy: 0.7534\n",
      "Epoch 9/10\n",
      "625/625 [==============================] - 620s 992ms/step - loss: 0.0380 - accuracy: 0.9868 - val_loss: 0.6686 - val_accuracy: 0.8322\n",
      "Epoch 10/10\n",
      "625/625 [==============================] - 673s 1s/step - loss: 0.0318 - accuracy: 0.9889 - val_loss: 0.8008 - val_accuracy: 0.8302\n"
     ]
    }
   ],
   "source": [
    "history = bi_lstm_model.fit(train_data,\n",
    "    validation_data=valid_data,\n",
    "    epochs=10)"
   ]
  },
  {
   "cell_type": "code",
   "execution_count": 39,
   "id": "e1e31995",
   "metadata": {
    "ExecuteTime": {
     "end_time": "2023-05-09T20:38:21.686399Z",
     "start_time": "2023-05-09T20:37:11.358669Z"
    }
   },
   "outputs": [
    {
     "name": "stderr",
     "output_type": "stream",
     "text": [
      "WARNING:absl:Function `_wrapped_model` contains input name(s) embed-layer_input with unsupported characters which will be renamed to embed_layer_input in the SavedModel.\n",
      "WARNING:absl:Found untraced functions such as lstm_cell_1_layer_call_fn, lstm_cell_1_layer_call_and_return_conditional_losses, lstm_cell_2_layer_call_fn, lstm_cell_2_layer_call_and_return_conditional_losses while saving (showing 4 of 4). These functions will not be directly callable after loading.\n"
     ]
    },
    {
     "name": "stdout",
     "output_type": "stream",
     "text": [
      "INFO:tensorflow:Assets written to: ram://23ab8223-172a-4526-94f8-f8754dedf1c8/assets\n"
     ]
    },
    {
     "name": "stderr",
     "output_type": "stream",
     "text": [
      "INFO:tensorflow:Assets written to: ram://23ab8223-172a-4526-94f8-f8754dedf1c8/assets\n"
     ]
    },
    {
     "data": {
      "text/plain": [
       "['modelo_entrenado_1.pkl']"
      ]
     },
     "execution_count": 39,
     "metadata": {},
     "output_type": "execute_result"
    }
   ],
   "source": [
    "joblib.dump(bi_lstm_model, 'modelo_entrenado_1.pkl') # Guardo el modelo."
   ]
  },
  {
   "cell_type": "code",
   "execution_count": 40,
   "id": "5f3d1d9f",
   "metadata": {
    "ExecuteTime": {
     "end_time": "2023-05-09T20:42:25.520053Z",
     "start_time": "2023-05-09T20:39:02.817141Z"
    }
   },
   "outputs": [
    {
     "name": "stdout",
     "output_type": "stream",
     "text": [
      "782/782 [==============================] - 203s 259ms/step - loss: 0.7735 - accuracy: 0.8286\n",
      "Test Acc.: 82.86%\n"
     ]
    }
   ],
   "source": [
    "## evaluate on the test data\n",
    "test_results = bi_lstm_model.evaluate(test_data)\n",
    "print('Test Acc.: {:.2f}%'.format(test_results[1]*100))"
   ]
  }
 ],
 "metadata": {
  "kernelspec": {
   "display_name": "Python 3 (ipykernel)",
   "language": "python",
   "name": "python3"
  },
  "language_info": {
   "codemirror_mode": {
    "name": "ipython",
    "version": 3
   },
   "file_extension": ".py",
   "mimetype": "text/x-python",
   "name": "python",
   "nbconvert_exporter": "python",
   "pygments_lexer": "ipython3",
   "version": "3.9.12"
  },
  "toc": {
   "base_numbering": 1,
   "nav_menu": {},
   "number_sections": true,
   "sideBar": true,
   "skip_h1_title": false,
   "title_cell": "Table of Contents",
   "title_sidebar": "Contents",
   "toc_cell": false,
   "toc_position": {},
   "toc_section_display": true,
   "toc_window_display": false
  }
 },
 "nbformat": 4,
 "nbformat_minor": 5
}
