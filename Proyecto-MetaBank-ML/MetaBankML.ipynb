{
 "cells": [
  {
   "cell_type": "markdown",
   "id": "d43645de",
   "metadata": {},
   "source": [
    "# Descripción del Proyecto\n",
    "\n",
    "Los clientes de Beta Bank se están yendo, cada mes, poco a poco. Los banqueros descubrieron que es más barato salvar a los clientes existentes que atraer nuevos.\n",
    "\n",
    "Necesitamos predecir si un cliente dejará el banco pronto. Tú tienes los datos sobre el comportamiento pasado de los clientes y la terminación de contratos con el banco.\n",
    "Crea un modelo con el máximo valor F1 posible. Para aprobar la revisión, necesitas un valor F1 de al menos 0.59. Verifica F1 para el conjunto de prueba.\n",
    "\n",
    "Además, debes medir la métrica AUC-ROC y compararla con el valor F1."
   ]
  },
  {
   "cell_type": "markdown",
   "id": "ad3d8fff",
   "metadata": {},
   "source": [
    "## Descripción de los datos \n",
    "\n",
    "### Características \n",
    "\n",
    "* `RowNumber`: índice de cadena de datos\n",
    "\n",
    "* `CustomerId`: identificador de cliente único\n",
    "\n",
    "* `Surname`: apellido\n",
    "\n",
    "* `CreditScore`: valor de crédito\n",
    "\n",
    "* `Geography`: país de residencia\n",
    "\n",
    "* `Gender`: sexo\n",
    "\n",
    "* `Age`: edad\n",
    "\n",
    "* `Tenure`: período durante el cual ha madurado el depósito a plazo fijo de un cliente (años)\n",
    "\n",
    "* `Balance`: saldo de la cuenta\n",
    "\n",
    "* `NumOfProducts`: número de productos bancarios utilizados por el cliente\n",
    "\n",
    "* `HasCrCard`: el cliente tiene una tarjeta de crédito (1 - sí; 0 - no)\n",
    "\n",
    "* `IsActiveMember`: actividad del cliente (1 - sí; 0 - no)\n",
    "\n",
    "* `EstimatedSalary`: salario estimado\n",
    "\n",
    "### Objetivo\n",
    "\n",
    "* `Exited`: El cliente se ha ido (1 - sí; 0 - no)"
   ]
  },
  {
   "cell_type": "code",
   "execution_count": 1,
   "id": "753062ae",
   "metadata": {},
   "outputs": [],
   "source": [
    "import pandas as pd\n",
    "import numpy as np\n",
    "import matplotlib.pyplot as plt\n",
    "from sklearn.model_selection import train_test_split\n",
    "from sklearn.preprocessing import StandardScaler\n",
    "from sklearn.linear_model import LogisticRegression\n",
    "from sklearn.tree import DecisionTreeClassifier\n",
    "from sklearn.ensemble import RandomForestClassifier\n",
    "from sklearn.metrics import accuracy_score, recall_score, precision_score, f1_score\n",
    "from sklearn.metrics import precision_recall_curve\n",
    "from sklearn.metrics import roc_curve\n",
    "from sklearn.metrics import roc_auc_score\n",
    "from sklearn.utils import shuffle"
   ]
  },
  {
   "cell_type": "code",
   "execution_count": 2,
   "id": "ed9e4b3e",
   "metadata": {
    "scrolled": false
   },
   "outputs": [
    {
     "data": {
      "text/html": [
       "<div>\n",
       "<style scoped>\n",
       "    .dataframe tbody tr th:only-of-type {\n",
       "        vertical-align: middle;\n",
       "    }\n",
       "\n",
       "    .dataframe tbody tr th {\n",
       "        vertical-align: top;\n",
       "    }\n",
       "\n",
       "    .dataframe thead th {\n",
       "        text-align: right;\n",
       "    }\n",
       "</style>\n",
       "<table border=\"1\" class=\"dataframe\">\n",
       "  <thead>\n",
       "    <tr style=\"text-align: right;\">\n",
       "      <th></th>\n",
       "      <th>RowNumber</th>\n",
       "      <th>CustomerId</th>\n",
       "      <th>Surname</th>\n",
       "      <th>CreditScore</th>\n",
       "      <th>Geography</th>\n",
       "      <th>Gender</th>\n",
       "      <th>Age</th>\n",
       "      <th>Tenure</th>\n",
       "      <th>Balance</th>\n",
       "      <th>NumOfProducts</th>\n",
       "      <th>HasCrCard</th>\n",
       "      <th>IsActiveMember</th>\n",
       "      <th>EstimatedSalary</th>\n",
       "      <th>Exited</th>\n",
       "    </tr>\n",
       "  </thead>\n",
       "  <tbody>\n",
       "    <tr>\n",
       "      <th>0</th>\n",
       "      <td>1</td>\n",
       "      <td>15634602</td>\n",
       "      <td>Hargrave</td>\n",
       "      <td>619</td>\n",
       "      <td>France</td>\n",
       "      <td>Female</td>\n",
       "      <td>42</td>\n",
       "      <td>2.0</td>\n",
       "      <td>0.00</td>\n",
       "      <td>1</td>\n",
       "      <td>1</td>\n",
       "      <td>1</td>\n",
       "      <td>101348.88</td>\n",
       "      <td>1</td>\n",
       "    </tr>\n",
       "    <tr>\n",
       "      <th>1</th>\n",
       "      <td>2</td>\n",
       "      <td>15647311</td>\n",
       "      <td>Hill</td>\n",
       "      <td>608</td>\n",
       "      <td>Spain</td>\n",
       "      <td>Female</td>\n",
       "      <td>41</td>\n",
       "      <td>1.0</td>\n",
       "      <td>83807.86</td>\n",
       "      <td>1</td>\n",
       "      <td>0</td>\n",
       "      <td>1</td>\n",
       "      <td>112542.58</td>\n",
       "      <td>0</td>\n",
       "    </tr>\n",
       "    <tr>\n",
       "      <th>2</th>\n",
       "      <td>3</td>\n",
       "      <td>15619304</td>\n",
       "      <td>Onio</td>\n",
       "      <td>502</td>\n",
       "      <td>France</td>\n",
       "      <td>Female</td>\n",
       "      <td>42</td>\n",
       "      <td>8.0</td>\n",
       "      <td>159660.80</td>\n",
       "      <td>3</td>\n",
       "      <td>1</td>\n",
       "      <td>0</td>\n",
       "      <td>113931.57</td>\n",
       "      <td>1</td>\n",
       "    </tr>\n",
       "    <tr>\n",
       "      <th>3</th>\n",
       "      <td>4</td>\n",
       "      <td>15701354</td>\n",
       "      <td>Boni</td>\n",
       "      <td>699</td>\n",
       "      <td>France</td>\n",
       "      <td>Female</td>\n",
       "      <td>39</td>\n",
       "      <td>1.0</td>\n",
       "      <td>0.00</td>\n",
       "      <td>2</td>\n",
       "      <td>0</td>\n",
       "      <td>0</td>\n",
       "      <td>93826.63</td>\n",
       "      <td>0</td>\n",
       "    </tr>\n",
       "    <tr>\n",
       "      <th>4</th>\n",
       "      <td>5</td>\n",
       "      <td>15737888</td>\n",
       "      <td>Mitchell</td>\n",
       "      <td>850</td>\n",
       "      <td>Spain</td>\n",
       "      <td>Female</td>\n",
       "      <td>43</td>\n",
       "      <td>2.0</td>\n",
       "      <td>125510.82</td>\n",
       "      <td>1</td>\n",
       "      <td>1</td>\n",
       "      <td>1</td>\n",
       "      <td>79084.10</td>\n",
       "      <td>0</td>\n",
       "    </tr>\n",
       "  </tbody>\n",
       "</table>\n",
       "</div>"
      ],
      "text/plain": [
       "   RowNumber  CustomerId   Surname  CreditScore Geography  Gender  Age  \\\n",
       "0          1    15634602  Hargrave          619    France  Female   42   \n",
       "1          2    15647311      Hill          608     Spain  Female   41   \n",
       "2          3    15619304      Onio          502    France  Female   42   \n",
       "3          4    15701354      Boni          699    France  Female   39   \n",
       "4          5    15737888  Mitchell          850     Spain  Female   43   \n",
       "\n",
       "   Tenure    Balance  NumOfProducts  HasCrCard  IsActiveMember  \\\n",
       "0     2.0       0.00              1          1               1   \n",
       "1     1.0   83807.86              1          0               1   \n",
       "2     8.0  159660.80              3          1               0   \n",
       "3     1.0       0.00              2          0               0   \n",
       "4     2.0  125510.82              1          1               1   \n",
       "\n",
       "   EstimatedSalary  Exited  \n",
       "0        101348.88       1  \n",
       "1        112542.58       0  \n",
       "2        113931.57       1  \n",
       "3         93826.63       0  \n",
       "4         79084.10       0  "
      ]
     },
     "execution_count": 2,
     "metadata": {},
     "output_type": "execute_result"
    }
   ],
   "source": [
    "data = pd.read_csv('/datasets/Churn.csv')\n",
    "data.head()"
   ]
  },
  {
   "cell_type": "code",
   "execution_count": 3,
   "id": "1208eb3d",
   "metadata": {},
   "outputs": [],
   "source": [
    "data.columns = data.columns.str.lower()"
   ]
  },
  {
   "cell_type": "code",
   "execution_count": 4,
   "id": "9a3403e2",
   "metadata": {},
   "outputs": [
    {
     "name": "stdout",
     "output_type": "stream",
     "text": [
      "<class 'pandas.core.frame.DataFrame'>\n",
      "RangeIndex: 10000 entries, 0 to 9999\n",
      "Data columns (total 14 columns):\n",
      " #   Column           Non-Null Count  Dtype  \n",
      "---  ------           --------------  -----  \n",
      " 0   rownumber        10000 non-null  int64  \n",
      " 1   customerid       10000 non-null  int64  \n",
      " 2   surname          10000 non-null  object \n",
      " 3   creditscore      10000 non-null  int64  \n",
      " 4   geography        10000 non-null  object \n",
      " 5   gender           10000 non-null  object \n",
      " 6   age              10000 non-null  int64  \n",
      " 7   tenure           9091 non-null   float64\n",
      " 8   balance          10000 non-null  float64\n",
      " 9   numofproducts    10000 non-null  int64  \n",
      " 10  hascrcard        10000 non-null  int64  \n",
      " 11  isactivemember   10000 non-null  int64  \n",
      " 12  estimatedsalary  10000 non-null  float64\n",
      " 13  exited           10000 non-null  int64  \n",
      "dtypes: float64(3), int64(8), object(3)\n",
      "memory usage: 1.1+ MB\n"
     ]
    }
   ],
   "source": [
    "data.info()"
   ]
  },
  {
   "cell_type": "markdown",
   "id": "31978557",
   "metadata": {},
   "source": [
    "Observamos que la columna `tenure` tiene 909 datos faltantes. Esta es una de las características importantes para predecir la variable objetivo. Debemos decidir como manejar estos datos faltantes.\n",
    "\n",
    "Con respecto a los tipos de datos no parece haber problemas!!!"
   ]
  },
  {
   "cell_type": "markdown",
   "id": "960aae63",
   "metadata": {},
   "source": [
    "# Preparando las características\n",
    "\n",
    "### Datos faltantes en la columna `tenure`"
   ]
  },
  {
   "cell_type": "code",
   "execution_count": 5,
   "id": "4d321b71",
   "metadata": {},
   "outputs": [],
   "source": [
    "data_filtered = data[~(data['tenure'].isna())]"
   ]
  },
  {
   "cell_type": "code",
   "execution_count": 6,
   "id": "f5e4ae7d",
   "metadata": {
    "scrolled": false
   },
   "outputs": [
    {
     "data": {
      "text/html": [
       "<div>\n",
       "<style scoped>\n",
       "    .dataframe tbody tr th:only-of-type {\n",
       "        vertical-align: middle;\n",
       "    }\n",
       "\n",
       "    .dataframe tbody tr th {\n",
       "        vertical-align: top;\n",
       "    }\n",
       "\n",
       "    .dataframe thead th {\n",
       "        text-align: right;\n",
       "    }\n",
       "</style>\n",
       "<table border=\"1\" class=\"dataframe\">\n",
       "  <thead>\n",
       "    <tr style=\"text-align: right;\">\n",
       "      <th></th>\n",
       "      <th>rownumber</th>\n",
       "      <th>customerid</th>\n",
       "      <th>creditscore</th>\n",
       "      <th>age</th>\n",
       "      <th>tenure</th>\n",
       "      <th>balance</th>\n",
       "      <th>numofproducts</th>\n",
       "      <th>hascrcard</th>\n",
       "      <th>isactivemember</th>\n",
       "      <th>estimatedsalary</th>\n",
       "      <th>exited</th>\n",
       "    </tr>\n",
       "  </thead>\n",
       "  <tbody>\n",
       "    <tr>\n",
       "      <th>rownumber</th>\n",
       "      <td>1.000000</td>\n",
       "      <td>0.004289</td>\n",
       "      <td>0.002330</td>\n",
       "      <td>0.000681</td>\n",
       "      <td>-0.007322</td>\n",
       "      <td>-0.005921</td>\n",
       "      <td>0.009078</td>\n",
       "      <td>0.001248</td>\n",
       "      <td>0.009536</td>\n",
       "      <td>-0.004854</td>\n",
       "      <td>-0.014562</td>\n",
       "    </tr>\n",
       "    <tr>\n",
       "      <th>customerid</th>\n",
       "      <td>0.004289</td>\n",
       "      <td>1.000000</td>\n",
       "      <td>-0.001610</td>\n",
       "      <td>0.010379</td>\n",
       "      <td>-0.021418</td>\n",
       "      <td>-0.007445</td>\n",
       "      <td>0.014604</td>\n",
       "      <td>-0.019891</td>\n",
       "      <td>0.001499</td>\n",
       "      <td>0.010029</td>\n",
       "      <td>-0.007040</td>\n",
       "    </tr>\n",
       "    <tr>\n",
       "      <th>creditscore</th>\n",
       "      <td>0.002330</td>\n",
       "      <td>-0.001610</td>\n",
       "      <td>1.000000</td>\n",
       "      <td>-0.004504</td>\n",
       "      <td>-0.000062</td>\n",
       "      <td>0.002804</td>\n",
       "      <td>0.011090</td>\n",
       "      <td>-0.003937</td>\n",
       "      <td>0.030947</td>\n",
       "      <td>0.005182</td>\n",
       "      <td>-0.023950</td>\n",
       "    </tr>\n",
       "    <tr>\n",
       "      <th>age</th>\n",
       "      <td>0.000681</td>\n",
       "      <td>0.010379</td>\n",
       "      <td>-0.004504</td>\n",
       "      <td>1.000000</td>\n",
       "      <td>-0.013134</td>\n",
       "      <td>0.031481</td>\n",
       "      <td>-0.031877</td>\n",
       "      <td>-0.014129</td>\n",
       "      <td>0.082269</td>\n",
       "      <td>-0.007037</td>\n",
       "      <td>0.283017</td>\n",
       "    </tr>\n",
       "    <tr>\n",
       "      <th>tenure</th>\n",
       "      <td>-0.007322</td>\n",
       "      <td>-0.021418</td>\n",
       "      <td>-0.000062</td>\n",
       "      <td>-0.013134</td>\n",
       "      <td>1.000000</td>\n",
       "      <td>-0.007911</td>\n",
       "      <td>0.011979</td>\n",
       "      <td>0.027232</td>\n",
       "      <td>-0.032178</td>\n",
       "      <td>0.010520</td>\n",
       "      <td>-0.016761</td>\n",
       "    </tr>\n",
       "    <tr>\n",
       "      <th>balance</th>\n",
       "      <td>-0.005921</td>\n",
       "      <td>-0.007445</td>\n",
       "      <td>0.002804</td>\n",
       "      <td>0.031481</td>\n",
       "      <td>-0.007911</td>\n",
       "      <td>1.000000</td>\n",
       "      <td>-0.301858</td>\n",
       "      <td>-0.019055</td>\n",
       "      <td>-0.003285</td>\n",
       "      <td>0.014351</td>\n",
       "      <td>0.117218</td>\n",
       "    </tr>\n",
       "    <tr>\n",
       "      <th>numofproducts</th>\n",
       "      <td>0.009078</td>\n",
       "      <td>0.014604</td>\n",
       "      <td>0.011090</td>\n",
       "      <td>-0.031877</td>\n",
       "      <td>0.011979</td>\n",
       "      <td>-0.301858</td>\n",
       "      <td>1.000000</td>\n",
       "      <td>0.005805</td>\n",
       "      <td>0.009084</td>\n",
       "      <td>0.013990</td>\n",
       "      <td>-0.050271</td>\n",
       "    </tr>\n",
       "    <tr>\n",
       "      <th>hascrcard</th>\n",
       "      <td>0.001248</td>\n",
       "      <td>-0.019891</td>\n",
       "      <td>-0.003937</td>\n",
       "      <td>-0.014129</td>\n",
       "      <td>0.027232</td>\n",
       "      <td>-0.019055</td>\n",
       "      <td>0.005805</td>\n",
       "      <td>1.000000</td>\n",
       "      <td>-0.008810</td>\n",
       "      <td>-0.006136</td>\n",
       "      <td>-0.005411</td>\n",
       "    </tr>\n",
       "    <tr>\n",
       "      <th>isactivemember</th>\n",
       "      <td>0.009536</td>\n",
       "      <td>0.001499</td>\n",
       "      <td>0.030947</td>\n",
       "      <td>0.082269</td>\n",
       "      <td>-0.032178</td>\n",
       "      <td>-0.003285</td>\n",
       "      <td>0.009084</td>\n",
       "      <td>-0.008810</td>\n",
       "      <td>1.000000</td>\n",
       "      <td>-0.020049</td>\n",
       "      <td>-0.155062</td>\n",
       "    </tr>\n",
       "    <tr>\n",
       "      <th>estimatedsalary</th>\n",
       "      <td>-0.004854</td>\n",
       "      <td>0.010029</td>\n",
       "      <td>0.005182</td>\n",
       "      <td>-0.007037</td>\n",
       "      <td>0.010520</td>\n",
       "      <td>0.014351</td>\n",
       "      <td>0.013990</td>\n",
       "      <td>-0.006136</td>\n",
       "      <td>-0.020049</td>\n",
       "      <td>1.000000</td>\n",
       "      <td>0.016029</td>\n",
       "    </tr>\n",
       "    <tr>\n",
       "      <th>exited</th>\n",
       "      <td>-0.014562</td>\n",
       "      <td>-0.007040</td>\n",
       "      <td>-0.023950</td>\n",
       "      <td>0.283017</td>\n",
       "      <td>-0.016761</td>\n",
       "      <td>0.117218</td>\n",
       "      <td>-0.050271</td>\n",
       "      <td>-0.005411</td>\n",
       "      <td>-0.155062</td>\n",
       "      <td>0.016029</td>\n",
       "      <td>1.000000</td>\n",
       "    </tr>\n",
       "  </tbody>\n",
       "</table>\n",
       "</div>"
      ],
      "text/plain": [
       "                 rownumber  customerid  creditscore       age    tenure  \\\n",
       "rownumber         1.000000    0.004289     0.002330  0.000681 -0.007322   \n",
       "customerid        0.004289    1.000000    -0.001610  0.010379 -0.021418   \n",
       "creditscore       0.002330   -0.001610     1.000000 -0.004504 -0.000062   \n",
       "age               0.000681    0.010379    -0.004504  1.000000 -0.013134   \n",
       "tenure           -0.007322   -0.021418    -0.000062 -0.013134  1.000000   \n",
       "balance          -0.005921   -0.007445     0.002804  0.031481 -0.007911   \n",
       "numofproducts     0.009078    0.014604     0.011090 -0.031877  0.011979   \n",
       "hascrcard         0.001248   -0.019891    -0.003937 -0.014129  0.027232   \n",
       "isactivemember    0.009536    0.001499     0.030947  0.082269 -0.032178   \n",
       "estimatedsalary  -0.004854    0.010029     0.005182 -0.007037  0.010520   \n",
       "exited           -0.014562   -0.007040    -0.023950  0.283017 -0.016761   \n",
       "\n",
       "                  balance  numofproducts  hascrcard  isactivemember  \\\n",
       "rownumber       -0.005921       0.009078   0.001248        0.009536   \n",
       "customerid      -0.007445       0.014604  -0.019891        0.001499   \n",
       "creditscore      0.002804       0.011090  -0.003937        0.030947   \n",
       "age              0.031481      -0.031877  -0.014129        0.082269   \n",
       "tenure          -0.007911       0.011979   0.027232       -0.032178   \n",
       "balance          1.000000      -0.301858  -0.019055       -0.003285   \n",
       "numofproducts   -0.301858       1.000000   0.005805        0.009084   \n",
       "hascrcard       -0.019055       0.005805   1.000000       -0.008810   \n",
       "isactivemember  -0.003285       0.009084  -0.008810        1.000000   \n",
       "estimatedsalary  0.014351       0.013990  -0.006136       -0.020049   \n",
       "exited           0.117218      -0.050271  -0.005411       -0.155062   \n",
       "\n",
       "                 estimatedsalary    exited  \n",
       "rownumber              -0.004854 -0.014562  \n",
       "customerid              0.010029 -0.007040  \n",
       "creditscore             0.005182 -0.023950  \n",
       "age                    -0.007037  0.283017  \n",
       "tenure                  0.010520 -0.016761  \n",
       "balance                 0.014351  0.117218  \n",
       "numofproducts           0.013990 -0.050271  \n",
       "hascrcard              -0.006136 -0.005411  \n",
       "isactivemember         -0.020049 -0.155062  \n",
       "estimatedsalary         1.000000  0.016029  \n",
       "exited                  0.016029  1.000000  "
      ]
     },
     "execution_count": 6,
     "metadata": {},
     "output_type": "execute_result"
    }
   ],
   "source": [
    "data_filtered.corr()"
   ]
  },
  {
   "cell_type": "markdown",
   "id": "226a8b3f",
   "metadata": {},
   "source": [
    "Si buscamos el coeficiente de correlación, vemos que la variable `tenure` tiene muy poca correlación con las otras variables cuantitativas. En ese sentido, no encontramos entre estas una relación que explique el comportamiento de la variable `tenure`. "
   ]
  },
  {
   "cell_type": "code",
   "execution_count": 7,
   "id": "07bfb74d",
   "metadata": {},
   "outputs": [
    {
     "data": {
      "text/plain": [
       "array([ 2.,  1.,  8.,  7.,  4.,  6.,  3., 10.,  5.,  9.,  0.])"
      ]
     },
     "execution_count": 7,
     "metadata": {},
     "output_type": "execute_result"
    }
   ],
   "source": [
    "data_filtered['tenure'].unique()"
   ]
  },
  {
   "cell_type": "code",
   "execution_count": 8,
   "id": "f3acec75",
   "metadata": {},
   "outputs": [
    {
     "data": {
      "image/png": "[encoded data removed]",
      "text/plain": [
       "<Figure size 432x288 with 1 Axes>"
      ]
     },
     "metadata": {
      "needs_background": "light"
     },
     "output_type": "display_data"
    }
   ],
   "source": [
    "data_filtered['tenure'].hist(bins = 25)\n",
    "plt.show()"
   ]
  },
  {
   "cell_type": "markdown",
   "id": "6d38fa44",
   "metadata": {},
   "source": [
    "La variable `tenure` toma solo valores enteros entre 0 y 10 años. Los datos se dividen en 10 grupos bien definidos casi todas con la misma frecuencia de ocurrencia, salvo los grupos extremos que son menos frecuentes."
   ]
  },
  {
   "cell_type": "code",
   "execution_count": 9,
   "id": "de01b392",
   "metadata": {},
   "outputs": [
    {
     "data": {
      "text/plain": [
       "Male      0.547135\n",
       "Female    0.452865\n",
       "Name: gender, dtype: float64"
      ]
     },
     "execution_count": 9,
     "metadata": {},
     "output_type": "execute_result"
    }
   ],
   "source": [
    "data_filtered['gender'].value_counts(normalize = True)"
   ]
  },
  {
   "cell_type": "code",
   "execution_count": 10,
   "id": "01c84c29",
   "metadata": {},
   "outputs": [
    {
     "data": {
      "image/png": "[encoded data removed]",
      "text/plain": [
       "<Figure size 432x288 with 1 Axes>"
      ]
     },
     "metadata": {
      "needs_background": "light"
     },
     "output_type": "display_data"
    }
   ],
   "source": [
    "data_filtered.pivot_table(index = 'gender', values = 'tenure', aggfunc = ['mean', 'median']).plot(kind = 'bar')\n",
    "plt.ylabel('Tenure')\n",
    "plt.legend(['mean', 'median'])\n",
    "plt.show()"
   ]
  },
  {
   "cell_type": "markdown",
   "id": "09144cb1",
   "metadata": {},
   "source": [
    "Ambos grupos tienen valores muy similares de `media` y `mediana`."
   ]
  },
  {
   "cell_type": "code",
   "execution_count": 11,
   "id": "f773655b",
   "metadata": {},
   "outputs": [
    {
     "data": {
      "image/png": "[encoded data removed]",
      "text/plain": [
       "<Figure size 432x288 with 1 Axes>"
      ]
     },
     "metadata": {
      "needs_background": "light"
     },
     "output_type": "display_data"
    }
   ],
   "source": [
    "data_filtered[data_filtered['gender'] == 'Male']['tenure'].plot(kind = 'hist', bins = 25, density = True)\n",
    "data_filtered[data_filtered['gender'] == 'Female']['tenure'].plot(kind = 'hist', bins = 25, density = True)\n",
    "plt.legend(labels = ['Hombres', 'Mujeres'])\n",
    "plt.xlabel('valores de Tenure')\n",
    "plt.title('Distribución de la variable ternure en hombres y mujeres')\n",
    "plt.show()"
   ]
  },
  {
   "cell_type": "markdown",
   "id": "771f8fd1",
   "metadata": {},
   "source": [
    "La distribución de la variable `tenure` es idéntica en ambos grupos."
   ]
  },
  {
   "cell_type": "code",
   "execution_count": 12,
   "id": "566928fc",
   "metadata": {},
   "outputs": [
    {
     "data": {
      "image/png": "[encoded data removed]",
      "text/plain": [
       "<Figure size 432x288 with 1 Axes>"
      ]
     },
     "metadata": {
      "needs_background": "light"
     },
     "output_type": "display_data"
    }
   ],
   "source": [
    "data_filtered.pivot_table(index = 'geography', values = 'tenure', aggfunc = ['mean', 'median']).plot(kind = 'bar', legend = False)\n",
    "plt.ylabel('Tenure')\n",
    "plt.legend(['mean', 'median'])\n",
    "plt.show()"
   ]
  },
  {
   "cell_type": "code",
   "execution_count": 13,
   "id": "f6134f41",
   "metadata": {},
   "outputs": [
    {
     "data": {
      "image/png": "[encoded data removed]",
      "text/plain": [
       "<Figure size 432x288 with 1 Axes>"
      ]
     },
     "metadata": {
      "needs_background": "light"
     },
     "output_type": "display_data"
    }
   ],
   "source": [
    "geography = data_filtered['geography'].unique()\n",
    "for g in geography:\n",
    "    data_filtered[data_filtered['geography'] == g]['tenure'].plot(kind = 'hist', bins = 25, density = True)\n",
    "    plt.legend(labels = geography)"
   ]
  },
  {
   "cell_type": "markdown",
   "id": "b153a204",
   "metadata": {},
   "source": [
    "La distribución de la variable `tenure` es identica en los tres paises. "
   ]
  },
  {
   "cell_type": "markdown",
   "id": "84b8584e",
   "metadata": {},
   "source": [
    "**Conclusión:** No encontramos una relación clara entre la variable `tenure` y las otras variables del dataset, que pueda explicarnos los valores faltantes. En ese sentido, solo podemos proponer algunas hipótesis de por qué estos valores faltan. Una de ellas es que aquellos valores faltantes estan relacionado con usuarios que no tienen años de `tenure`. \n",
    "\n",
    "Dada la importancia que tiene esta variable proponemos no imputar estos valores con algún estimador, sino darle una valor que los ponga en una categoría diferente, podemos darle el valor -1. La idea de hacer esto viene de que la variable aunque tiene un tipo numérico se comporta como una variable categórica ordinal. En ese sentido, le estamos dando menos peso a los registros que no tienen valores en la variable `tenure`."
   ]
  },
  {
   "cell_type": "code",
   "execution_count": 14,
   "id": "089dac27",
   "metadata": {},
   "outputs": [
    {
     "data": {
      "text/plain": [
       "array([ 2.,  1.,  8.,  7.,  4.,  6.,  3., 10.,  5.,  9.,  0., -1.])"
      ]
     },
     "execution_count": 14,
     "metadata": {},
     "output_type": "execute_result"
    }
   ],
   "source": [
    "data['tenure'] = data['tenure'].fillna(-1)\n",
    "data['tenure'].unique()"
   ]
  },
  {
   "cell_type": "code",
   "execution_count": 15,
   "id": "40098652",
   "metadata": {},
   "outputs": [
    {
     "data": {
      "text/plain": [
       "0"
      ]
     },
     "execution_count": 15,
     "metadata": {},
     "output_type": "execute_result"
    }
   ],
   "source": [
    "data['tenure'].isna().sum()"
   ]
  },
  {
   "cell_type": "markdown",
   "id": "015393b1",
   "metadata": {},
   "source": [
    "Hemos eliminado los valores ausentes en la columna `tenure`."
   ]
  },
  {
   "cell_type": "markdown",
   "id": "24b1f16c",
   "metadata": {},
   "source": [
    "## Preparando las características para modelar.\n",
    "\n",
    "En esta sección utilizaremos la codificación `One-Hot` para las variables categóricas. "
   ]
  },
  {
   "cell_type": "code",
   "execution_count": 16,
   "id": "279e70af",
   "metadata": {},
   "outputs": [
    {
     "data": {
      "text/plain": [
       "(10000, 15)"
      ]
     },
     "execution_count": 16,
     "metadata": {},
     "output_type": "execute_result"
    }
   ],
   "source": [
    "data_ohe = pd.get_dummies(data, columns = ['gender', 'geography'], drop_first = True)\n",
    "data_ohe.shape"
   ]
  },
  {
   "cell_type": "code",
   "execution_count": 17,
   "id": "28d82852",
   "metadata": {},
   "outputs": [
    {
     "data": {
      "text/html": [
       "<div>\n",
       "<style scoped>\n",
       "    .dataframe tbody tr th:only-of-type {\n",
       "        vertical-align: middle;\n",
       "    }\n",
       "\n",
       "    .dataframe tbody tr th {\n",
       "        vertical-align: top;\n",
       "    }\n",
       "\n",
       "    .dataframe thead th {\n",
       "        text-align: right;\n",
       "    }\n",
       "</style>\n",
       "<table border=\"1\" class=\"dataframe\">\n",
       "  <thead>\n",
       "    <tr style=\"text-align: right;\">\n",
       "      <th></th>\n",
       "      <th>rownumber</th>\n",
       "      <th>customerid</th>\n",
       "      <th>surname</th>\n",
       "      <th>creditscore</th>\n",
       "      <th>age</th>\n",
       "      <th>tenure</th>\n",
       "      <th>balance</th>\n",
       "      <th>numofproducts</th>\n",
       "      <th>hascrcard</th>\n",
       "      <th>isactivemember</th>\n",
       "      <th>estimatedsalary</th>\n",
       "      <th>exited</th>\n",
       "      <th>gender_Male</th>\n",
       "      <th>geography_Germany</th>\n",
       "      <th>geography_Spain</th>\n",
       "    </tr>\n",
       "  </thead>\n",
       "  <tbody>\n",
       "    <tr>\n",
       "      <th>0</th>\n",
       "      <td>1</td>\n",
       "      <td>15634602</td>\n",
       "      <td>Hargrave</td>\n",
       "      <td>619</td>\n",
       "      <td>42</td>\n",
       "      <td>2.0</td>\n",
       "      <td>0.00</td>\n",
       "      <td>1</td>\n",
       "      <td>1</td>\n",
       "      <td>1</td>\n",
       "      <td>101348.88</td>\n",
       "      <td>1</td>\n",
       "      <td>0</td>\n",
       "      <td>0</td>\n",
       "      <td>0</td>\n",
       "    </tr>\n",
       "    <tr>\n",
       "      <th>1</th>\n",
       "      <td>2</td>\n",
       "      <td>15647311</td>\n",
       "      <td>Hill</td>\n",
       "      <td>608</td>\n",
       "      <td>41</td>\n",
       "      <td>1.0</td>\n",
       "      <td>83807.86</td>\n",
       "      <td>1</td>\n",
       "      <td>0</td>\n",
       "      <td>1</td>\n",
       "      <td>112542.58</td>\n",
       "      <td>0</td>\n",
       "      <td>0</td>\n",
       "      <td>0</td>\n",
       "      <td>1</td>\n",
       "    </tr>\n",
       "    <tr>\n",
       "      <th>2</th>\n",
       "      <td>3</td>\n",
       "      <td>15619304</td>\n",
       "      <td>Onio</td>\n",
       "      <td>502</td>\n",
       "      <td>42</td>\n",
       "      <td>8.0</td>\n",
       "      <td>159660.80</td>\n",
       "      <td>3</td>\n",
       "      <td>1</td>\n",
       "      <td>0</td>\n",
       "      <td>113931.57</td>\n",
       "      <td>1</td>\n",
       "      <td>0</td>\n",
       "      <td>0</td>\n",
       "      <td>0</td>\n",
       "    </tr>\n",
       "    <tr>\n",
       "      <th>3</th>\n",
       "      <td>4</td>\n",
       "      <td>15701354</td>\n",
       "      <td>Boni</td>\n",
       "      <td>699</td>\n",
       "      <td>39</td>\n",
       "      <td>1.0</td>\n",
       "      <td>0.00</td>\n",
       "      <td>2</td>\n",
       "      <td>0</td>\n",
       "      <td>0</td>\n",
       "      <td>93826.63</td>\n",
       "      <td>0</td>\n",
       "      <td>0</td>\n",
       "      <td>0</td>\n",
       "      <td>0</td>\n",
       "    </tr>\n",
       "    <tr>\n",
       "      <th>4</th>\n",
       "      <td>5</td>\n",
       "      <td>15737888</td>\n",
       "      <td>Mitchell</td>\n",
       "      <td>850</td>\n",
       "      <td>43</td>\n",
       "      <td>2.0</td>\n",
       "      <td>125510.82</td>\n",
       "      <td>1</td>\n",
       "      <td>1</td>\n",
       "      <td>1</td>\n",
       "      <td>79084.10</td>\n",
       "      <td>0</td>\n",
       "      <td>0</td>\n",
       "      <td>0</td>\n",
       "      <td>1</td>\n",
       "    </tr>\n",
       "  </tbody>\n",
       "</table>\n",
       "</div>"
      ],
      "text/plain": [
       "   rownumber  customerid   surname  creditscore  age  tenure    balance  \\\n",
       "0          1    15634602  Hargrave          619   42     2.0       0.00   \n",
       "1          2    15647311      Hill          608   41     1.0   83807.86   \n",
       "2          3    15619304      Onio          502   42     8.0  159660.80   \n",
       "3          4    15701354      Boni          699   39     1.0       0.00   \n",
       "4          5    15737888  Mitchell          850   43     2.0  125510.82   \n",
       "\n",
       "   numofproducts  hascrcard  isactivemember  estimatedsalary  exited  \\\n",
       "0              1          1               1        101348.88       1   \n",
       "1              1          0               1        112542.58       0   \n",
       "2              3          1               0        113931.57       1   \n",
       "3              2          0               0         93826.63       0   \n",
       "4              1          1               1         79084.10       0   \n",
       "\n",
       "   gender_Male  geography_Germany  geography_Spain  \n",
       "0            0                  0                0  \n",
       "1            0                  0                1  \n",
       "2            0                  0                0  \n",
       "3            0                  0                0  \n",
       "4            0                  0                1  "
      ]
     },
     "execution_count": 17,
     "metadata": {},
     "output_type": "execute_result"
    }
   ],
   "source": [
    "data_ohe.head()"
   ]
  },
  {
   "cell_type": "markdown",
   "id": "0bc08d31",
   "metadata": {},
   "source": [
    "Hemos utilizado la codificación `One-Hot` para las variables categóricas `gender` y `geography`."
   ]
  },
  {
   "cell_type": "code",
   "execution_count": 18,
   "id": "fb6c0e55",
   "metadata": {},
   "outputs": [],
   "source": [
    "features = data_ohe.drop(['rownumber', 'customerid', 'surname', 'exited'], axis = 1)\n",
    "target = data_ohe['exited']"
   ]
  },
  {
   "cell_type": "markdown",
   "id": "221c91e7",
   "metadata": {},
   "source": [
    "Vamos a creas los conjuntos de `entrenamiento`, `validación` y `prueba` en una proporción `3:1:1`."
   ]
  },
  {
   "cell_type": "code",
   "execution_count": 19,
   "id": "7ec7ff06",
   "metadata": {},
   "outputs": [],
   "source": [
    "features_train, features_vt, target_train, target_vt = train_test_split(features, target, test_size = 0.4, random_state = 12345)\n",
    "features_valid, features_test, target_valid, target_test = train_test_split(features_vt, target_vt, test_size = 0.5, random_state = 12345)"
   ]
  },
  {
   "cell_type": "markdown",
   "id": "60ecf7b0",
   "metadata": {},
   "source": [
    "Hemos construidos los conjunto de `entrenamiento`,`validez` y `prueba`. "
   ]
  },
  {
   "cell_type": "code",
   "execution_count": 20,
   "id": "f72bbca6",
   "metadata": {},
   "outputs": [
    {
     "data": {
      "text/plain": [
       "StandardScaler()"
      ]
     },
     "execution_count": 20,
     "metadata": {},
     "output_type": "execute_result"
    }
   ],
   "source": [
    "numeric_var = ['creditscore', 'balance', 'estimatedsalary']\n",
    "scaler = StandardScaler()\n",
    "scaler.fit(features_train[numeric_var])"
   ]
  },
  {
   "cell_type": "code",
   "execution_count": 21,
   "id": "0a30af61",
   "metadata": {},
   "outputs": [],
   "source": [
    "features_train[numeric_var] = scaler.transform(features_train[numeric_var])\n",
    "features_valid[numeric_var] = scaler.transform(features_valid[numeric_var])\n",
    "features_test[numeric_var] = scaler.transform(features_test[numeric_var])"
   ]
  },
  {
   "cell_type": "markdown",
   "id": "9a0f5895",
   "metadata": {},
   "source": [
    "Hemos codificado y escalado las variables correspondientes."
   ]
  },
  {
   "cell_type": "markdown",
   "id": "b68a38a8",
   "metadata": {},
   "source": [
    "# Explorando varias opciones de modelos de clasificación. \n",
    "\n",
    "En este sesión, vamos a explorar el desequilibrio de las clases y vamos a entrenar diferentes modelos sin considerar el desequilibrio de clases."
   ]
  },
  {
   "cell_type": "code",
   "execution_count": 22,
   "id": "c4326c61",
   "metadata": {},
   "outputs": [
    {
     "data": {
      "text/plain": [
       "0    0.800667\n",
       "1    0.199333\n",
       "Name: exited, dtype: float64"
      ]
     },
     "execution_count": 22,
     "metadata": {},
     "output_type": "execute_result"
    }
   ],
   "source": [
    "target_train.value_counts(normalize = True)"
   ]
  },
  {
   "cell_type": "markdown",
   "id": "44558146",
   "metadata": {},
   "source": [
    "Se observa un marcado desequilibrio de clases. La clase positiva es mucho menos frecuente."
   ]
  },
  {
   "cell_type": "markdown",
   "id": "c6c689e4",
   "metadata": {},
   "source": [
    "### Modelo logístico de clasificación"
   ]
  },
  {
   "cell_type": "code",
   "execution_count": 23,
   "id": "d42ec2ca",
   "metadata": {},
   "outputs": [
    {
     "data": {
      "text/plain": [
       "LogisticRegression(random_state=12345, solver='liblinear')"
      ]
     },
     "execution_count": 23,
     "metadata": {},
     "output_type": "execute_result"
    }
   ],
   "source": [
    "model_log = LogisticRegression(random_state = 12345, solver = 'liblinear')\n",
    "model_log.fit(features_train, target_train)"
   ]
  },
  {
   "cell_type": "code",
   "execution_count": 24,
   "id": "ea3d001e",
   "metadata": {},
   "outputs": [
    {
     "name": "stdout",
     "output_type": "stream",
     "text": [
      "La exactitud del modelo para los datos de entrenamiento es 0.8191666666666667\n"
     ]
    }
   ],
   "source": [
    "predictions_train = model_log.predict(features_train)\n",
    "accu_train = accuracy_score(target_train, predictions_train)\n",
    "print(f'La exactitud del modelo para los datos de entrenamiento es {accu_train}')"
   ]
  },
  {
   "cell_type": "code",
   "execution_count": 26,
   "id": "f17e9f36",
   "metadata": {},
   "outputs": [
    {
     "name": "stdout",
     "output_type": "stream",
     "text": [
      "La exactitud del modelo para los datos de validación es 0.802\n"
     ]
    }
   ],
   "source": [
    "predictions_valid = model_log.predict(features_valid)\n",
    "accu_valid = accuracy_score(target_valid, predictions_valid)\n",
    "print(f'La exactitud del modelo para los datos de validación es {accu_valid}')"
   ]
  },
  {
   "cell_type": "markdown",
   "id": "4e01fa76",
   "metadata": {},
   "source": [
    "Observamos un ligero sobreajuste del modelo y una exactitud para los datos de validación de poco más del 80%."
   ]
  },
  {
   "cell_type": "code",
   "execution_count": 27,
   "id": "e431b10b",
   "metadata": {},
   "outputs": [
    {
     "name": "stdout",
     "output_type": "stream",
     "text": [
      "El recall del modelo para los datos de validación es 0.23205741626794257\n"
     ]
    }
   ],
   "source": [
    "recall_valid = recall_score(target_valid, predictions_valid)\n",
    "print(f'El recall del modelo para los datos de validación es {recall_valid}')"
   ]
  },
  {
   "cell_type": "code",
   "execution_count": 28,
   "id": "8a2d315b",
   "metadata": {},
   "outputs": [
    {
     "name": "stdout",
     "output_type": "stream",
     "text": [
      "La precisión del modelo para los datos de validación es 0.563953488372093\n"
     ]
    }
   ],
   "source": [
    "precision_valid = precision_score(target_valid, predictions_valid)\n",
    "print(f'La precisión del modelo para los datos de validación es {precision_valid}')"
   ]
  },
  {
   "cell_type": "code",
   "execution_count": 29,
   "id": "ef5aca41",
   "metadata": {},
   "outputs": [
    {
     "name": "stdout",
     "output_type": "stream",
     "text": [
      "El f1 del modelo para los datos de validación es 0.3288135593220339\n"
     ]
    }
   ],
   "source": [
    "f1_valid = f1_score(target_valid, predictions_valid)\n",
    "print(f'El f1 del modelo para los datos de validación es {f1_valid}')"
   ]
  },
  {
   "cell_type": "markdown",
   "id": "6506fa8f",
   "metadata": {},
   "source": [
    "El modelo muestra ser más que preciso que eficiente para encontrar las respuestas verdaderas positivas. En otras palabras el modelo solo va encontrar al `23%` porciento de los clientes que se van, pero será preciso en más del `50%` cuando marque a un cliente positivo a la salida. Observamos un `F1` de 0.33."
   ]
  },
  {
   "cell_type": "markdown",
   "id": "36e6375c",
   "metadata": {},
   "source": [
    "### Modelo de árbol de decisión"
   ]
  },
  {
   "cell_type": "code",
   "execution_count": 30,
   "id": "c1b8a56e",
   "metadata": {},
   "outputs": [
    {
     "name": "stdout",
     "output_type": "stream",
     "text": [
      "La precisión optima del modelo se obtiene a una profundida de 6, siendo 0.858\n"
     ]
    }
   ],
   "source": [
    "model_tree = None\n",
    "good_depth = 0\n",
    "accu = 0\n",
    "\n",
    "for depth in range(1,11):\n",
    "    model = DecisionTreeClassifier(random_state = 12345, max_depth = depth)\n",
    "    model.fit(features_train, target_train)\n",
    "    predictions = model.predict(features_valid)\n",
    "    accu_temp = accuracy_score(target_valid, predictions)\n",
    "    if accu_temp > accu:\n",
    "        accu = accu_temp\n",
    "        good_depth = depth\n",
    "        model_tree = model\n",
    "print(f'La precisión optima del modelo se obtiene a una profundida de {good_depth}, siendo {accu}')"
   ]
  },
  {
   "cell_type": "code",
   "execution_count": 31,
   "id": "dfd20f70",
   "metadata": {},
   "outputs": [
    {
     "name": "stdout",
     "output_type": "stream",
     "text": [
      "La exactitud del modelo para los datos de validación es 0.858\n"
     ]
    }
   ],
   "source": [
    "predictions_valid = model_tree.predict(features_valid)\n",
    "accu_valid = accuracy_score(target_valid, predictions_valid)\n",
    "print(f'La exactitud del modelo para los datos de validación es {accu_valid}')"
   ]
  },
  {
   "cell_type": "code",
   "execution_count": 32,
   "id": "979e4233",
   "metadata": {},
   "outputs": [
    {
     "name": "stdout",
     "output_type": "stream",
     "text": [
      "El recall del modelo para los datos de validación es 0.44976076555023925\n"
     ]
    }
   ],
   "source": [
    "recall_valid = recall_score(target_valid, predictions_valid)\n",
    "print(f'El recall del modelo para los datos de validación es {recall_valid}')"
   ]
  },
  {
   "cell_type": "code",
   "execution_count": 33,
   "id": "ab5e01e1",
   "metadata": {},
   "outputs": [
    {
     "name": "stdout",
     "output_type": "stream",
     "text": [
      "La precisión del modelo para los datos de validación es 0.7768595041322314\n"
     ]
    }
   ],
   "source": [
    "precision_valid = precision_score(target_valid, predictions_valid)\n",
    "print(f'La precisión del modelo para los datos de validación es {precision_valid}')"
   ]
  },
  {
   "cell_type": "code",
   "execution_count": 34,
   "id": "be0c327e",
   "metadata": {},
   "outputs": [
    {
     "name": "stdout",
     "output_type": "stream",
     "text": [
      "El f1 del modelo para los datos de validación es 0.5696969696969697\n"
     ]
    }
   ],
   "source": [
    "f1_valid = f1_score(target_valid, predictions_valid)\n",
    "print(f'El f1 del modelo para los datos de validación es {f1_valid}')"
   ]
  },
  {
   "cell_type": "markdown",
   "id": "5b0e992d",
   "metadata": {},
   "source": [
    "El `árbol de decisión` entrenado mejora en mucho todas las métricas del modelo de `regresión logística`, tiene mejor `recall`, `precisión` y `F1`."
   ]
  },
  {
   "cell_type": "markdown",
   "id": "87488734",
   "metadata": {},
   "source": [
    "### Modelo de bosque aleatorio"
   ]
  },
  {
   "cell_type": "code",
   "execution_count": 35,
   "id": "ac022cb5",
   "metadata": {},
   "outputs": [
    {
     "name": "stdout",
     "output_type": "stream",
     "text": [
      "El modelo más exacto tiene profundidad 8, cantidad de árboles 20 y exactitud 0.865\n"
     ]
    }
   ],
   "source": [
    "model_forest = None\n",
    "good_depth = 0\n",
    "good_estimators = 0\n",
    "accu = 0\n",
    "for n in range(10,50,10):\n",
    "    for depth in range(1,11):\n",
    "        model = RandomForestClassifier(random_state = 12345, max_depth = depth, n_estimators = n)\n",
    "        model.fit(features_train, target_train)\n",
    "        predictions = model.predict(features_valid)\n",
    "        accu_temp = accuracy_score(target_valid, predictions)\n",
    "        if accu_temp > accu:\n",
    "            accu = accu_temp\n",
    "            good_depth = depth\n",
    "            model_forest = model\n",
    "            good_estimators = n\n",
    "print(f'El modelo más exacto tiene profundidad {good_depth}, cantidad de árboles {good_estimators} y exactitud {accu}')"
   ]
  },
  {
   "cell_type": "code",
   "execution_count": 36,
   "id": "7ebbacb3",
   "metadata": {},
   "outputs": [
    {
     "name": "stdout",
     "output_type": "stream",
     "text": [
      "La exactitud del modelo para los datos de validación es 0.865\n"
     ]
    }
   ],
   "source": [
    "predictions_valid = model_forest.predict(features_valid)\n",
    "accu_valid = accuracy_score(target_valid, predictions_valid)\n",
    "print(f'La exactitud del modelo para los datos de validación es {accu_valid}')"
   ]
  },
  {
   "cell_type": "code",
   "execution_count": 37,
   "id": "f5930d2a",
   "metadata": {},
   "outputs": [
    {
     "name": "stdout",
     "output_type": "stream",
     "text": [
      "El recall del modelo para los datos de validación es 0.43779904306220097\n"
     ]
    }
   ],
   "source": [
    "recall_valid = recall_score(target_valid, predictions_valid)\n",
    "print(f'El recall del modelo para los datos de validación es {recall_valid}')"
   ]
  },
  {
   "cell_type": "code",
   "execution_count": 38,
   "id": "c8678a9c",
   "metadata": {},
   "outputs": [
    {
     "name": "stdout",
     "output_type": "stream",
     "text": [
      "La precisión del modelo para los datos de validación es 0.8394495412844036\n"
     ]
    }
   ],
   "source": [
    "precision_valid = precision_score(target_valid, predictions_valid)\n",
    "print(f'La precisión del modelo para los datos de validación es {precision_valid}')"
   ]
  },
  {
   "cell_type": "code",
   "execution_count": 39,
   "id": "7bb987c5",
   "metadata": {},
   "outputs": [
    {
     "name": "stdout",
     "output_type": "stream",
     "text": [
      "El f1 del modelo para los datos de validación es 0.5754716981132075\n"
     ]
    }
   ],
   "source": [
    "f1_valid = f1_score(target_valid, predictions_valid)\n",
    "print(f'El f1 del modelo para los datos de validación es {f1_valid}')"
   ]
  },
  {
   "cell_type": "markdown",
   "id": "481b9bfe",
   "metadata": {},
   "source": [
    "El modelo de `bosque aleatorio` con los hiperparámetros `n_estimators = 20` y `max_depth = 8` encontrado mejora todas las métricas de los dos anteriores. "
   ]
  },
  {
   "cell_type": "markdown",
   "id": "75c9442c",
   "metadata": {},
   "source": [
    "### Prueba de cordura"
   ]
  },
  {
   "cell_type": "code",
   "execution_count": 40,
   "id": "2650b3eb",
   "metadata": {},
   "outputs": [
    {
     "data": {
      "text/plain": [
       "0.839"
      ]
     },
     "execution_count": 40,
     "metadata": {},
     "output_type": "execute_result"
    }
   ],
   "source": [
    "predictions_test = model_forest.predict(features_test)\n",
    "accuracy_score(target_test, predictions_test)"
   ]
  },
  {
   "cell_type": "code",
   "execution_count": 41,
   "id": "ab16e7e0",
   "metadata": {},
   "outputs": [
    {
     "data": {
      "text/plain": [
       "0.7885"
      ]
     },
     "execution_count": 41,
     "metadata": {},
     "output_type": "execute_result"
    }
   ],
   "source": [
    "predictions_const = pd.Series(data = 0, index = target_test.index)\n",
    "accuracy_score(target_test, predictions_const)"
   ]
  },
  {
   "cell_type": "markdown",
   "id": "280ab4df",
   "metadata": {},
   "source": [
    "El modelo pasa la prueba de cordura: la exactitud de los datos de prueba es más alta que la del modelo constante."
   ]
  },
  {
   "cell_type": "markdown",
   "id": "7d49538f",
   "metadata": {},
   "source": [
    "## Estrategias para manejar el desequilibrio de clases. \n",
    "\n",
    "Trataremos de mejorar las métricas del modelo aplicando técnicas para manejar el desequilibrio de clases. "
   ]
  },
  {
   "cell_type": "markdown",
   "id": "ca8da171",
   "metadata": {},
   "source": [
    "### Ajuste de peso de clase"
   ]
  },
  {
   "cell_type": "code",
   "execution_count": 43,
   "id": "27aa4584",
   "metadata": {},
   "outputs": [
    {
     "data": {
      "text/plain": [
       "RandomForestClassifier(class_weight='balanced', max_depth=8, n_estimators=20,\n",
       "                       random_state=12345)"
      ]
     },
     "execution_count": 43,
     "metadata": {},
     "output_type": "execute_result"
    }
   ],
   "source": [
    "model_forest_balanced = RandomForestClassifier(random_state = 12345, max_depth = 8, n_estimators = 20, class_weight = 'balanced')\n",
    "model_forest_balanced.fit(features_train, target_train)"
   ]
  },
  {
   "cell_type": "code",
   "execution_count": 44,
   "id": "e002647b",
   "metadata": {},
   "outputs": [
    {
     "data": {
      "text/plain": [
       "0.8165"
      ]
     },
     "execution_count": 44,
     "metadata": {},
     "output_type": "execute_result"
    }
   ],
   "source": [
    "predictions_test = model_forest_balanced.predict(features_test)\n",
    "accuracy_score(target_test, predictions_test)"
   ]
  },
  {
   "cell_type": "code",
   "execution_count": 45,
   "id": "7b1cb53e",
   "metadata": {},
   "outputs": [
    {
     "data": {
      "text/plain": [
       "0.839"
      ]
     },
     "execution_count": 45,
     "metadata": {},
     "output_type": "execute_result"
    }
   ],
   "source": [
    "predictions_test = model_forest.predict(features_test)\n",
    "accuracy_score(target_test, predictions_test)"
   ]
  },
  {
   "cell_type": "markdown",
   "id": "70473763",
   "metadata": {},
   "source": [
    "El modelo de `bosque aleatorio` con peso de clase balanceado no mejora la métrica de exactitud."
   ]
  },
  {
   "cell_type": "code",
   "execution_count": 46,
   "id": "61958205",
   "metadata": {},
   "outputs": [],
   "source": [
    "model_log_balanced = LogisticRegression(random_state = 12345, solver = 'liblinear', class_weight = 'balanced')"
   ]
  },
  {
   "cell_type": "code",
   "execution_count": 47,
   "id": "f0cf8e81",
   "metadata": {},
   "outputs": [
    {
     "data": {
      "text/plain": [
       "LogisticRegression(class_weight='balanced', random_state=12345,\n",
       "                   solver='liblinear')"
      ]
     },
     "execution_count": 47,
     "metadata": {},
     "output_type": "execute_result"
    }
   ],
   "source": [
    "model_log_balanced.fit(features_train, target_train)"
   ]
  },
  {
   "cell_type": "code",
   "execution_count": 49,
   "id": "f4401a7e",
   "metadata": {},
   "outputs": [
    {
     "data": {
      "text/plain": [
       "0.698"
      ]
     },
     "execution_count": 49,
     "metadata": {},
     "output_type": "execute_result"
    }
   ],
   "source": [
    "predictions_test = model_log_balanced.predict(features_test)\n",
    "accuracy_score(target_test, predictions_test)"
   ]
  },
  {
   "cell_type": "code",
   "execution_count": 50,
   "id": "6bbf4f3b",
   "metadata": {},
   "outputs": [
    {
     "data": {
      "text/plain": [
       "0.793"
      ]
     },
     "execution_count": 50,
     "metadata": {},
     "output_type": "execute_result"
    }
   ],
   "source": [
    "predictions_test = model_log.predict(features_test)\n",
    "accuracy_score(target_test, predictions_test)"
   ]
  },
  {
   "cell_type": "markdown",
   "id": "4c9fe504",
   "metadata": {},
   "source": [
    "La estrategia de ajuste de peso de clase no ha sido efectiva para mejorar la métrica del modelo. "
   ]
  },
  {
   "cell_type": "markdown",
   "id": "0d160dbe",
   "metadata": {},
   "source": [
    "### Sobremuestreo"
   ]
  },
  {
   "cell_type": "code",
   "execution_count": 51,
   "id": "22d328b1",
   "metadata": {},
   "outputs": [],
   "source": [
    "def upsample(features, target, repeat):\n",
    "    features_zeros = features[target == 0]\n",
    "    features_ones = features[target == 1]\n",
    "    target_zeros = target[target == 0]\n",
    "    target_ones = target[target == 1]\n",
    "\n",
    "    features_upsampled = pd.concat([features_zeros] + [features_ones] * repeat)\n",
    "    target_upsampled = pd.concat([target_zeros] + [target_ones] * repeat)\n",
    "\n",
    "    features_upsampled, target_upsampled = shuffle(\n",
    "        features_upsampled, target_upsampled, random_state=12345\n",
    "    )\n",
    "\n",
    "    return features_upsampled, target_upsampled"
   ]
  },
  {
   "cell_type": "markdown",
   "id": "29f1f109",
   "metadata": {},
   "source": [
    "Hemos creado una función que repite un número dado de veces la cantidad de respuestas raras y despúes las baraja aleatoriamente."
   ]
  },
  {
   "cell_type": "code",
   "execution_count": 52,
   "id": "19c16692",
   "metadata": {},
   "outputs": [],
   "source": [
    "features_upsampled, target_upsampled = upsample(features_train, target_train, 10)"
   ]
  },
  {
   "cell_type": "code",
   "execution_count": 53,
   "id": "e84381cb",
   "metadata": {},
   "outputs": [
    {
     "data": {
      "text/plain": [
       "RandomForestClassifier(max_depth=8, n_estimators=20, random_state=12345)"
      ]
     },
     "execution_count": 53,
     "metadata": {},
     "output_type": "execute_result"
    }
   ],
   "source": [
    "model_forest = RandomForestClassifier(random_state = 12345, max_depth = 8, n_estimators = 20)\n",
    "model_forest.fit(features_upsampled, target_upsampled)"
   ]
  },
  {
   "cell_type": "code",
   "execution_count": 54,
   "id": "85893c06",
   "metadata": {},
   "outputs": [
    {
     "data": {
      "text/plain": [
       "0.672"
      ]
     },
     "execution_count": 54,
     "metadata": {},
     "output_type": "execute_result"
    }
   ],
   "source": [
    "predictions_test = model_forest.predict(features_test)\n",
    "accuracy_score(target_test, predictions_test)"
   ]
  },
  {
   "cell_type": "markdown",
   "id": "2cd576f3",
   "metadata": {},
   "source": [
    "La técnica de sobremuestro no mejora la métrica de exactitud!!"
   ]
  },
  {
   "cell_type": "markdown",
   "id": "aac139c6",
   "metadata": {},
   "source": [
    "### Submuestreo"
   ]
  },
  {
   "cell_type": "code",
   "execution_count": 55,
   "id": "ad213260",
   "metadata": {},
   "outputs": [],
   "source": [
    "def downsample(features, target, fraction):\n",
    "    features_zeros = features[target == 0]\n",
    "    features_ones = features[target == 1]\n",
    "    target_zeros = target[target == 0]\n",
    "    target_ones = target[target == 1]\n",
    "\n",
    "    features_downsampled = pd.concat(\n",
    "        [features_zeros.sample(frac=fraction, random_state=12345)]\n",
    "        + [features_ones]\n",
    "    )\n",
    "    target_downsampled = pd.concat(\n",
    "        [target_zeros.sample(frac=fraction, random_state=12345)]\n",
    "        + [target_ones]\n",
    "    )\n",
    "\n",
    "    features_downsampled, target_downsampled = shuffle(\n",
    "        features_downsampled, target_downsampled, random_state=12345\n",
    "    )\n",
    "\n",
    "    return features_downsampled, target_downsampled"
   ]
  },
  {
   "cell_type": "code",
   "execution_count": 56,
   "id": "553019ef",
   "metadata": {},
   "outputs": [],
   "source": [
    "features_downsampled, target_downsampled = downsample(features_train, target_train, 0.1)"
   ]
  },
  {
   "cell_type": "code",
   "execution_count": 62,
   "id": "0c4da78e",
   "metadata": {},
   "outputs": [
    {
     "data": {
      "text/plain": [
       "RandomForestClassifier(max_depth=8, n_estimators=20, random_state=12345)"
      ]
     },
     "execution_count": 62,
     "metadata": {},
     "output_type": "execute_result"
    }
   ],
   "source": [
    "model_forest = RandomForestClassifier(random_state = 12345, max_depth = 8, n_estimators = 20)\n",
    "model_forest.fit(features_downsampled, target_downsampled)"
   ]
  },
  {
   "cell_type": "code",
   "execution_count": 63,
   "id": "5ba071d2",
   "metadata": {},
   "outputs": [
    {
     "data": {
      "text/plain": [
       "0.5545"
      ]
     },
     "execution_count": 63,
     "metadata": {},
     "output_type": "execute_result"
    }
   ],
   "source": [
    "predictions_test = model_forest.predict(features_test)\n",
    "accuracy_score(target_test, predictions_test)"
   ]
  },
  {
   "cell_type": "markdown",
   "id": "a68f5783",
   "metadata": {},
   "source": [
    "**Conclusiones:** Hemos experimentado con tres técnicas para tratar el desbalance de clases y ninguna ofreció mejor exactitud que el modelo de RandomForest entrenado sin tratamiento del desbalance. Esto se puede explicar con el siguiente análisis."
   ]
  },
  {
   "cell_type": "code",
   "execution_count": 59,
   "id": "7828c345",
   "metadata": {},
   "outputs": [
    {
     "data": {
      "image/png": "[encoded data removed]",
      "text/plain": [
       "<Figure size 576x432 with 1 Axes>"
      ]
     },
     "metadata": {
      "needs_background": "light"
     },
     "output_type": "display_data"
    }
   ],
   "source": [
    "data['age'].hist(bins = 25, density = True, figsize = (8,6))\n",
    "plt.xlabel('Edad del cliente')\n",
    "plt.ylabel('Densidad')\n",
    "plt.show()"
   ]
  },
  {
   "cell_type": "markdown",
   "id": "4317ea20",
   "metadata": {},
   "source": [
    "La mayoría de los clientes son personas jóvenes entre 30 y 40 años. "
   ]
  },
  {
   "cell_type": "code",
   "execution_count": 60,
   "id": "4dda8e53",
   "metadata": {},
   "outputs": [],
   "source": [
    "def grouped_age(row):\n",
    "    if 18 <= row['age'] <= 30:\n",
    "        return '18-30'\n",
    "    elif 30 < row['age'] <= 40:\n",
    "        return '31-40'\n",
    "    elif 40 < row['age'] <= 70: \n",
    "        return '41-70'\n",
    "    else: \n",
    "        '+70'\n",
    "data['grouped_age'] = data.apply(grouped_age, axis = 1)"
   ]
  },
  {
   "cell_type": "code",
   "execution_count": 61,
   "id": "a09076db",
   "metadata": {},
   "outputs": [
    {
     "data": {
      "text/html": [
       "<div>\n",
       "<style scoped>\n",
       "    .dataframe tbody tr th:only-of-type {\n",
       "        vertical-align: middle;\n",
       "    }\n",
       "\n",
       "    .dataframe tbody tr th {\n",
       "        vertical-align: top;\n",
       "    }\n",
       "\n",
       "    .dataframe thead th {\n",
       "        text-align: right;\n",
       "    }\n",
       "</style>\n",
       "<table border=\"1\" class=\"dataframe\">\n",
       "  <thead>\n",
       "    <tr style=\"text-align: right;\">\n",
       "      <th>exited</th>\n",
       "      <th>0</th>\n",
       "      <th>1</th>\n",
       "    </tr>\n",
       "    <tr>\n",
       "      <th>grouped_age</th>\n",
       "      <th></th>\n",
       "      <th></th>\n",
       "    </tr>\n",
       "  </thead>\n",
       "  <tbody>\n",
       "    <tr>\n",
       "      <th>18-30</th>\n",
       "      <td>0.184453</td>\n",
       "      <td>0.014999</td>\n",
       "    </tr>\n",
       "    <tr>\n",
       "      <th>31-40</th>\n",
       "      <td>0.396574</td>\n",
       "      <td>0.054525</td>\n",
       "    </tr>\n",
       "    <tr>\n",
       "      <th>41-70</th>\n",
       "      <td>0.213641</td>\n",
       "      <td>0.135806</td>\n",
       "    </tr>\n",
       "  </tbody>\n",
       "</table>\n",
       "</div>"
      ],
      "text/plain": [
       "exited              0         1\n",
       "grouped_age                    \n",
       "18-30        0.184453  0.014999\n",
       "31-40        0.396574  0.054525\n",
       "41-70        0.213641  0.135806"
      ]
     },
     "execution_count": 61,
     "metadata": {},
     "output_type": "execute_result"
    }
   ],
   "source": [
    "pd.crosstab(data['grouped_age'], data['exited'], normalize = True)"
   ]
  },
  {
   "cell_type": "markdown",
   "id": "2da2fd2a",
   "metadata": {},
   "source": [
    "El `58%` de los que se fieles al banco son personas jóvenes, que son la mayoría de los clientes del banco. Entonces, existe al menos una característica, en este caso la `edad` que explica el desbalance de clases. Debido a lo anterior, el modelo es capaz de identificar el desbalance y aprender de los datos considerando este desbalance. Si aplicamos técnicas de submuestreo o sobremuestreo, confundimos al modelo. "
   ]
  },
  {
   "cell_type": "markdown",
   "id": "a3cd69b9",
   "metadata": {},
   "source": [
    "## Curvas PR y ROC "
   ]
  },
  {
   "cell_type": "markdown",
   "id": "8a19f9c1",
   "metadata": {},
   "source": [
    "Vamos a observar como se comportan las curvas PR y ROC para el modelo logistico. "
   ]
  },
  {
   "cell_type": "code",
   "execution_count": 65,
   "id": "59c1e266",
   "metadata": {},
   "outputs": [
    {
     "data": {
      "text/plain": [
       "LogisticRegression(random_state=12345, solver='liblinear')"
      ]
     },
     "execution_count": 65,
     "metadata": {},
     "output_type": "execute_result"
    }
   ],
   "source": [
    "model_log = LogisticRegression(random_state = 12345, solver = 'liblinear')\n",
    "model_log.fit(features_train, target_train)"
   ]
  },
  {
   "cell_type": "code",
   "execution_count": 66,
   "id": "4f92b62b",
   "metadata": {},
   "outputs": [
    {
     "data": {
      "image/png": "[encoded data removed]",
      "text/plain": [
       "<Figure size 432x432 with 1 Axes>"
      ]
     },
     "metadata": {
      "needs_background": "light"
     },
     "output_type": "display_data"
    }
   ],
   "source": [
    "probabilities_test = model_log.predict_proba(features_test)\n",
    "precision, recall, thresholds = precision_recall_curve(target_test, probabilities_test[:, 1])\n",
    "\n",
    "plt.figure(figsize=(6, 6))\n",
    "plt.step(recall, precision, where='post')\n",
    "plt.xlabel('Recall')\n",
    "plt.ylabel('Precision')\n",
    "plt.ylim([0, 1])\n",
    "plt.xlim([0, 1])\n",
    "plt.title('PR Curve')\n",
    "plt.show()"
   ]
  },
  {
   "cell_type": "markdown",
   "id": "47598d35",
   "metadata": {},
   "source": [
    "Obtenemos una curva PR con un valor mínimo de `precisión` de más 0.2 y un máximo cercano 0.7. "
   ]
  },
  {
   "cell_type": "code",
   "execution_count": 67,
   "id": "0fce7245",
   "metadata": {},
   "outputs": [
    {
     "data": {
      "image/png": "[encoded data removed]",
      "text/plain": [
       "<Figure size 432x288 with 1 Axes>"
      ]
     },
     "metadata": {
      "needs_background": "light"
     },
     "output_type": "display_data"
    }
   ],
   "source": [
    "fpr, tpr, thresholds = roc_curve(target_test, probabilities_test[:, 1])\n",
    "\n",
    "plt.figure()\n",
    "plt.plot(fpr, tpr)\n",
    "plt.plot([0, 1], [0, 1], linestyle='--')\n",
    "plt.xlim([0,1]) \n",
    "plt.ylim([0,1]) \n",
    "plt.xlabel('Tasa de falsos positivos')\n",
    "plt.ylabel('Tasa de verdaderos positivos') \n",
    "plt.title('Curva ROC')\n",
    "plt.show()"
   ]
  },
  {
   "cell_type": "code",
   "execution_count": 68,
   "id": "2cce1481",
   "metadata": {},
   "outputs": [
    {
     "data": {
      "text/plain": [
       "0.7384461324206869"
      ]
     },
     "execution_count": 68,
     "metadata": {},
     "output_type": "execute_result"
    }
   ],
   "source": [
    "roc_auc_score(target_test, probabilities_test[:, 1])"
   ]
  },
  {
   "cell_type": "markdown",
   "id": "d1a50e07",
   "metadata": {},
   "source": [
    "Obtenemos un valor de la métrica `roc_auc_score` de `0.74` para el modelo de `LogisticRegression`."
   ]
  },
  {
   "cell_type": "code",
   "execution_count": 69,
   "id": "c72d3e46",
   "metadata": {},
   "outputs": [
    {
     "data": {
      "image/png": "[encoded data removed]",
      "text/plain": [
       "<Figure size 432x432 with 1 Axes>"
      ]
     },
     "metadata": {
      "needs_background": "light"
     },
     "output_type": "display_data"
    }
   ],
   "source": [
    "probabilities_test = model_forest.predict_proba(features_test)\n",
    "precision, recall, thresholds = precision_recall_curve(target_test, probabilities_test[:, 1])\n",
    "\n",
    "plt.figure(figsize=(6, 6))\n",
    "plt.step(recall, precision, where='post')\n",
    "plt.xlabel('Recall')\n",
    "plt.ylabel('Precision')\n",
    "plt.ylim([0, 1])\n",
    "plt.xlim([0, 1])\n",
    "plt.title('PR Curve')\n",
    "plt.show()"
   ]
  },
  {
   "cell_type": "markdown",
   "id": "e5fff222",
   "metadata": {},
   "source": [
    "Para el modelo de `RandomForestClassifier` obtenemos una curva `PR` con un mínimo de poco más de 0.2 y valores cercanos a 1 pero con valores muy pequeños de Recall. "
   ]
  },
  {
   "cell_type": "code",
   "execution_count": 70,
   "id": "e9577474",
   "metadata": {},
   "outputs": [
    {
     "data": {
      "image/png": "[encoded data removed]",
      "text/plain": [
       "<Figure size 432x288 with 1 Axes>"
      ]
     },
     "metadata": {
      "needs_background": "light"
     },
     "output_type": "display_data"
    }
   ],
   "source": [
    "fpr, tpr, thresholds = roc_curve(target_test, probabilities_test[:, 1])\n",
    "\n",
    "plt.figure()\n",
    "plt.plot(fpr, tpr)\n",
    "plt.plot([0, 1], [0, 1], linestyle='--')\n",
    "plt.xlim([0,1]) \n",
    "plt.ylim([0,1]) \n",
    "plt.xlabel('Tasa de falsos positivos')\n",
    "plt.ylabel('Tasa de verdaderos positivos') \n",
    "plt.title('Curva ROC')\n",
    "plt.show()"
   ]
  },
  {
   "cell_type": "code",
   "execution_count": 71,
   "id": "22163f43",
   "metadata": {},
   "outputs": [
    {
     "data": {
      "text/plain": [
       "0.817628108552163"
      ]
     },
     "execution_count": 71,
     "metadata": {},
     "output_type": "execute_result"
    }
   ],
   "source": [
    "roc_auc_score(target_test, probabilities_test[:, 1])"
   ]
  },
  {
   "cell_type": "markdown",
   "id": "8b4f0ddb",
   "metadata": {},
   "source": [
    "Para el modelo `RandomForestClassifier` obtemos una métrica `roc_auc_score` 0.82, mejorando la del modelo `LogisticRegression`."
   ]
  },
  {
   "cell_type": "markdown",
   "id": "556e5d83",
   "metadata": {},
   "source": [
    "## Conclusiones finales\n",
    "\n",
    "Después de preparar los datos adecuadamente utilizando la codificación `One-Hot` para las características categóricas y escalamiento para las características numéricas, hemos experimentado con varios tipos de modelos de clasificación, variando los hiperparámetros para obtimizar la métrica de exactitud y aplicando técnicas para el desbalance de clases que encontramos. Obtuvimos las siguientes conclusiones:\n",
    "\n",
    "* El modelo `RandomForestClassifier` con hiperparámetros `n_estimators = 20` y `max_depth = 8` muestra mejores métricas. \n",
    "\n",
    "* Las técnicas para manejar el balace de clases de no mejoran las métricas. Esto se debe a que las características explican el desbalance de clases y esto lo identifica el modelo. \n",
    "\n",
    "* La métrica `roc_auc_score` también es más alta para el model `RandomForestClassifier`. Con los hiperparámetros antes mencionados. "
   ]
  }
 ],
 "metadata": {
  "kernelspec": {
   "display_name": "Python 3 (ipykernel)",
   "language": "python",
   "name": "python3"
  },
  "language_info": {
   "codemirror_mode": {
    "name": "ipython",
    "version": 3
   },
   "file_extension": ".py",
   "mimetype": "text/x-python",
   "name": "python",
   "nbconvert_exporter": "python",
   "pygments_lexer": "ipython3",
   "version": "3.9.12"
  },
  "toc": {
   "base_numbering": 1,
   "nav_menu": {},
   "number_sections": true,
   "sideBar": true,
   "skip_h1_title": true,
   "title_cell": "Table of Contents",
   "title_sidebar": "Contents",
   "toc_cell": false,
   "toc_position": {},
   "toc_section_display": true,
   "toc_window_display": false
  }
 },
 "nbformat": 4,
 "nbformat_minor": 5
}
